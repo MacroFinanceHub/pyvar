{
 "metadata": {
  "name": "",
  "signature": "sha256:c9d31b9b418dcd2cef7cbabf9085ce8b193d112c2bcecb085b3c034b7a820863"
 },
 "nbformat": 3,
 "nbformat_minor": 0,
 "worksheets": [
  {
   "cells": [
    {
     "cell_type": "code",
     "collapsed": false,
     "input": [
      "%load_ext autoreload\n",
      "%autoreload 2"
     ],
     "language": "python",
     "outputs": [],
     "prompt_number": 1
    },
    {
     "cell_type": "code",
     "collapsed": false,
     "input": [
      "from varprior import SimsZhaSVARPrior, ExternalInstrumentsSVARPrior\n",
      "\n",
      "yy = np.random.normal(size=(100, 2))\n",
      "hyper = np.ones((7, ))\n",
      "\n",
      "restriction = np.ones((2, 2), dtype=bool)\n",
      "sz = SimsZhaSVARPrior(yy, hyper, p=1, restriction=restriction)\n",
      "from scipy.stats import norm, gamma, uniform\n",
      "\n"
     ],
     "language": "python",
     "outputs": [],
     "prompt_number": 2
    },
    {
     "cell_type": "code",
     "collapsed": false,
     "input": [
      "from dsge import StateSpaceModel\n",
      "\n",
      "from scipy.stats import norm\n",
      "class UnivariateExInst(object):\n",
      "\n",
      "    def __init__(self, a0=1, sigeps=0.1, bet=1, signu=0.2, a1=0.9):\n",
      "        self.a0=a0\n",
      "        self.sigeps=sigeps\n",
      "        self.bet=bet\n",
      "        self.signu=signu\n",
      "        self.a1=a1\n",
      "        print 'reliability:',  bet**2*sigeps**2 / (bet**2*sigeps**2 + signu**2)\n",
      "        self.y, self.m, self.eps, self.nu = UnivariateExInst.simulate(a0=a0, sigeps=sigeps, bet=bet, signu=signu, a1=a1)\n",
      "\n",
      "    @classmethod\n",
      "    def simulate(self, a0=1, sigeps=0.1, bet=1, signu=0.2, a1=0.9, nsim=500):\n",
      "        y = np.zeros((2*nsim, ))\n",
      "        m = np.zeros((2*nsim, ))\n",
      "\n",
      "        eps = norm.rvs(size=2*nsim)\n",
      "        nu = norm.rvs(size=2*nsim)\n",
      "        \n",
      "        for i in range(1, 2*nsim):\n",
      "            y[i] = a1/a0*y[i-1] + sigeps/a0 * eps[i]\n",
      "            m[i] = bet * sigeps * eps[i] + signu * nu[i]\n",
      "\n",
      "        return y[nsim:], m[nsim:], eps[nsim:], nu[nsim:]\n",
      "\n",
      "    def condlik(self, x):\n",
      "        a1 = x[0]\n",
      "        bet = x[1]\n",
      "        sigeps = x[2]\n",
      "        signu = x[3]\n",
      "\n",
      "        y = self.y\n",
      "\n",
      "        rho = bet**2 * sigeps**2 / (bet**2*sigeps**2+signu**2)\n",
      "        m = self.m\n",
      "        pred = y[1:] - a1*y[:-1] - rho/bet * m[1:]\n",
      "\n",
      "\n",
      "\n",
      "        return -norm(scale=sigeps*np.sqrt(1-rho)).logpdf(pred).sum()\n",
      "\n",
      "    def lik(self, x):\n",
      "        a1 = x[0]\n",
      "        bet = x[1]\n",
      "        sigeps = x[2]\n",
      "        signu = x[3]\n",
      "\n",
      "        y = self.y\n",
      "        m = self.m\n",
      "        pred = y[1:] - a1*y[:-1] - 1./bet * m[1:]\n",
      "\n",
      "        marglik = -norm(scale=np.sqrt(bet**2*sigeps**2+signu**2)).logpdf(m[1:]).sum()\n",
      "        return self.condlik(x) + marglik\n",
      "        \n",
      "from scipy.optimize import minimize\n",
      "ex = UnivariateExInst()\n",
      "minimize(ex.lik, [0.3, 2, 0.55, 1], method='Nelder-Mead')\n"
     ],
     "language": "python",
     "outputs": [
      {
       "output_type": "stream",
       "stream": "stdout",
       "text": [
        "reliability: 0.2\n"
       ]
      },
      {
       "output_type": "pyout",
       "prompt_number": 3,
       "text": [
        "  status: 0\n",
        "    nfev: 320\n",
        " success: True\n",
        "     fun: -532.80618558038691\n",
        "       x: array([ 0.90179712,  0.93519662,  0.10174675,  0.19782148])\n",
        " message: 'Optimization terminated successfully.'\n",
        "     nit: 183"
       ]
      }
     ],
     "prompt_number": 3
    },
    {
     "cell_type": "code",
     "collapsed": false,
     "input": [
      "class BivariateExInst(object):\n",
      "\n",
      "    def __init__(self, A0=np.array([[1, 0.6], [0.1, 1]]), beta=0.15, rho=0.3):\n",
      "        self.A0 = A0\n",
      "        self.beta = beta\n",
      "        self.rho = rho\n",
      "\n",
      "        Atilde = np.zeros((3, 3))\n",
      "        Atilde[:, :2][:2, :] = A0\n",
      "        Atilde[2, 2] = 1\n",
      "\n",
      "        I = np.eye(3)\n",
      "        I[0, 2] = beta\n",
      "        I[2, 2] = beta*np.sqrt( (1-rho)/rho)\n",
      "        \n",
      "        Atilde = Atilde.dot(np.linalg.inv(I))\n",
      "        sigma = np.linalg.inv(Atilde.dot(Atilde.T))\n",
      "        \n",
      "        self.Atilde = Atilde\n",
      "        self.sigma = sigma\n",
      "\n",
      "    def simulate(self, nsim=1000):\n",
      "\n",
      "        from scipy.stats import multivariate_normal\n",
      "\n",
      "        u = multivariate_normal(cov=self.sigma)\n",
      "\n",
      "        return u.rvs(size=nsim)\n",
      "\n",
      "    def mertens_ravn(self, yy):\n",
      "        u1 = yy[:, 0]\n",
      "        u2 = yy[:, 1]\n",
      "        m = yy[:, 2]\n",
      "\n",
      "        z = m.dot(u1)/(m.dot(m))*m\n",
      "        return z.dot(u2)/(z.dot(z))\n",
      "\n",
      "    def mertens_ravn_reliability(self, yy):\n",
      "        u1 = yy[:, 0]\n",
      "        u2 = yy[:, 1]\n",
      "        m = yy[:, 2]\n",
      "\n",
      "\n",
      "        b1 = self.mertens_ravn_2(yy)\n",
      "        \n",
      "        nsim = u1.shape[0]\n",
      "        return (m.dot(u1)/(nsim*b1))**2/m.var()\n",
      "\n",
      "    def mertens_ravn_reliability2(self, yy):\n",
      "\n",
      "\n",
      "        \n",
      "        nsim = u1.shape[0]\n",
      "        \n",
      "\n",
      "    def mertens_ravn_2(self, yy):\n",
      "        u1 = yy[:, 0]\n",
      "        u2 = yy[:, 1]\n",
      "        m = yy[:, 2]\n",
      "\n",
      "        sig = np.cov(yy.T, ddof=0)\n",
      "\n",
      "        beta_ratio = u2.dot(m)/u1.dot(m)\n",
      "\n",
      "        z = beta_ratio**2/sig[0, 0] - (2*sig[1, 0]*beta_ratio) + sig[1, 1]\n",
      "        beta_2_squared = (sig[1, 0] - beta_ratio*sig[0, 0])**2/z\n",
      "        beta_1 = np.sqrt(sig[0, 0]-beta_2_squared)\n",
      "\n",
      "        return beta_1\n",
      "\n",
      "    def lik(self, yy, x, normalize=True):\n",
      "        a11 = x[0]\n",
      "        a12 = x[1]\n",
      "        a21 = x[2]\n",
      "        a22 = x[3]\n",
      "        beta = x[4]\n",
      "        rho = x[5]\n",
      "\n",
      "        if normalize==True:\n",
      "            a11 = 1\n",
      "            x[0] = 1\n",
      "            \n",
      "        A0 = np.array([[a11, a12], [a21, a22]])\n",
      "        Atilde = np.zeros((3, 3))\n",
      "        Atilde[:, :2][:2, :] = A0\n",
      "        Atilde[2, 2] = 1\n",
      "\n",
      "        I = np.eye(3)\n",
      "\n",
      "        I[0, 2] = beta\n",
      "        I[2, 2] = beta*np.sqrt( (1-rho)/rho)\n",
      "        \n",
      "        I[0, 2] = 0\n",
      "        I[2, 2] = rho\n",
      "\n",
      "        Atilde = Atilde.dot(np.linalg.inv(I))\n",
      "        sigma = np.linalg.inv(Atilde.dot(Atilde.T))\n",
      "        from scipy.stats import multivariate_normal\n",
      "        u = multivariate_normal(cov=sigma)\n",
      "\n",
      " \n",
      "        return -u.logpdf(yy).sum()\n",
      "        \n",
      "    \n",
      "ex = BivariateExInst(rho=0.10)\n",
      "yy = ex.simulate(nsim=100)\n",
      "\n",
      "\n",
      "impact = np.linalg.inv(ex.A0)[0, :]\n",
      "rho_low = [ex.mertens_ravn_reliability(ex.simulate(nsim=100)) for _ in range(1000)]\n",
      "\n",
      "ex = BivariateExInst(rho=0.9)\n",
      "rho_high = [ex.mertens_ravn_reliability(ex.simulate(nsim=100)) for _ in range(1000)]\n",
      "\n",
      "\n",
      "import pandas as p\n",
      "print impact[1], impact[1]/impact[0]\n",
      "df = p.DataFrame({'rho_low':rho_low, 'rho_high': rho_high})\n",
      "print df.mean()\n",
      "\n",
      "df.dropna().plot(kind='kde', xlim=(0, 2))\n",
      "\n",
      "\n",
      "# true_impact_y2 = -ex.A0[0, 1]/np.linalg.det(ex.A0)\n",
      "# print true_impact_y2, true_impact_y2/true_impact_y1\n",
      "true_impact_y1 = 1./ex.A0[0, 0] + ex.A0[1, 0]*ex.A0[0, 1]/(ex.A0[0, 0]*np.linalg.det(ex.A0))\n",
      "#print true_impact_y1\n",
      "\n"
     ],
     "language": "python",
     "outputs": [
      {
       "output_type": "stream",
       "stream": "stdout",
       "text": [
        "-0.63829787234 -0.6\n",
        "rho_high    0.921128\n",
        "rho_low     0.118465\n",
        "dtype: float64\n"
       ]
      },
      {
       "output_type": "display_data",
       "png": "[encoded data removed]",
       "text": [
        "<matplotlib.figure.Figure at 0x2ad1151f7490>"
       ]
      }
     ],
     "prompt_number": 4
    },
    {
     "cell_type": "code",
     "collapsed": false,
     "input": [
      "ei = ExternalInstrumentsSVARPrior(yy[:, :-1], hyper, p=1, restriction=restriction, gamma=norm(), rho=uniform())\n",
      "\n",
      "x = sz.rvs(size=20, flatten=True).mean(0)\n",
      "print x\n",
      "sz.para_trans(x)"
     ],
     "language": "python",
     "outputs": [
      {
       "output_type": "stream",
       "stream": "stdout",
       "text": [
        "[ 0.1194741  -0.11997393 -0.08803873 -0.01429313 -0.00662443  0.06674315\n",
        " -0.05117347  0.1768293   0.09691488 -0.0184143 ]\n"
       ]
      },
      {
       "output_type": "pyout",
       "prompt_number": 5,
       "text": [
        "(array([[ 0.1194741 , -0.08803873],\n",
        "        [-0.11997393, -0.01429313]]), array([[-0.00662443,  0.1768293 ],\n",
        "        [ 0.06674315,  0.09691488],\n",
        "        [-0.05117347, -0.0184143 ]]))"
       ]
      }
     ],
     "prompt_number": 5
    },
    {
     "cell_type": "code",
     "collapsed": false,
     "input": [
      "from pyvar import BayesianVAR\n",
      "\n",
      "print ei.para_trans(x)\n",
      "print BayesianVAR(ei, yy).loglik(x)\n",
      "print "
     ],
     "language": "python",
     "outputs": [
      {
       "ename": "ValueError",
       "evalue": "total size of new array must be unchanged",
       "output_type": "pyerr",
       "traceback": [
        "\u001b[1;31m---------------------------------------------------------------------------\u001b[0m\n\u001b[1;31mValueError\u001b[0m                                Traceback (most recent call last)",
        "\u001b[1;32m<ipython-input-7-0f367fb6f72d>\u001b[0m in \u001b[0;36m<module>\u001b[1;34m()\u001b[0m\n\u001b[0;32m      1\u001b[0m \u001b[1;32mfrom\u001b[0m \u001b[0mpyvar\u001b[0m \u001b[1;32mimport\u001b[0m \u001b[0mBayesianVAR\u001b[0m\u001b[1;33m\u001b[0m\u001b[0m\n\u001b[0;32m      2\u001b[0m \u001b[1;33m\u001b[0m\u001b[0m\n\u001b[1;32m----> 3\u001b[1;33m \u001b[1;32mprint\u001b[0m \u001b[0mei\u001b[0m\u001b[1;33m.\u001b[0m\u001b[0mpara_trans\u001b[0m\u001b[1;33m(\u001b[0m\u001b[0mx\u001b[0m\u001b[1;33m)\u001b[0m\u001b[1;33m\u001b[0m\u001b[0m\n\u001b[0m\u001b[0;32m      4\u001b[0m \u001b[1;32mprint\u001b[0m \u001b[0mBayesianVAR\u001b[0m\u001b[1;33m(\u001b[0m\u001b[0mei\u001b[0m\u001b[1;33m,\u001b[0m \u001b[0myy\u001b[0m\u001b[1;33m)\u001b[0m\u001b[1;33m.\u001b[0m\u001b[0mloglik\u001b[0m\u001b[1;33m(\u001b[0m\u001b[0mx\u001b[0m\u001b[1;33m)\u001b[0m\u001b[1;33m\u001b[0m\u001b[0m\n\u001b[0;32m      5\u001b[0m \u001b[1;32mprint\u001b[0m\u001b[1;33m\u001b[0m\u001b[0m\n",
        "\u001b[1;32m/lcl/mq/home/m1eph00/python-repo/var/varprior.py\u001b[0m in \u001b[0;36mpara_trans\u001b[1;34m(self, *args, **kwargs)\u001b[0m\n\u001b[0;32m    304\u001b[0m         \u001b[0mdtype\u001b[0m\u001b[1;33m=\u001b[0m\u001b[0mkwargs\u001b[0m\u001b[1;33m.\u001b[0m\u001b[0mpop\u001b[0m\u001b[1;33m(\u001b[0m\u001b[1;34m'dtype'\u001b[0m\u001b[1;33m,\u001b[0m \u001b[0mfloat\u001b[0m\u001b[1;33m)\u001b[0m\u001b[1;33m\u001b[0m\u001b[0m\n\u001b[0;32m    305\u001b[0m         \u001b[1;32mif\u001b[0m \u001b[0mlen\u001b[0m\u001b[1;33m(\u001b[0m\u001b[0margs\u001b[0m\u001b[1;33m)\u001b[0m \u001b[1;33m==\u001b[0m \u001b[1;36m1\u001b[0m\u001b[1;33m:\u001b[0m\u001b[1;33m\u001b[0m\u001b[0m\n\u001b[1;32m--> 306\u001b[1;33m             \u001b[0mA0\u001b[0m\u001b[1;33m,\u001b[0m \u001b[0mAplus\u001b[0m \u001b[1;33m=\u001b[0m \u001b[0msuper\u001b[0m\u001b[1;33m(\u001b[0m\u001b[0mExternalInstrumentsSVARPrior\u001b[0m\u001b[1;33m,\u001b[0m \u001b[0mself\u001b[0m\u001b[1;33m)\u001b[0m\u001b[1;33m.\u001b[0m\u001b[0mpara_trans\u001b[0m\u001b[1;33m(\u001b[0m\u001b[0margs\u001b[0m\u001b[1;33m[\u001b[0m\u001b[1;36m0\u001b[0m\u001b[1;33m]\u001b[0m\u001b[1;33m[\u001b[0m\u001b[1;33m:\u001b[0m\u001b[1;33m-\u001b[0m\u001b[1;36m2\u001b[0m\u001b[1;33m]\u001b[0m\u001b[1;33m,\u001b[0m \u001b[0mdtype\u001b[0m\u001b[1;33m=\u001b[0m\u001b[0mdtype\u001b[0m\u001b[1;33m)\u001b[0m\u001b[1;33m\u001b[0m\u001b[0m\n\u001b[0m\u001b[0;32m    307\u001b[0m             \u001b[0mrho\u001b[0m \u001b[1;33m=\u001b[0m \u001b[0margs\u001b[0m\u001b[1;33m[\u001b[0m\u001b[1;36m0\u001b[0m\u001b[1;33m]\u001b[0m\u001b[1;33m[\u001b[0m\u001b[1;33m-\u001b[0m\u001b[1;36m1\u001b[0m\u001b[1;33m]\u001b[0m\u001b[1;33m\u001b[0m\u001b[0m\n\u001b[0;32m    308\u001b[0m             \u001b[0mgam\u001b[0m \u001b[1;33m=\u001b[0m \u001b[0margs\u001b[0m\u001b[1;33m[\u001b[0m\u001b[1;36m0\u001b[0m\u001b[1;33m]\u001b[0m\u001b[1;33m[\u001b[0m\u001b[1;33m-\u001b[0m\u001b[1;36m2\u001b[0m\u001b[1;33m]\u001b[0m\u001b[1;33m\u001b[0m\u001b[0m\n",
        "\u001b[1;32m/lcl/mq/home/m1eph00/python-repo/var/varprior.py\u001b[0m in \u001b[0;36mpara_trans\u001b[1;34m(self, *args, **kwargs)\u001b[0m\n\u001b[0;32m    265\u001b[0m             \u001b[0mA0\u001b[0m \u001b[1;33m=\u001b[0m \u001b[0mnp\u001b[0m\u001b[1;33m.\u001b[0m\u001b[0mzeros\u001b[0m\u001b[1;33m(\u001b[0m\u001b[1;33m(\u001b[0m\u001b[0mn\u001b[0m\u001b[1;33m,\u001b[0m \u001b[0mn\u001b[0m\u001b[1;33m)\u001b[0m\u001b[1;33m,\u001b[0m\u001b[0morder\u001b[0m\u001b[1;33m=\u001b[0m\u001b[1;34m'F'\u001b[0m\u001b[1;33m,\u001b[0m \u001b[0mdtype\u001b[0m\u001b[1;33m=\u001b[0m\u001b[0mdtype\u001b[0m\u001b[1;33m)\u001b[0m\u001b[1;33m\u001b[0m\u001b[0m\n\u001b[0;32m    266\u001b[0m             \u001b[0mA0\u001b[0m\u001b[1;33m.\u001b[0m\u001b[0mT\u001b[0m\u001b[1;33m[\u001b[0m\u001b[0mself\u001b[0m\u001b[1;33m.\u001b[0m\u001b[0mrestrictions\u001b[0m\u001b[1;33m[\u001b[0m\u001b[1;34m'A0'\u001b[0m\u001b[1;33m]\u001b[0m\u001b[1;33m.\u001b[0m\u001b[0mT\u001b[0m\u001b[1;33m]\u001b[0m \u001b[1;33m=\u001b[0m \u001b[0mtheta\u001b[0m\u001b[1;33m[\u001b[0m\u001b[1;33m:\u001b[0m\u001b[0mself\u001b[0m\u001b[1;33m.\u001b[0m\u001b[0mn_a0_free\u001b[0m\u001b[1;33m]\u001b[0m\u001b[1;33m\u001b[0m\u001b[0m\n\u001b[1;32m--> 267\u001b[1;33m             \u001b[0mAplus\u001b[0m \u001b[1;33m=\u001b[0m \u001b[0mnp\u001b[0m\u001b[1;33m.\u001b[0m\u001b[0mreshape\u001b[0m\u001b[1;33m(\u001b[0m\u001b[0mtheta\u001b[0m\u001b[1;33m[\u001b[0m\u001b[0mself\u001b[0m\u001b[1;33m.\u001b[0m\u001b[0mn_a0_free\u001b[0m\u001b[1;33m:\u001b[0m\u001b[1;33m]\u001b[0m\u001b[1;33m,\u001b[0m \u001b[1;33m(\u001b[0m\u001b[0mn\u001b[0m\u001b[1;33m*\u001b[0m\u001b[0mp\u001b[0m\u001b[1;33m+\u001b[0m\u001b[0mcons\u001b[0m\u001b[1;33m,\u001b[0m \u001b[0mn\u001b[0m\u001b[1;33m)\u001b[0m\u001b[1;33m,\u001b[0m \u001b[0morder\u001b[0m\u001b[1;33m=\u001b[0m\u001b[1;34m'F'\u001b[0m\u001b[1;33m)\u001b[0m\u001b[1;33m\u001b[0m\u001b[0m\n\u001b[0m\u001b[0;32m    268\u001b[0m         \u001b[1;32melse\u001b[0m\u001b[1;33m:\u001b[0m\u001b[1;33m\u001b[0m\u001b[0m\n\u001b[0;32m    269\u001b[0m             \u001b[0mA0\u001b[0m \u001b[1;33m=\u001b[0m \u001b[0margs\u001b[0m\u001b[1;33m[\u001b[0m\u001b[1;36m0\u001b[0m\u001b[1;33m]\u001b[0m\u001b[1;33m\u001b[0m\u001b[0m\n",
        "\u001b[1;32m/mq/home/m1eph00/anaconda/lib/python2.7/site-packages/numpy/core/fromnumeric.pyc\u001b[0m in \u001b[0;36mreshape\u001b[1;34m(a, newshape, order)\u001b[0m\n\u001b[0;32m    216\u001b[0m     \u001b[1;32mexcept\u001b[0m \u001b[0mAttributeError\u001b[0m\u001b[1;33m:\u001b[0m\u001b[1;33m\u001b[0m\u001b[0m\n\u001b[0;32m    217\u001b[0m         \u001b[1;32mreturn\u001b[0m \u001b[0m_wrapit\u001b[0m\u001b[1;33m(\u001b[0m\u001b[0ma\u001b[0m\u001b[1;33m,\u001b[0m \u001b[1;34m'reshape'\u001b[0m\u001b[1;33m,\u001b[0m \u001b[0mnewshape\u001b[0m\u001b[1;33m,\u001b[0m \u001b[0morder\u001b[0m\u001b[1;33m=\u001b[0m\u001b[0morder\u001b[0m\u001b[1;33m)\u001b[0m\u001b[1;33m\u001b[0m\u001b[0m\n\u001b[1;32m--> 218\u001b[1;33m     \u001b[1;32mreturn\u001b[0m \u001b[0mreshape\u001b[0m\u001b[1;33m(\u001b[0m\u001b[0mnewshape\u001b[0m\u001b[1;33m,\u001b[0m \u001b[0morder\u001b[0m\u001b[1;33m=\u001b[0m\u001b[0morder\u001b[0m\u001b[1;33m)\u001b[0m\u001b[1;33m\u001b[0m\u001b[0m\n\u001b[0m\u001b[0;32m    219\u001b[0m \u001b[1;33m\u001b[0m\u001b[0m\n\u001b[0;32m    220\u001b[0m \u001b[1;33m\u001b[0m\u001b[0m\n",
        "\u001b[1;31mValueError\u001b[0m: total size of new array must be unchanged"
       ]
      }
     ],
     "prompt_number": 7
    },
    {
     "cell_type": "code",
     "collapsed": false,
     "input": [
      "\n",
      "sz = SimsZhaSVARPrior(yy[:, :-1], hyper, p=1, restriction=restriction)\n",
      "x = sz.rvs(size=1000).mean(0)\n",
      "\n",
      "import sympy\n",
      "ei = ExternalInstrumentsSVARPrior(yy[:, :-1], hyper, p=1, restriction=restriction, gamma=norm(), rho=uniform())\n",
      "x =ei.rvs(size=100, flatten=True).mean(0)\n",
      "x = sympy.symbols(['para{:02d}'.format(i) for i in range(x.size)])\n",
      "a0, aplus = ei.para_trans(x, dtype=object)\n",
      "\n",
      "mat_str = lambda *x: '\\t{}[{}, {}] = {}'.format(*x)\n",
      "A0str = [mat_str('A0', i+1, j+1, value)\n",
      "         for (i, j), value in np.ndenumerate(a0) if value > 0]\n",
      "\n",
      "print A0str\n",
      "\n",
      "A0 = sympy.MatrixSymbol('A0', 3, 3)\n",
      "#sympy.fcode(a0, A0)\n"
     ],
     "language": "python",
     "outputs": [
      {
       "output_type": "stream",
       "stream": "stdout",
       "text": [
        "['\\tA0[1, 1] = para00', '\\tA0[1, 2] = para02', '\\tA0[1, 3] = -para00/sqrt((-para11 + 1)/para11)', '\\tA0[2, 1] = para01', '\\tA0[2, 2] = para03', '\\tA0[2, 3] = -para01/sqrt((-para11 + 1)/para11)', '\\tA0[3, 3] = 1.0/(para10*sqrt((-para11 + 1)/para11))']\n"
       ]
      },
      {
       "ename": "TypeError",
       "evalue": "fcode() takes exactly 1 argument (2 given)",
       "output_type": "pyerr",
       "traceback": [
        "\u001b[1;31m---------------------------------------------------------------------------\u001b[0m\n\u001b[1;31mTypeError\u001b[0m                                 Traceback (most recent call last)",
        "\u001b[1;32m<ipython-input-36-e427c143353d>\u001b[0m in \u001b[0;36m<module>\u001b[1;34m()\u001b[0m\n\u001b[0;32m     16\u001b[0m \u001b[1;33m\u001b[0m\u001b[0m\n\u001b[0;32m     17\u001b[0m \u001b[0mA0\u001b[0m \u001b[1;33m=\u001b[0m \u001b[0msympy\u001b[0m\u001b[1;33m.\u001b[0m\u001b[0mMatrixSymbol\u001b[0m\u001b[1;33m(\u001b[0m\u001b[1;34m'A0'\u001b[0m\u001b[1;33m,\u001b[0m \u001b[1;36m3\u001b[0m\u001b[1;33m,\u001b[0m \u001b[1;36m3\u001b[0m\u001b[1;33m)\u001b[0m\u001b[1;33m\u001b[0m\u001b[0m\n\u001b[1;32m---> 18\u001b[1;33m \u001b[0msympy\u001b[0m\u001b[1;33m.\u001b[0m\u001b[0mfcode\u001b[0m\u001b[1;33m(\u001b[0m\u001b[0ma0\u001b[0m\u001b[1;33m,\u001b[0m \u001b[0mA0\u001b[0m\u001b[1;33m)\u001b[0m\u001b[1;33m\u001b[0m\u001b[0m\n\u001b[0m",
        "\u001b[1;31mTypeError\u001b[0m: fcode() takes exactly 1 argument (2 given)"
       ]
      }
     ],
     "prompt_number": 36
    },
    {
     "cell_type": "code",
     "collapsed": false,
     "input": [
      "x = np.zeros((2, 2))\n",
      "y = np.ones((2, 2), dtype=bool)\n",
      "y[0, 0] = False\n",
      "\n",
      "x"
     ],
     "language": "python",
     "outputs": [
      {
       "output_type": "pyout",
       "prompt_number": 48,
       "text": [
        "array([[ 0.,  0.],\n",
        "       [ 0.,  0.]])"
       ]
      }
     ],
     "prompt_number": 48
    },
    {
     "cell_type": "code",
     "collapsed": false,
     "input": [
      "sz.para_trans(sz.rvs(size=1000).mean(0))"
     ],
     "language": "python",
     "outputs": [
      {
       "output_type": "pyout",
       "prompt_number": 37,
       "text": [
        "(array([[ 0.03217511, -0.02605768],\n",
        "        [ 0.02701012, -0.03136076]]), array([[ 0.01581557, -0.01192812],\n",
        "        [ 0.01581131, -0.02059388],\n",
        "        [ 0.00324801, -0.00100885]]))"
       ]
      }
     ],
     "prompt_number": 37
    },
    {
     "cell_type": "code",
     "collapsed": false,
     "input": [
      " #[1, 0.6, 0.1, 1, 0.15, x])\n",
      "\n",
      "# x = np.linspace(0.01, 0.99, 100)\n",
      "# fx = [f(xi) for xi in x]\n",
      "# plot(x, fx)\n",
      "#\n",
      "# def callback(x):\n",
      "#     print f(x)\n",
      "#     return\n",
      "\n",
      "bounds=[(None, None), (None, None), (None, None), (None, None), (None, None), (0.01, 0.99)]\n",
      "print f([1, 0.6, 0.1, 1, 0.15, 0.3])\n",
      "x0 = [21, 0.43, 10, 4, 0.65, 0.9]\n",
      "def do_sim(rho=0.1):\n",
      "    ex = BivariateExInst(rho=rho)\n",
      "    yy = ex.simulate(nsim=1000)\n",
      "\n",
      "    f = lambda x: ex.lik(yy, x, normalize=False)\n",
      "\n",
      "    res = minimize(f, x0, bounds=bounds, method='L-BFGS-B', options=dict(disp=False))\n",
      "\n",
      "    x = res.x\n",
      "    coef = x[0]/abs(x[0])\n",
      "    x[0] = x[0]*coef\n",
      "    x[2] = x[2]*coef\n",
      "\n",
      "    coef = x[3]/abs(x[3])\n",
      "    x[1] = x[1]*coef\n",
      "    x[3] = x[3]*coef\n",
      "\n",
      "    if res.success==False:\n",
      "        return np.nan\n",
      "\n",
      "    resp = -x[1]/(x[0]*x[3]-x[1]*x[2])\n",
      "    print x\n",
      "    if resp > 0:\n",
      "\n",
      "        print res\n",
      "    return resp\n",
      "\n",
      "rho_low = np.array([do_sim(rho=0.9) for _ in range(100)])\n",
      "#rho_low.mean()"
     ],
     "language": "python",
     "outputs": [
      {
       "output_type": "stream",
       "stream": "stdout",
       "text": [
        "265.117417431\n",
        "[ 1.11753614 -0.39965991  0.82409018  0.54385842  0.65        0.15416797]"
       ]
      },
      {
       "output_type": "stream",
       "stream": "stdout",
       "text": [
        "\n",
        "  status: 0\n",
        " success: True\n",
        "    nfev: 160\n",
        "     fun: 2452.0148834469014\n",
        "       x: array([ 1.11753614, -0.39965991,  0.82409018,  0.54385842,  0.65      ,\n",
        "        0.15416797])\n",
        " message: 'CONVERGENCE: REL_REDUCTION_OF_F_<=_FACTR*EPSMCH'\n",
        "     jac: array([-0.03001333,  0.03396963,  0.03083187, -0.01214175,  0.        ,\n",
        "       -0.00591172])\n",
        "     nit: 13\n",
        "[ 1.00600738  0.49063072  0.9102733  -0.46289121  0.65        0.16491303]"
       ]
      },
      {
       "output_type": "stream",
       "stream": "stdout",
       "text": [
        "\n",
        "  status: 0\n",
        " success: True\n",
        "    nfev: 176\n",
        "     fun: 2546.2967664804937\n",
        "       x: array([ 1.00600738,  0.49063072,  0.9102733 , -0.46289121,  0.65      ,\n",
        "        0.16491303])\n",
        " message: 'CONVERGENCE: REL_REDUCTION_OF_F_<=_FACTR*EPSMCH'\n",
        "     jac: array([-0.00013642,  0.00272848, -0.00259206, -0.00168257,  0.        ,\n",
        "       -0.12128112])\n",
        "     nit: 15\n",
        "[ 1.07453294  0.41079411  0.84607478 -0.54015615  0.65        0.16217244]"
       ]
      },
      {
       "output_type": "stream",
       "stream": "stdout",
       "text": [
        "\n",
        "  status: 0\n",
        " success: True\n",
        "    nfev: 184\n",
        "     fun: 2512.467396293287\n",
        "       x: array([ 1.07453294,  0.41079411,  0.84607478, -0.54015615,  0.65      ,\n",
        "        0.16217244])\n",
        " message: 'CONVERGENCE: REL_REDUCTION_OF_F_<=_FACTR*EPSMCH'\n",
        "     jac: array([-0.00068212, -0.00040927,  0.00027285,  0.0005457 ,  0.        ,\n",
        "       -0.00027285])\n",
        "     nit: 14\n",
        "[ 1.05200032  0.46950156  0.90967853 -0.48250183  0.65        0.16278533]"
       ]
      },
      {
       "output_type": "stream",
       "stream": "stdout",
       "text": [
        "\n",
        "  status: 0\n",
        " success: True\n",
        "    nfev: 176\n",
        "     fun: 2509.0359446289563\n",
        "       x: array([ 1.05200032,  0.46950156,  0.90967853, -0.48250183,  0.65      ,\n",
        "        0.16278533])\n",
        " message: 'CONVERGENCE: REL_REDUCTION_OF_F_<=_FACTR*EPSMCH'\n",
        "     jac: array([  9.54969437e-04,  -4.54747351e-05,   5.45696821e-04,\n",
        "         3.18323146e-04,   0.00000000e+00,   1.45519152e-03])\n",
        "     nit: 15\n",
        "[-0.97751475 -0.5763538  -0.88715112  0.39604094  0.65        0.16338645]"
       ]
      },
      {
       "output_type": "stream",
       "stream": "stdout",
       "text": [
        "\n",
        "[ 1.1223619   0.43448952  0.88542538 -0.54036341  0.65        0.15447366]"
       ]
      },
      {
       "output_type": "stream",
       "stream": "stdout",
       "text": [
        "\n",
        "  status: 0\n",
        " success: True\n",
        "    nfev: 192\n",
        "     fun: 2397.9340611781049\n",
        "       x: array([ 1.1223619 ,  0.43448952,  0.88542538, -0.54036341,  0.65      ,\n",
        "        0.15447366])\n",
        " message: 'CONVERGENCE: REL_REDUCTION_OF_F_<=_FACTR*EPSMCH'\n",
        "     jac: array([ 0.00491127,  0.00022737,  0.00050022,  0.00263753,  0.        ,\n",
        "       -0.00563887])\n",
        "     nit: 15\n",
        "[ 1.13078037 -0.3258705   0.78588013  0.61381464  0.65        0.1562301 ]"
       ]
      },
      {
       "output_type": "stream",
       "stream": "stdout",
       "text": [
        "\n",
        "  status: 0\n",
        " success: True\n",
        "    nfev: 184\n",
        "     fun: 2451.4914234361486\n",
        "       x: array([ 1.13078037, -0.3258705 ,  0.78588013,  0.61381464,  0.65      ,\n",
        "        0.1562301 ])\n",
        " message: 'CONVERGENCE: REL_REDUCTION_OF_F_<=_FACTR*EPSMCH'\n",
        "     jac: array([ 0.00250111,  0.0035925 ,  0.0048658 , -0.00300133,  0.        ,\n",
        "       -0.00713953])\n",
        "     nit: 14\n",
        "[ 1.03885171  0.40492504  0.82740655 -0.51253749  0.65        0.16722794]"
       ]
      },
      {
       "output_type": "stream",
       "stream": "stdout",
       "text": [
        "\n",
        "  status: 0\n",
        " success: True\n",
        "    nfev: 176\n",
        "     fun: 2610.5722217831376\n",
        "       x: array([ 1.03885171,  0.40492504,  0.82740655, -0.51253749,  0.65      ,\n",
        "        0.16722794])\n",
        " message: 'CONVERGENCE: REL_REDUCTION_OF_F_<=_FACTR*EPSMCH'\n",
        "     jac: array([ 0.        ,  0.0003638 , -0.00045475, -0.00050022,  0.        ,\n",
        "       -0.00704858])\n",
        "     nit: 14\n",
        "[-1.15366696  0.11449263 -0.67475919 -0.72216774  0.65        0.15948847]"
       ]
      },
      {
       "output_type": "stream",
       "stream": "stdout",
       "text": [
        "\n",
        "[ 1.09534512  0.43065908  0.86599977 -0.52730042  0.65        0.15828981]"
       ]
      },
      {
       "output_type": "stream",
       "stream": "stdout",
       "text": [
        "\n",
        "  status: 0\n",
        " success: True\n",
        "    nfev: 192\n",
        "     fun: 2464.2337425112346\n",
        "       x: array([ 1.09534512,  0.43065908,  0.86599977, -0.52730042,  0.65      ,\n",
        "        0.15828981])\n",
        " message: 'CONVERGENCE: REL_REDUCTION_OF_F_<=_FACTR*EPSMCH'\n",
        "     jac: array([ 0.00145519,  0.00163709,  0.00209184, -0.00241016,  0.        ,\n",
        "       -0.0520231 ])\n",
        "     nit: 16\n",
        "[-0.98711764 -0.63901644 -0.9468999   0.41088633  0.65        0.15170409]"
       ]
      },
      {
       "output_type": "stream",
       "stream": "stdout",
       "text": [
        "\n",
        "[ 1.0847548   0.42195439  0.861925   -0.5282652   0.65        0.1597665 ]"
       ]
      },
      {
       "output_type": "stream",
       "stream": "stdout",
       "text": [
        "\n",
        "  status: 0\n",
        " success: True\n",
        "    nfev: 184\n",
        "     fun: 2488.1319495816952\n",
        "       x: array([ 1.0847548 ,  0.42195439,  0.861925  , -0.5282652 ,  0.65      ,\n",
        "        0.1597665 ])\n",
        " message: 'CONVERGENCE: REL_REDUCTION_OF_F_<=_FACTR*EPSMCH'\n",
        "     jac: array([ 0.0003638 ,  0.00222826, -0.00322871, -0.00190994,  0.        ,\n",
        "        0.0133241 ])\n",
        "     nit: 14\n",
        "[ 1.0964525  -0.3575679   0.78937502  0.56345902  0.65        0.15858555]"
       ]
      },
      {
       "output_type": "stream",
       "stream": "stdout",
       "text": [
        "\n",
        "  status: 0\n",
        " success: True\n",
        "    nfev: 160\n",
        "     fun: 2520.6515490551806\n",
        "       x: array([ 1.0964525 , -0.3575679 ,  0.78937502,  0.56345902,  0.65      ,\n",
        "        0.15858555])\n",
        " message: 'CONVERGENCE: REL_REDUCTION_OF_F_<=_FACTR*EPSMCH'\n",
        "     jac: array([ 0.00268301, -0.00136424,  0.00368345,  0.00313776,  0.        ,\n",
        "       -0.00932232])\n",
        "     nit: 13\n",
        "[ 1.0573328   0.42231674  0.84746833 -0.4936633   0.65        0.16585005]"
       ]
      },
      {
       "output_type": "stream",
       "stream": "stdout",
       "text": [
        "\n",
        "  status: 0\n",
        " success: True\n",
        "    nfev: 168\n",
        "     fun: 2588.1321746761587\n",
        "       x: array([ 1.0573328 ,  0.42231674,  0.84746833, -0.4936633 ,  0.65      ,\n",
        "        0.16585005])\n",
        " message: 'CONVERGENCE: REL_REDUCTION_OF_F_<=_FACTR*EPSMCH'\n",
        "     jac: array([-0.00600267, -0.00081855,  0.00673026, -0.00586624,  0.        ,\n",
        "       -0.01741682])\n",
        "     nit: 14\n",
        "[ 1.07128269  0.48813463  0.91024666 -0.44638602  0.65        0.16234435]"
       ]
      },
      {
       "output_type": "stream",
       "stream": "stdout",
       "text": [
        "\n",
        "  status: 0\n",
        " success: True\n",
        "    nfev: 184\n",
        "     fun: 2519.4169642000261\n",
        "       x: array([ 1.07128269,  0.48813463,  0.91024666, -0.44638602,  0.65      ,\n",
        "        0.16234435])\n",
        " message: 'CONVERGENCE: REL_REDUCTION_OF_F_<=_FACTR*EPSMCH'\n",
        "     jac: array([  3.63797881e-04,  -9.09494702e-05,   2.72848411e-04,\n",
        "         4.09272616e-04,   0.00000000e+00,   2.72848411e-03])\n",
        "     nit: 16\n",
        "[-0.99591499 -0.63639613 -0.93655506  0.3464467   0.65        0.15556861]"
       ]
      },
      {
       "output_type": "stream",
       "stream": "stdout",
       "text": [
        "\n",
        "[ 1.10780037 -0.35195986  0.79107144  0.57531701  0.65        0.15680703]"
       ]
      },
      {
       "output_type": "stream",
       "stream": "stdout",
       "text": [
        "\n",
        "  status: 0\n",
        " success: True\n",
        "    nfev: 176\n",
        "     fun: 2492.0733939626839\n",
        "       x: array([ 1.10780037, -0.35195986,  0.79107144,  0.57531701,  0.65      ,\n",
        "        0.15680703])\n",
        " message: 'CONVERGENCE: REL_REDUCTION_OF_F_<=_FACTR*EPSMCH'\n",
        "     jac: array([ 0.0007276 ,  0.0125965 ,  0.00140972, -0.01632543,  0.        ,\n",
        "       -0.04929461])\n",
        "     nit: 16\n",
        "[-0.97021869 -0.6557295  -0.93611319  0.31567834  0.65        0.15674582]"
       ]
      },
      {
       "output_type": "stream",
       "stream": "stdout",
       "text": [
        "\n",
        "[ 1.10463812  0.43024478  0.91125564 -0.5457601   0.65        0.15941878]"
       ]
      },
      {
       "output_type": "stream",
       "stream": "stdout",
       "text": [
        "\n",
        "  status: 0\n",
        " success: True\n",
        "    nfev: 208\n",
        "     fun: 2425.6772889493586\n",
        "       x: array([ 1.10463812,  0.43024478,  0.91125564, -0.5457601 ,  0.65      ,\n",
        "        0.15941878])\n",
        " message: 'CONVERGENCE: REL_REDUCTION_OF_F_<=_FACTR*EPSMCH'\n",
        "     jac: array([ 0.00663931, -0.00400178, -0.00218279,  0.01009539,  0.        ,\n",
        "       -0.01487024])\n",
        "     nit: 16\n",
        "[ 1.05279635  0.41262681  0.85066483 -0.54380968  0.65        0.16112897]"
       ]
      },
      {
       "output_type": "stream",
       "stream": "stdout",
       "text": [
        "\n",
        "  status: 0\n",
        " success: True\n",
        "    nfev: 200\n",
        "     fun: 2510.819701410941\n",
        "       x: array([ 1.05279635,  0.41262681,  0.85066483, -0.54380968,  0.65      ,\n",
        "        0.16112897])\n",
        " message: 'CONVERGENCE: REL_REDUCTION_OF_F_<=_FACTR*EPSMCH'\n",
        "     jac: array([  5.00222086e-04,   6.82121026e-04,  -2.27373675e-04,\n",
        "        -9.09494702e-05,   0.00000000e+00,   9.54969437e-04])\n",
        "     nit: 15\n",
        "[ 1.11676719  0.40724521  0.86046571 -0.56904951  0.65        0.15718298]"
       ]
      },
      {
       "output_type": "stream",
       "stream": "stdout",
       "text": [
        "\n",
        "  status: 0\n",
        " success: True\n",
        "    nfev: 216\n",
        "     fun: 2420.6544030524474\n",
        "       x: array([ 1.11676719,  0.40724521,  0.86046571, -0.56904951,  0.65      ,\n",
        "        0.15718298])\n",
        " message: 'CONVERGENCE: REL_REDUCTION_OF_F_<=_FACTR*EPSMCH'\n",
        "     jac: array([ -9.09494702e-05,   3.63797881e-04,  -8.64019967e-04,\n",
        "        -7.73070497e-04,   0.00000000e+00,   4.09272616e-04])\n",
        "     nit: 18\n",
        "[ 1.07437685  0.41480031  0.85053441 -0.54803128  0.65        0.15973931]"
       ]
      },
      {
       "output_type": "stream",
       "stream": "stdout",
       "text": [
        "\n",
        "  status: 0\n",
        " success: True\n",
        "    nfev: 192\n",
        "     fun: 2482.783913181655\n",
        "       x: array([ 1.07437685,  0.41480031,  0.85053441, -0.54803128,  0.65      ,\n",
        "        0.15973931])\n",
        " message: 'CONVERGENCE: REL_REDUCTION_OF_F_<=_FACTR*EPSMCH'\n",
        "     jac: array([-0.00168257,  0.00040927, -0.00118234, -0.00136424,  0.        ,\n",
        "        0.00136424])\n",
        "     nit: 15\n",
        "[-1.16064735  0.18926201 -0.72880549 -0.68264403  0.65        0.15845643]"
       ]
      },
      {
       "output_type": "stream",
       "stream": "stdout",
       "text": [
        "\n",
        "[ 1.14021009 -0.33541301  0.79536665  0.61039537  0.65        0.15435989]"
       ]
      },
      {
       "output_type": "stream",
       "stream": "stdout",
       "text": [
        "\n",
        "  status: 0\n",
        " success: True\n",
        "    nfev: 176\n",
        "     fun: 2426.3009960981658\n",
        "       x: array([ 1.14021009, -0.33541301,  0.79536665,  0.61039537,  0.65      ,\n",
        "        0.15435989])\n",
        " message: 'CONVERGENCE: REL_REDUCTION_OF_F_<=_FACTR*EPSMCH'\n",
        "     jac: array([-0.0035925 ,  0.00281943,  0.00222826, -0.0005457 ,  0.        ,\n",
        "        0.00336513])\n",
        "     nit: 13\n",
        "[ 1.06237715  0.45032411  0.88886056 -0.50073129  0.65        0.16113514]"
       ]
      },
      {
       "output_type": "stream",
       "stream": "stdout",
       "text": [
        "\n",
        "  status: 0\n",
        " success: True\n",
        "    nfev: 176\n",
        "     fun: 2501.4674173179765\n",
        "       x: array([ 1.06237715,  0.45032411,  0.88886056, -0.50073129,  0.65      ,\n",
        "        0.16113514])\n",
        " message: 'CONVERGENCE: REL_REDUCTION_OF_F_<=_FACTR*EPSMCH'\n",
        "     jac: array([-0.0001819 , -0.00086402, -0.00113687,  0.00127329,  0.        ,\n",
        "       -0.00404725])\n",
        "     nit: 15\n",
        "[ 1.04793875  0.43625128  0.86854374 -0.51605801  0.65        0.16311416]"
       ]
      },
      {
       "output_type": "stream",
       "stream": "stdout",
       "text": [
        "\n",
        "  status: 0\n",
        " success: True\n",
        "    nfev: 176\n",
        "     fun: 2527.2182102226025\n",
        "       x: array([ 1.04793875,  0.43625128,  0.86854374, -0.51605801,  0.65      ,\n",
        "        0.16311416])\n",
        " message: 'CONVERGENCE: REL_REDUCTION_OF_F_<=_FACTR*EPSMCH'\n",
        "     jac: array([ 0.00077307,  0.00013642, -0.0007276 ,  0.00022737,  0.        ,\n",
        "        0.00254659])\n",
        "     nit: 15\n",
        "[ 1.14330304 -0.29178253  0.74714776  0.63823432  0.65        0.15584825]"
       ]
      },
      {
       "output_type": "stream",
       "stream": "stdout",
       "text": [
        "\n",
        "  status: 0\n",
        " success: True\n",
        "    nfev: 152\n",
        "     fun: 2451.6990276907181\n",
        "       x: array([ 1.14330304, -0.29178253,  0.74714776,  0.63823432,  0.65      ,\n",
        "        0.15584825])\n",
        " message: 'CONVERGENCE: REL_REDUCTION_OF_F_<=_FACTR*EPSMCH'\n",
        "     jac: array([ 0.09986252, -0.10631993, -0.11186785,  0.02760316,  0.        ,\n",
        "        0.01582521])\n",
        "     nit: 13\n",
        "[ 1.02826132  0.4574342   0.87187775 -0.47510506  0.65        0.16119601]"
       ]
      },
      {
       "output_type": "stream",
       "stream": "stdout",
       "text": [
        "\n",
        "  status: 0\n",
        " success: True\n",
        "    nfev: 168\n",
        "     fun: 2551.1873363163581\n",
        "       x: array([ 1.02826132,  0.4574342 ,  0.87187775, -0.47510506,  0.65      ,\n",
        "        0.16119601])\n",
        " message: 'CONVERGENCE: REL_REDUCTION_OF_F_<=_FACTR*EPSMCH'\n",
        "     jac: array([ -1.81898940e-04,  -3.18323146e-04,  -9.09494702e-05,\n",
        "        -8.64019967e-04,   0.00000000e+00,   4.09272616e-04])\n",
        "     nit: 14\n",
        "[-1.1530218   0.15151742 -0.69856565 -0.71193626  0.65        0.1599438 ]"
       ]
      },
      {
       "output_type": "stream",
       "stream": "stdout",
       "text": [
        "\n",
        "[-1.03431811 -0.48522894 -0.84463348  0.50443747  0.65        0.16091307]"
       ]
      },
      {
       "output_type": "stream",
       "stream": "stdout",
       "text": [
        "\n",
        "[-0.98054645 -0.64949674 -0.94102179  0.32897354  0.65        0.1567238 ]"
       ]
      },
      {
       "output_type": "stream",
       "stream": "stdout",
       "text": [
        "\n",
        "[ 1.07634927  0.4166641   0.85671511 -0.54257366  0.65        0.16067956]"
       ]
      },
      {
       "output_type": "stream",
       "stream": "stdout",
       "text": [
        "\n",
        "  status: 0\n",
        " success: True\n",
        "    nfev: 184\n",
        "     fun: 2489.3276317478426\n",
        "       x: array([ 1.07634927,  0.4166641 ,  0.85671511, -0.54257366,  0.65      ,\n",
        "        0.16067956])\n",
        " message: 'CONVERGENCE: REL_REDUCTION_OF_F_<=_FACTR*EPSMCH'\n",
        "     jac: array([ 0.00204636,  0.00400178, -0.00077307, -0.00436557,  0.        ,\n",
        "        0.00995897])\n",
        "     nit: 14\n",
        "[ 1.11679117  0.42814689  0.89718779 -0.54430061  0.65        0.15719844]"
       ]
      },
      {
       "output_type": "stream",
       "stream": "stdout",
       "text": [
        "\n",
        "  status: 0\n",
        " success: True\n",
        "    nfev: 192\n",
        "     fun: 2414.6023370450434\n",
        "       x: array([ 1.11679117,  0.42814689,  0.89718779, -0.54430061,  0.65      ,\n",
        "        0.15719844])\n",
        " message: 'CONVERGENCE: REL_REDUCTION_OF_F_<=_FACTR*EPSMCH'\n",
        "     jac: array([ -1.09139364e-03,  -1.36424205e-04,   4.54747351e-05,\n",
        "        -1.81898940e-04,   0.00000000e+00,   2.09183781e-03])\n",
        "     nit: 14\n",
        "[ 1.11128591  0.42512125  0.88046905 -0.5271947   0.65        0.16092249]"
       ]
      },
      {
       "output_type": "stream",
       "stream": "stdout",
       "text": [
        "\n",
        "  status: 0\n",
        " success: True\n",
        "    nfev: 184\n",
        "     fun: 2470.6283563499032\n",
        "       x: array([ 1.11128591,  0.42512125,  0.88046905, -0.5271947 ,  0.65      ,\n",
        "        0.16092249])\n",
        " message: 'CONVERGENCE: REL_REDUCTION_OF_F_<=_FACTR*EPSMCH'\n",
        "     jac: array([ 0.00172804,  0.0005457 , -0.00127329,  0.00100044,  0.        ,\n",
        "       -0.00086402])\n",
        "     nit: 14\n",
        "[ 1.06993326  0.43751756  0.84750322 -0.55130112  0.65        0.15776311]"
       ]
      },
      {
       "output_type": "stream",
       "stream": "stdout",
       "text": [
        "\n",
        "  status: 0\n",
        " success: True\n",
        "    nfev: 192\n",
        "     fun: 2450.297564752012\n",
        "       x: array([ 1.06993326,  0.43751756,  0.84750322, -0.55130112,  0.65      ,\n",
        "        0.15776311])\n",
        " message: 'CONVERGENCE: REL_REDUCTION_OF_F_<=_FACTR*EPSMCH'\n",
        "     jac: array([ -7.73070497e-04,   4.54747351e-05,   3.18323146e-04,\n",
        "        -1.18234311e-03,   0.00000000e+00,  -3.45607987e-03])\n",
        "     nit: 14\n"
       ]
      },
      {
       "ename": "KeyboardInterrupt",
       "evalue": "",
       "output_type": "pyerr",
       "traceback": [
        "\u001b[1;31m---------------------------------------------------------------------------\u001b[0m\n\u001b[1;31mKeyboardInterrupt\u001b[0m                         Traceback (most recent call last)",
        "\u001b[1;32m<ipython-input-490-e2f28d575516>\u001b[0m in \u001b[0;36m<module>\u001b[1;34m()\u001b[0m\n\u001b[0;32m     39\u001b[0m    \u001b[1;32mreturn\u001b[0m \u001b[0mresp\u001b[0m\u001b[1;33m\u001b[0m\u001b[0m\n\u001b[0;32m     40\u001b[0m \u001b[1;33m\u001b[0m\u001b[0m\n\u001b[1;32m---> 41\u001b[1;33m \u001b[0mrho_low\u001b[0m \u001b[1;33m=\u001b[0m \u001b[0mnp\u001b[0m\u001b[1;33m.\u001b[0m\u001b[0marray\u001b[0m\u001b[1;33m(\u001b[0m\u001b[1;33m[\u001b[0m\u001b[0mdo_sim\u001b[0m\u001b[1;33m(\u001b[0m\u001b[0mrho\u001b[0m\u001b[1;33m=\u001b[0m\u001b[1;36m0.9\u001b[0m\u001b[1;33m)\u001b[0m \u001b[1;32mfor\u001b[0m \u001b[0m_\u001b[0m \u001b[1;32min\u001b[0m \u001b[0mrange\u001b[0m\u001b[1;33m(\u001b[0m\u001b[1;36m100\u001b[0m\u001b[1;33m)\u001b[0m\u001b[1;33m]\u001b[0m\u001b[1;33m)\u001b[0m\u001b[1;33m\u001b[0m\u001b[0m\n\u001b[0m\u001b[0;32m     42\u001b[0m \u001b[1;31m#rho_low.mean()\u001b[0m\u001b[1;33m\u001b[0m\u001b[1;33m\u001b[0m\u001b[0m\n",
        "\u001b[1;32m<ipython-input-490-e2f28d575516>\u001b[0m in \u001b[0;36mdo_sim\u001b[1;34m(rho)\u001b[0m\n\u001b[0;32m     18\u001b[0m    \u001b[0mf\u001b[0m \u001b[1;33m=\u001b[0m \u001b[1;32mlambda\u001b[0m \u001b[0mx\u001b[0m\u001b[1;33m:\u001b[0m \u001b[0mex\u001b[0m\u001b[1;33m.\u001b[0m\u001b[0mlik\u001b[0m\u001b[1;33m(\u001b[0m\u001b[0myy\u001b[0m\u001b[1;33m,\u001b[0m \u001b[0mx\u001b[0m\u001b[1;33m,\u001b[0m \u001b[0mnormalize\u001b[0m\u001b[1;33m=\u001b[0m\u001b[0mFalse\u001b[0m\u001b[1;33m)\u001b[0m\u001b[1;33m\u001b[0m\u001b[0m\n\u001b[0;32m     19\u001b[0m \u001b[1;33m\u001b[0m\u001b[0m\n\u001b[1;32m---> 20\u001b[1;33m    \u001b[0mres\u001b[0m \u001b[1;33m=\u001b[0m \u001b[0mminimize\u001b[0m\u001b[1;33m(\u001b[0m\u001b[0mf\u001b[0m\u001b[1;33m,\u001b[0m \u001b[0mx0\u001b[0m\u001b[1;33m,\u001b[0m \u001b[0mbounds\u001b[0m\u001b[1;33m=\u001b[0m\u001b[0mbounds\u001b[0m\u001b[1;33m,\u001b[0m \u001b[0mmethod\u001b[0m\u001b[1;33m=\u001b[0m\u001b[1;34m'L-BFGS-B'\u001b[0m\u001b[1;33m,\u001b[0m \u001b[0moptions\u001b[0m\u001b[1;33m=\u001b[0m\u001b[0mdict\u001b[0m\u001b[1;33m(\u001b[0m\u001b[0mdisp\u001b[0m\u001b[1;33m=\u001b[0m\u001b[0mFalse\u001b[0m\u001b[1;33m)\u001b[0m\u001b[1;33m)\u001b[0m\u001b[1;33m\u001b[0m\u001b[0m\n\u001b[0m\u001b[0;32m     21\u001b[0m \u001b[1;33m\u001b[0m\u001b[0m\n\u001b[0;32m     22\u001b[0m    \u001b[0mx\u001b[0m \u001b[1;33m=\u001b[0m \u001b[0mres\u001b[0m\u001b[1;33m.\u001b[0m\u001b[0mx\u001b[0m\u001b[1;33m\u001b[0m\u001b[0m\n",
        "\u001b[1;32m/mq/home/m1eph00/anaconda/lib/python2.7/site-packages/scipy/optimize/_minimize.pyc\u001b[0m in \u001b[0;36mminimize\u001b[1;34m(fun, x0, args, method, jac, hess, hessp, bounds, constraints, tol, callback, options)\u001b[0m\n\u001b[0;32m    425\u001b[0m     \u001b[1;32melif\u001b[0m \u001b[0mmeth\u001b[0m \u001b[1;33m==\u001b[0m \u001b[1;34m'l-bfgs-b'\u001b[0m\u001b[1;33m:\u001b[0m\u001b[1;33m\u001b[0m\u001b[0m\n\u001b[0;32m    426\u001b[0m         return _minimize_lbfgsb(fun, x0, args, jac, bounds,\n\u001b[1;32m--> 427\u001b[1;33m                                 callback=callback, **options)\n\u001b[0m\u001b[0;32m    428\u001b[0m     \u001b[1;32melif\u001b[0m \u001b[0mmeth\u001b[0m \u001b[1;33m==\u001b[0m \u001b[1;34m'tnc'\u001b[0m\u001b[1;33m:\u001b[0m\u001b[1;33m\u001b[0m\u001b[0m\n\u001b[0;32m    429\u001b[0m         return _minimize_tnc(fun, x0, args, jac, bounds, callback=callback,\n",
        "\u001b[1;32m/mq/home/m1eph00/anaconda/lib/python2.7/site-packages/scipy/optimize/lbfgsb.pyc\u001b[0m in \u001b[0;36m_minimize_lbfgsb\u001b[1;34m(fun, x0, args, jac, bounds, disp, maxcor, ftol, gtol, eps, maxfun, maxiter, iprint, callback, **unknown_options)\u001b[0m\n\u001b[0;32m    312\u001b[0m                 \u001b[1;31m# minimization routine wants f and g at the current x\u001b[0m\u001b[1;33m\u001b[0m\u001b[1;33m\u001b[0m\u001b[0m\n\u001b[0;32m    313\u001b[0m                 \u001b[1;31m# Overwrite f and g:\u001b[0m\u001b[1;33m\u001b[0m\u001b[1;33m\u001b[0m\u001b[0m\n\u001b[1;32m--> 314\u001b[1;33m                 \u001b[0mf\u001b[0m\u001b[1;33m,\u001b[0m \u001b[0mg\u001b[0m \u001b[1;33m=\u001b[0m \u001b[0mfunc_and_grad\u001b[0m\u001b[1;33m(\u001b[0m\u001b[0mx\u001b[0m\u001b[1;33m)\u001b[0m\u001b[1;33m\u001b[0m\u001b[0m\n\u001b[0m\u001b[0;32m    315\u001b[0m         \u001b[1;32melif\u001b[0m \u001b[0mtask_str\u001b[0m\u001b[1;33m.\u001b[0m\u001b[0mstartswith\u001b[0m\u001b[1;33m(\u001b[0m\u001b[1;34mb'NEW_X'\u001b[0m\u001b[1;33m)\u001b[0m\u001b[1;33m:\u001b[0m\u001b[1;33m\u001b[0m\u001b[0m\n\u001b[0;32m    316\u001b[0m             \u001b[1;31m# new iteration\u001b[0m\u001b[1;33m\u001b[0m\u001b[1;33m\u001b[0m\u001b[0m\n",
        "\u001b[1;32m/mq/home/m1eph00/anaconda/lib/python2.7/site-packages/scipy/optimize/lbfgsb.pyc\u001b[0m in \u001b[0;36mfunc_and_grad\u001b[1;34m(x)\u001b[0m\n\u001b[0;32m    259\u001b[0m         \u001b[1;32mdef\u001b[0m \u001b[0mfunc_and_grad\u001b[0m\u001b[1;33m(\u001b[0m\u001b[0mx\u001b[0m\u001b[1;33m)\u001b[0m\u001b[1;33m:\u001b[0m\u001b[1;33m\u001b[0m\u001b[0m\n\u001b[0;32m    260\u001b[0m             \u001b[0mf\u001b[0m \u001b[1;33m=\u001b[0m \u001b[0mfun\u001b[0m\u001b[1;33m(\u001b[0m\u001b[0mx\u001b[0m\u001b[1;33m,\u001b[0m \u001b[1;33m*\u001b[0m\u001b[0margs\u001b[0m\u001b[1;33m)\u001b[0m\u001b[1;33m\u001b[0m\u001b[0m\n\u001b[1;32m--> 261\u001b[1;33m             \u001b[0mg\u001b[0m \u001b[1;33m=\u001b[0m \u001b[0mapprox_fprime\u001b[0m\u001b[1;33m(\u001b[0m\u001b[0mx\u001b[0m\u001b[1;33m,\u001b[0m \u001b[0mfun\u001b[0m\u001b[1;33m,\u001b[0m \u001b[0mepsilon\u001b[0m\u001b[1;33m,\u001b[0m \u001b[1;33m*\u001b[0m\u001b[0margs\u001b[0m\u001b[1;33m)\u001b[0m\u001b[1;33m\u001b[0m\u001b[0m\n\u001b[0m\u001b[0;32m    262\u001b[0m             \u001b[1;32mreturn\u001b[0m \u001b[0mf\u001b[0m\u001b[1;33m,\u001b[0m \u001b[0mg\u001b[0m\u001b[1;33m\u001b[0m\u001b[0m\n\u001b[0;32m    263\u001b[0m     \u001b[1;32melse\u001b[0m\u001b[1;33m:\u001b[0m\u001b[1;33m\u001b[0m\u001b[0m\n",
        "\u001b[1;32m/mq/home/m1eph00/anaconda/lib/python2.7/site-packages/scipy/optimize/optimize.pyc\u001b[0m in \u001b[0;36mapprox_fprime\u001b[1;34m(xk, f, epsilon, *args)\u001b[0m\n\u001b[0;32m    608\u001b[0m         \u001b[0mei\u001b[0m\u001b[1;33m[\u001b[0m\u001b[0mk\u001b[0m\u001b[1;33m]\u001b[0m \u001b[1;33m=\u001b[0m \u001b[1;36m1.0\u001b[0m\u001b[1;33m\u001b[0m\u001b[0m\n\u001b[0;32m    609\u001b[0m         \u001b[0md\u001b[0m \u001b[1;33m=\u001b[0m \u001b[0mepsilon\u001b[0m \u001b[1;33m*\u001b[0m \u001b[0mei\u001b[0m\u001b[1;33m\u001b[0m\u001b[0m\n\u001b[1;32m--> 610\u001b[1;33m         \u001b[0mgrad\u001b[0m\u001b[1;33m[\u001b[0m\u001b[0mk\u001b[0m\u001b[1;33m]\u001b[0m \u001b[1;33m=\u001b[0m \u001b[1;33m(\u001b[0m\u001b[0mf\u001b[0m\u001b[1;33m(\u001b[0m\u001b[1;33m*\u001b[0m\u001b[1;33m(\u001b[0m\u001b[1;33m(\u001b[0m\u001b[0mxk\u001b[0m \u001b[1;33m+\u001b[0m \u001b[0md\u001b[0m\u001b[1;33m,\u001b[0m\u001b[1;33m)\u001b[0m \u001b[1;33m+\u001b[0m \u001b[0margs\u001b[0m\u001b[1;33m)\u001b[0m\u001b[1;33m)\u001b[0m \u001b[1;33m-\u001b[0m \u001b[0mf0\u001b[0m\u001b[1;33m)\u001b[0m \u001b[1;33m/\u001b[0m \u001b[0md\u001b[0m\u001b[1;33m[\u001b[0m\u001b[0mk\u001b[0m\u001b[1;33m]\u001b[0m\u001b[1;33m\u001b[0m\u001b[0m\n\u001b[0m\u001b[0;32m    611\u001b[0m         \u001b[0mei\u001b[0m\u001b[1;33m[\u001b[0m\u001b[0mk\u001b[0m\u001b[1;33m]\u001b[0m \u001b[1;33m=\u001b[0m \u001b[1;36m0.0\u001b[0m\u001b[1;33m\u001b[0m\u001b[0m\n\u001b[0;32m    612\u001b[0m \u001b[1;33m\u001b[0m\u001b[0m\n",
        "\u001b[1;32m/mq/home/m1eph00/anaconda/lib/python2.7/site-packages/scipy/optimize/optimize.pyc\u001b[0m in \u001b[0;36mfunction_wrapper\u001b[1;34m(*wrapper_args)\u001b[0m\n\u001b[0;32m    279\u001b[0m     \u001b[1;32mdef\u001b[0m \u001b[0mfunction_wrapper\u001b[0m\u001b[1;33m(\u001b[0m\u001b[1;33m*\u001b[0m\u001b[0mwrapper_args\u001b[0m\u001b[1;33m)\u001b[0m\u001b[1;33m:\u001b[0m\u001b[1;33m\u001b[0m\u001b[0m\n\u001b[0;32m    280\u001b[0m         \u001b[0mncalls\u001b[0m\u001b[1;33m[\u001b[0m\u001b[1;36m0\u001b[0m\u001b[1;33m]\u001b[0m \u001b[1;33m+=\u001b[0m \u001b[1;36m1\u001b[0m\u001b[1;33m\u001b[0m\u001b[0m\n\u001b[1;32m--> 281\u001b[1;33m         \u001b[1;32mreturn\u001b[0m \u001b[0mfunction\u001b[0m\u001b[1;33m(\u001b[0m\u001b[1;33m*\u001b[0m\u001b[1;33m(\u001b[0m\u001b[0mwrapper_args\u001b[0m \u001b[1;33m+\u001b[0m \u001b[0margs\u001b[0m\u001b[1;33m)\u001b[0m\u001b[1;33m)\u001b[0m\u001b[1;33m\u001b[0m\u001b[0m\n\u001b[0m\u001b[0;32m    282\u001b[0m \u001b[1;33m\u001b[0m\u001b[0m\n\u001b[0;32m    283\u001b[0m     \u001b[1;32mreturn\u001b[0m \u001b[0mncalls\u001b[0m\u001b[1;33m,\u001b[0m \u001b[0mfunction_wrapper\u001b[0m\u001b[1;33m\u001b[0m\u001b[0m\n",
        "\u001b[1;32m<ipython-input-490-e2f28d575516>\u001b[0m in \u001b[0;36m<lambda>\u001b[1;34m(x)\u001b[0m\n\u001b[0;32m     16\u001b[0m    \u001b[0myy\u001b[0m \u001b[1;33m=\u001b[0m \u001b[0mex\u001b[0m\u001b[1;33m.\u001b[0m\u001b[0msimulate\u001b[0m\u001b[1;33m(\u001b[0m\u001b[0mnsim\u001b[0m\u001b[1;33m=\u001b[0m\u001b[1;36m1000\u001b[0m\u001b[1;33m)\u001b[0m\u001b[1;33m\u001b[0m\u001b[0m\n\u001b[0;32m     17\u001b[0m \u001b[1;33m\u001b[0m\u001b[0m\n\u001b[1;32m---> 18\u001b[1;33m    \u001b[0mf\u001b[0m \u001b[1;33m=\u001b[0m \u001b[1;32mlambda\u001b[0m \u001b[0mx\u001b[0m\u001b[1;33m:\u001b[0m \u001b[0mex\u001b[0m\u001b[1;33m.\u001b[0m\u001b[0mlik\u001b[0m\u001b[1;33m(\u001b[0m\u001b[0myy\u001b[0m\u001b[1;33m,\u001b[0m \u001b[0mx\u001b[0m\u001b[1;33m,\u001b[0m \u001b[0mnormalize\u001b[0m\u001b[1;33m=\u001b[0m\u001b[0mFalse\u001b[0m\u001b[1;33m)\u001b[0m\u001b[1;33m\u001b[0m\u001b[0m\n\u001b[0m\u001b[0;32m     19\u001b[0m \u001b[1;33m\u001b[0m\u001b[0m\n\u001b[0;32m     20\u001b[0m    \u001b[0mres\u001b[0m \u001b[1;33m=\u001b[0m \u001b[0mminimize\u001b[0m\u001b[1;33m(\u001b[0m\u001b[0mf\u001b[0m\u001b[1;33m,\u001b[0m \u001b[0mx0\u001b[0m\u001b[1;33m,\u001b[0m \u001b[0mbounds\u001b[0m\u001b[1;33m=\u001b[0m\u001b[0mbounds\u001b[0m\u001b[1;33m,\u001b[0m \u001b[0mmethod\u001b[0m\u001b[1;33m=\u001b[0m\u001b[1;34m'L-BFGS-B'\u001b[0m\u001b[1;33m,\u001b[0m \u001b[0moptions\u001b[0m\u001b[1;33m=\u001b[0m\u001b[0mdict\u001b[0m\u001b[1;33m(\u001b[0m\u001b[0mdisp\u001b[0m\u001b[1;33m=\u001b[0m\u001b[0mFalse\u001b[0m\u001b[1;33m)\u001b[0m\u001b[1;33m)\u001b[0m\u001b[1;33m\u001b[0m\u001b[0m\n",
        "\u001b[1;32m<ipython-input-488-a59c78efd193>\u001b[0m in \u001b[0;36mlik\u001b[1;34m(self, yy, x, normalize)\u001b[0m\n\u001b[0;32m     66\u001b[0m         \u001b[0msigma\u001b[0m \u001b[1;33m=\u001b[0m \u001b[0mnp\u001b[0m\u001b[1;33m.\u001b[0m\u001b[0mlinalg\u001b[0m\u001b[1;33m.\u001b[0m\u001b[0minv\u001b[0m\u001b[1;33m(\u001b[0m\u001b[0mAtilde\u001b[0m\u001b[1;33m.\u001b[0m\u001b[0mdot\u001b[0m\u001b[1;33m(\u001b[0m\u001b[0mAtilde\u001b[0m\u001b[1;33m.\u001b[0m\u001b[0mT\u001b[0m\u001b[1;33m)\u001b[0m\u001b[1;33m)\u001b[0m\u001b[1;33m\u001b[0m\u001b[0m\n\u001b[0;32m     67\u001b[0m         \u001b[1;32mfrom\u001b[0m \u001b[0mscipy\u001b[0m\u001b[1;33m.\u001b[0m\u001b[0mstats\u001b[0m \u001b[1;32mimport\u001b[0m \u001b[0mmultivariate_normal\u001b[0m\u001b[1;33m\u001b[0m\u001b[0m\n\u001b[1;32m---> 68\u001b[1;33m         \u001b[0mu\u001b[0m \u001b[1;33m=\u001b[0m \u001b[0mmultivariate_normal\u001b[0m\u001b[1;33m(\u001b[0m\u001b[0mcov\u001b[0m\u001b[1;33m=\u001b[0m\u001b[0msigma\u001b[0m\u001b[1;33m)\u001b[0m\u001b[1;33m\u001b[0m\u001b[0m\n\u001b[0m\u001b[0;32m     69\u001b[0m \u001b[1;33m\u001b[0m\u001b[0m\n\u001b[0;32m     70\u001b[0m \u001b[1;33m\u001b[0m\u001b[0m\n",
        "\u001b[1;32m/mq/home/m1eph00/anaconda/lib/python2.7/site-packages/scipy/stats/_multivariate.pyc\u001b[0m in \u001b[0;36m__call__\u001b[1;34m(self, mean, cov)\u001b[0m\n\u001b[0;32m    302\u001b[0m \u001b[1;33m\u001b[0m\u001b[0m\n\u001b[0;32m    303\u001b[0m         \"\"\"\n\u001b[1;32m--> 304\u001b[1;33m         \u001b[1;32mreturn\u001b[0m \u001b[0mmultivariate_normal_frozen\u001b[0m\u001b[1;33m(\u001b[0m\u001b[0mmean\u001b[0m\u001b[1;33m,\u001b[0m \u001b[0mcov\u001b[0m\u001b[1;33m)\u001b[0m\u001b[1;33m\u001b[0m\u001b[0m\n\u001b[0m\u001b[0;32m    305\u001b[0m \u001b[1;33m\u001b[0m\u001b[0m\n\u001b[0;32m    306\u001b[0m     \u001b[1;32mdef\u001b[0m \u001b[0m_logpdf\u001b[0m\u001b[1;33m(\u001b[0m\u001b[0mself\u001b[0m\u001b[1;33m,\u001b[0m \u001b[0mx\u001b[0m\u001b[1;33m,\u001b[0m \u001b[0mmean\u001b[0m\u001b[1;33m,\u001b[0m \u001b[0mprec_U\u001b[0m\u001b[1;33m,\u001b[0m \u001b[0mlog_det_cov\u001b[0m\u001b[1;33m)\u001b[0m\u001b[1;33m:\u001b[0m\u001b[1;33m\u001b[0m\u001b[0m\n",
        "\u001b[1;32m/mq/home/m1eph00/anaconda/lib/python2.7/site-packages/scipy/stats/_multivariate.pyc\u001b[0m in \u001b[0;36m__init__\u001b[1;34m(self, mean, cov)\u001b[0m\n\u001b[0;32m    457\u001b[0m         \"\"\"\n\u001b[0;32m    458\u001b[0m         \u001b[0mself\u001b[0m\u001b[1;33m.\u001b[0m\u001b[0mdim\u001b[0m\u001b[1;33m,\u001b[0m \u001b[0mself\u001b[0m\u001b[1;33m.\u001b[0m\u001b[0mmean\u001b[0m\u001b[1;33m,\u001b[0m \u001b[0mself\u001b[0m\u001b[1;33m.\u001b[0m\u001b[0mcov\u001b[0m \u001b[1;33m=\u001b[0m \u001b[0m_process_parameters\u001b[0m\u001b[1;33m(\u001b[0m\u001b[0mNone\u001b[0m\u001b[1;33m,\u001b[0m \u001b[0mmean\u001b[0m\u001b[1;33m,\u001b[0m \u001b[0mcov\u001b[0m\u001b[1;33m)\u001b[0m\u001b[1;33m\u001b[0m\u001b[0m\n\u001b[1;32m--> 459\u001b[1;33m         \u001b[0mself\u001b[0m\u001b[1;33m.\u001b[0m\u001b[0mprec_U\u001b[0m\u001b[1;33m,\u001b[0m \u001b[0mself\u001b[0m\u001b[1;33m.\u001b[0m\u001b[0m_log_det_cov\u001b[0m \u001b[1;33m=\u001b[0m \u001b[0m_psd_pinv_decomposed_log_pdet\u001b[0m\u001b[1;33m(\u001b[0m\u001b[0mself\u001b[0m\u001b[1;33m.\u001b[0m\u001b[0mcov\u001b[0m\u001b[1;33m)\u001b[0m\u001b[1;33m\u001b[0m\u001b[0m\n\u001b[0m\u001b[0;32m    460\u001b[0m \u001b[1;33m\u001b[0m\u001b[0m\n\u001b[0;32m    461\u001b[0m         \u001b[0mself\u001b[0m\u001b[1;33m.\u001b[0m\u001b[0m_mnorm\u001b[0m \u001b[1;33m=\u001b[0m \u001b[0mmultivariate_normal_gen\u001b[0m\u001b[1;33m(\u001b[0m\u001b[1;33m)\u001b[0m\u001b[1;33m\u001b[0m\u001b[0m\n",
        "\u001b[1;32m/mq/home/m1eph00/anaconda/lib/python2.7/site-packages/scipy/stats/_multivariate.pyc\u001b[0m in \u001b[0;36m_psd_pinv_decomposed_log_pdet\u001b[1;34m(mat, cond, rcond, lower, check_finite)\u001b[0m\n\u001b[0;32m    167\u001b[0m     \u001b[1;31m# Note that eigh takes care of array conversion, chkfinite,\u001b[0m\u001b[1;33m\u001b[0m\u001b[1;33m\u001b[0m\u001b[0m\n\u001b[0;32m    168\u001b[0m     \u001b[1;31m# and assertion that the matrix is square.\u001b[0m\u001b[1;33m\u001b[0m\u001b[1;33m\u001b[0m\u001b[0m\n\u001b[1;32m--> 169\u001b[1;33m     \u001b[0ms\u001b[0m\u001b[1;33m,\u001b[0m \u001b[0mu\u001b[0m \u001b[1;33m=\u001b[0m \u001b[0mscipy\u001b[0m\u001b[1;33m.\u001b[0m\u001b[0mlinalg\u001b[0m\u001b[1;33m.\u001b[0m\u001b[0meigh\u001b[0m\u001b[1;33m(\u001b[0m\u001b[0mmat\u001b[0m\u001b[1;33m,\u001b[0m \u001b[0mlower\u001b[0m\u001b[1;33m=\u001b[0m\u001b[0mlower\u001b[0m\u001b[1;33m,\u001b[0m \u001b[0mcheck_finite\u001b[0m\u001b[1;33m=\u001b[0m\u001b[0mcheck_finite\u001b[0m\u001b[1;33m)\u001b[0m\u001b[1;33m\u001b[0m\u001b[0m\n\u001b[0m\u001b[0;32m    170\u001b[0m \u001b[1;33m\u001b[0m\u001b[0m\n\u001b[0;32m    171\u001b[0m     \u001b[1;32mif\u001b[0m \u001b[0mrcond\u001b[0m \u001b[1;32mis\u001b[0m \u001b[1;32mnot\u001b[0m \u001b[0mNone\u001b[0m\u001b[1;33m:\u001b[0m\u001b[1;33m\u001b[0m\u001b[0m\n",
        "\u001b[1;32m/mq/home/m1eph00/anaconda/lib/python2.7/site-packages/scipy/linalg/decomp.pyc\u001b[0m in \u001b[0;36meigh\u001b[1;34m(a, b, lower, eigvals_only, overwrite_a, overwrite_b, turbo, eigvals, type, check_finite)\u001b[0m\n\u001b[0;32m    352\u001b[0m         \u001b[1;32mif\u001b[0m \u001b[0meigvals\u001b[0m \u001b[1;32mis\u001b[0m \u001b[0mNone\u001b[0m\u001b[1;33m:\u001b[0m\u001b[1;33m\u001b[0m\u001b[0m\n\u001b[0;32m    353\u001b[0m             w, v, info = evr(a1, uplo=uplo, jobz=_job, range=\"A\", il=1,\n\u001b[1;32m--> 354\u001b[1;33m                              iu=a1.shape[0], overwrite_a=overwrite_a)\n\u001b[0m\u001b[0;32m    355\u001b[0m         \u001b[1;32melse\u001b[0m\u001b[1;33m:\u001b[0m\u001b[1;33m\u001b[0m\u001b[0m\n\u001b[0;32m    356\u001b[0m             \u001b[1;33m(\u001b[0m\u001b[0mlo\u001b[0m\u001b[1;33m,\u001b[0m \u001b[0mhi\u001b[0m\u001b[1;33m)\u001b[0m \u001b[1;33m=\u001b[0m \u001b[0meigvals\u001b[0m\u001b[1;33m\u001b[0m\u001b[0m\n",
        "\u001b[1;31mKeyboardInterrupt\u001b[0m: "
       ]
      }
     ],
     "prompt_number": 490
    },
    {
     "cell_type": "code",
     "collapsed": false,
     "input": [
      "do_sim(rho=0.1)"
     ],
     "language": "python",
     "outputs": [
      {
       "output_type": "stream",
       "stream": "stdout",
       "text": [
        "[-0.96682833  0.68174823 -0.96646291 -0.31050893  0.65        0.46336492]\n"
       ]
      },
      {
       "output_type": "pyout",
       "prompt_number": 513,
       "text": [
        "-0.7108258347828823"
       ]
      },
      {
       "output_type": "stream",
       "stream": "stdout",
       "text": [
        "[ 0.84038099  0.79682887  0.9786625  -0.19144886  0.65        0.47999546]\n",
        "  status: 0\n",
        " success: True\n",
        "    nfev: 136\n",
        "     fun: 3583.9515986576516\n",
        "       x: array([ 0.84038099,  0.79682887,  0.9786625 , -0.19144886,  0.65      ,\n",
        "        0.47999546])\n",
        " message: 'CONVERGENCE: REL_REDUCTION_OF_F_<=_FACTR*EPSMCH'\n",
        "     jac: array([  1.90993887e-03,   1.13686838e-03,   2.72848411e-04,\n",
        "         3.63797881e-04,   0.00000000e+00,   9.09494702e-05])\n",
        "     nit: 13\n"
       ]
      },
      {
       "output_type": "pyout",
       "prompt_number": 514,
       "text": [
        "0.8470446245811315"
       ]
      }
     ],
     "prompt_number": 514
    },
    {
     "cell_type": "code",
     "collapsed": false,
     "input": [
      "r = p.Series(rho_low)\n",
      "r.dropna().plot(kind='kde', xlim=(-1, 1))\n",
      "r.describe()"
     ],
     "language": "python",
     "outputs": [
      {
       "output_type": "pyout",
       "prompt_number": 447,
       "text": [
        "count    999.000000\n",
        "mean      -0.600779\n",
        "std        0.369660\n",
        "min       -8.075590\n",
        "25%       -0.710858\n",
        "50%       -0.623207\n",
        "75%       -0.545444\n",
        "max        2.994431\n",
        "dtype: float64"
       ]
      },
      {
       "output_type": "display_data",
       "png": "[encoded data removed]",
       "text": [
        "<matplotlib.figure.Figure at 0x2aee4a8b6fd0>"
       ]
      }
     ],
     "prompt_number": 447
    },
    {
     "cell_type": "code",
     "collapsed": false,
     "input": [
      "import sympy\n",
      "\n",
      "bet, sige, sign = sympy.symbols('bet, sige, sign')\n",
      "\n",
      "x = sympy.Matrix([[sige, 0], [bet*sige, sign]])\n",
      "x*x.transpose()"
     ],
     "language": "python",
     "outputs": [
      {
       "output_type": "pyout",
       "prompt_number": 2,
       "text": [
        "Matrix([\n",
        "[    sige**2,              bet*sige**2],\n",
        "[bet*sige**2, bet**2*sige**2 + sign**2]])"
       ]
      }
     ],
     "prompt_number": 2
    },
    {
     "cell_type": "code",
     "collapsed": false,
     "input": [],
     "language": "python",
     "outputs": []
    },
    {
     "cell_type": "code",
     "collapsed": false,
     "input": [
      "a11, a12, a21, a22, sigma_epsilon_1, sigma_epsilon_2, sigma_nu, beta = sympy.symbols('a11, a12, a21, a22, sigma_epsilon_1, sigma_epsilon_2, sigma_nu, beta')\n",
      "\n",
      "rho = sympy.symbols('rho')\n",
      "A0 = sympy.Matrix([[a11, a12, 0], [a21, a22, 0], [0, 0, 1]])\n",
      "I = sympy.Matrix([[1, 0, beta], [0, 1, 0], [0, 0, beta*sympy.sqrt((1-rho)/rho)]])\n",
      "\n",
      "S = A0 * I.inv()\n",
      "\n",
      "#sympy.pprint(S)\n",
      "c1, c2 = sympy.symbols('c1, c2')\n",
      "Ap = sympy.Matrix([[a11, a12, 0], [a21, a22, 0], [0, 0, 0], [c1, c2, 0]])\n",
      "\n",
      "sympy.pprint(A0)"
     ],
     "language": "python",
     "outputs": [
      {
       "output_type": "stream",
       "stream": "stdout",
       "text": [
        "\u23a1a\u2081\u2081  a\u2081\u2082  0\u23a4\n",
        "\u23a2           \u23a5\n",
        "\u23a2a\u2082\u2081  a\u2082\u2082  0\u23a5\n",
        "\u23a2           \u23a5\n",
        "\u23a3 0    0   1\u23a6\n"
       ]
      }
     ],
     "prompt_number": 35
    },
    {
     "cell_type": "code",
     "collapsed": false,
     "input": [
      "from IPython.display import display\n",
      "\n",
      "print sympy.latex((S * S.transpose()).subs({sigma_epsilon_1:1, sigma_epsilon_2:1}))"
     ],
     "language": "python",
     "outputs": [
      {
       "output_type": "stream",
       "stream": "stdout",
       "text": [
        "\\left[\\begin{smallmatrix}{}\\left(\\frac{1}{a_{11}} + \\frac{a_{12} a_{21}}{a_{11}^{2} \\left(a_{22} - \\frac{a_{12} a_{21}}{a_{11}}\\right)}\\right)^{2} + \\frac{a_{12}^{2}}{a_{11}^{2} \\left(a_{22} - \\frac{a_{12} a_{21}}{a_{11}}\\right)^{2}} & - \\frac{a_{12}}{a_{11} \\left(a_{22} - \\frac{a_{12} a_{21}}{a_{11}}\\right)^{2}} - \\frac{a_{21} \\left(\\frac{1}{a_{11}} + \\frac{a_{12} a_{21}}{a_{11}^{2} \\left(a_{22} - \\frac{a_{12} a_{21}}{a_{11}}\\right)}\\right)}{a_{11} \\left(a_{22} - \\frac{a_{12} a_{21}}{a_{11}}\\right)} & \\beta \\left(\\frac{1}{a_{11}} + \\frac{a_{12} a_{21}}{a_{11}^{2} \\left(a_{22} - \\frac{a_{12} a_{21}}{a_{11}}\\right)}\\right)\\\\- \\frac{a_{12}}{a_{11} \\left(a_{22} - \\frac{a_{12} a_{21}}{a_{11}}\\right)^{2}} - \\frac{a_{21} \\left(\\frac{1}{a_{11}} + \\frac{a_{12} a_{21}}{a_{11}^{2} \\left(a_{22} - \\frac{a_{12} a_{21}}{a_{11}}\\right)}\\right)}{a_{11} \\left(a_{22} - \\frac{a_{12} a_{21}}{a_{11}}\\right)} & \\frac{1}{\\left(a_{22} - \\frac{a_{12} a_{21}}{a_{11}}\\right)^{2}} + \\frac{a_{21}^{2}}{a_{11}^{2} \\left(a_{22} - \\frac{a_{12} a_{21}}{a_{11}}\\right)^{2}} & - \\frac{a_{21} \\beta}{a_{11} \\left(a_{22} - \\frac{a_{12} a_{21}}{a_{11}}\\right)}\\\\\\beta \\left(\\frac{1}{a_{11}} + \\frac{a_{12} a_{21}}{a_{11}^{2} \\left(a_{22} - \\frac{a_{12} a_{21}}{a_{11}}\\right)}\\right) & - \\frac{a_{21} \\beta}{a_{11} \\left(a_{22} - \\frac{a_{12} a_{21}}{a_{11}}\\right)} & \\beta^{2} + \\sigma_{\\nu}^{2}\\end{smallmatrix}\\right]\n"
       ]
      }
     ],
     "prompt_number": 199
    },
    {
     "cell_type": "code",
     "collapsed": false,
     "input": [
      "A0  = sympy.Matrix([[a11, a12], [a21, a22]]) #/ (a11*a22 - a21*a12)\n",
      "#A0.inv().doit()"
     ],
     "language": "python",
     "outputs": [],
     "prompt_number": 226
    },
    {
     "cell_type": "code",
     "collapsed": false,
     "input": [
      "sympy.pprint(Ahat)"
     ],
     "language": "python",
     "outputs": [
      {
       "output_type": "stream",
       "stream": "stdout",
       "text": [
        "\u23a1          -a\u2081\u2081 \u23a4\n",
        "\u23a2a\u2081\u2081  a\u2081\u2082  \u2500\u2500\u2500\u2500\u2500\u23a5\n",
        "\u23a2           kap \u23a5\n",
        "\u23a2               \u23a5\n",
        "\u23a2          -a\u2082\u2081 \u23a5\n",
        "\u23a2a\u2082\u2081  a\u2082\u2082  \u2500\u2500\u2500\u2500\u2500\u23a5\n",
        "\u23a2           kap \u23a5\n",
        "\u23a2               \u23a5\n",
        "\u23a2            1  \u23a5\n",
        "\u23a2 0    0   \u2500\u2500\u2500\u2500\u2500\u23a5\n",
        "\u23a3          \u03b2\u22c5kap\u23a6\n"
       ]
      }
     ],
     "prompt_number": 516
    },
    {
     "cell_type": "code",
     "collapsed": false,
     "input": [],
     "language": "python",
     "outputs": [
      {
       "ename": "NameError",
       "evalue": "name 'ei' is not defined",
       "output_type": "pyerr",
       "traceback": [
        "\u001b[1;31m---------------------------------------------------------------------------\u001b[0m\n\u001b[1;31mNameError\u001b[0m                                 Traceback (most recent call last)",
        "\u001b[1;32m<ipython-input-6-c5da3b026c9b>\u001b[0m in \u001b[0;36m<module>\u001b[1;34m()\u001b[0m\n\u001b[1;32m----> 1\u001b[1;33m \u001b[0mei\u001b[0m\u001b[1;33m.\u001b[0m\u001b[0mrvs\u001b[0m\u001b[1;33m(\u001b[0m\u001b[0msize\u001b[0m\u001b[1;33m=\u001b[0m\u001b[1;36m100\u001b[0m\u001b[1;33m)\u001b[0m\u001b[1;33m.\u001b[0m\u001b[0mmean\u001b[0m\u001b[1;33m(\u001b[0m\u001b[1;33m)\u001b[0m\u001b[1;33m\u001b[0m\u001b[0m\n\u001b[0m",
        "\u001b[1;31mNameError\u001b[0m: name 'ei' is not defined"
       ]
      }
     ],
     "prompt_number": 6
    },
    {
     "cell_type": "code",
     "collapsed": false,
     "input": [
      "rho, kap = sympy.symbols('rho, kap')\n",
      "I[0, 0] = 1\n",
      "I[1, 1] = 1\n",
      "I[0, 2] = beta \n",
      "I[2, 2] = beta * kap\n",
      "A = sympy.zeros((3, 3))\n",
      "A[2, 2] = 1\n",
      "A[:2, :2] = A0\n",
      "#sympy.pprint(A)\n",
      "#sympy.pprint(I)\n",
      "#print sympy.latex(A * I.inv())\n",
      "\n",
      "Ahat = A*I.inv()\n",
      "\n",
      "#z = (Ahat * Ahat.transpose()).inv().subs({a21:0, a12:0})\n",
      "#d = [a11, a12, a21, a22, beta, rho]\n",
      "#H = sympy.Matrix(lambda i, j: z)\n",
      "sympy.pprint(Ahat)\n",
      "\n",
      "sympy.pprint(Ahat.inv())\n"
     ],
     "language": "python",
     "outputs": [
      {
       "ename": "ShapeError",
       "evalue": "\nThe Matrix `value` doesn't have the same dimensions as the in sub-\nMatrix given by `key`.",
       "output_type": "pyerr",
       "traceback": [
        "\u001b[1;31m---------------------------------------------------------------------------\u001b[0m\n\u001b[1;31mShapeError\u001b[0m                                Traceback (most recent call last)",
        "\u001b[1;32m<ipython-input-6-3852fb148ce8>\u001b[0m in \u001b[0;36m<module>\u001b[1;34m()\u001b[0m\n\u001b[0;32m      6\u001b[0m \u001b[0mA\u001b[0m \u001b[1;33m=\u001b[0m \u001b[0msympy\u001b[0m\u001b[1;33m.\u001b[0m\u001b[0mzeros\u001b[0m\u001b[1;33m(\u001b[0m\u001b[1;33m(\u001b[0m\u001b[1;36m3\u001b[0m\u001b[1;33m,\u001b[0m \u001b[1;36m3\u001b[0m\u001b[1;33m)\u001b[0m\u001b[1;33m)\u001b[0m\u001b[1;33m\u001b[0m\u001b[0m\n\u001b[0;32m      7\u001b[0m \u001b[0mA\u001b[0m\u001b[1;33m[\u001b[0m\u001b[1;36m2\u001b[0m\u001b[1;33m,\u001b[0m \u001b[1;36m2\u001b[0m\u001b[1;33m]\u001b[0m \u001b[1;33m=\u001b[0m \u001b[1;36m1\u001b[0m\u001b[1;33m\u001b[0m\u001b[0m\n\u001b[1;32m----> 8\u001b[1;33m \u001b[0mA\u001b[0m\u001b[1;33m[\u001b[0m\u001b[1;33m:\u001b[0m\u001b[1;36m2\u001b[0m\u001b[1;33m,\u001b[0m \u001b[1;33m:\u001b[0m\u001b[1;36m2\u001b[0m\u001b[1;33m]\u001b[0m \u001b[1;33m=\u001b[0m \u001b[0mA0\u001b[0m\u001b[1;33m\u001b[0m\u001b[0m\n\u001b[0m\u001b[0;32m      9\u001b[0m \u001b[1;31m#sympy.pprint(A)\u001b[0m\u001b[1;33m\u001b[0m\u001b[1;33m\u001b[0m\u001b[0m\n\u001b[0;32m     10\u001b[0m \u001b[1;31m#sympy.pprint(I)\u001b[0m\u001b[1;33m\u001b[0m\u001b[1;33m\u001b[0m\u001b[0m\n",
        "\u001b[1;32m/mq/home/m1eph00/anaconda/lib/python2.7/site-packages/sympy/matrices/dense.pyc\u001b[0m in \u001b[0;36m__setitem__\u001b[1;34m(self, key, value)\u001b[0m\n\u001b[0;32m    651\u001b[0m         [2, 2, 4, 2]])\n\u001b[0;32m    652\u001b[0m         \"\"\"\n\u001b[1;32m--> 653\u001b[1;33m         \u001b[0mrv\u001b[0m \u001b[1;33m=\u001b[0m \u001b[0mself\u001b[0m\u001b[1;33m.\u001b[0m\u001b[0m_setitem\u001b[0m\u001b[1;33m(\u001b[0m\u001b[0mkey\u001b[0m\u001b[1;33m,\u001b[0m \u001b[0mvalue\u001b[0m\u001b[1;33m)\u001b[0m\u001b[1;33m\u001b[0m\u001b[0m\n\u001b[0m\u001b[0;32m    654\u001b[0m         \u001b[1;32mif\u001b[0m \u001b[0mrv\u001b[0m \u001b[1;32mis\u001b[0m \u001b[1;32mnot\u001b[0m \u001b[0mNone\u001b[0m\u001b[1;33m:\u001b[0m\u001b[1;33m\u001b[0m\u001b[0m\n\u001b[0;32m    655\u001b[0m             \u001b[0mi\u001b[0m\u001b[1;33m,\u001b[0m \u001b[0mj\u001b[0m\u001b[1;33m,\u001b[0m \u001b[0mvalue\u001b[0m \u001b[1;33m=\u001b[0m \u001b[0mrv\u001b[0m\u001b[1;33m\u001b[0m\u001b[0m\n",
        "\u001b[1;32m/mq/home/m1eph00/anaconda/lib/python2.7/site-packages/sympy/matrices/matrices.pyc\u001b[0m in \u001b[0;36m_setitem\u001b[1;34m(self, key, value)\u001b[0m\n\u001b[0;32m    265\u001b[0m         \u001b[1;32mif\u001b[0m \u001b[0mtype\u001b[0m\u001b[1;33m(\u001b[0m\u001b[0mi\u001b[0m\u001b[1;33m)\u001b[0m \u001b[1;32mis\u001b[0m \u001b[0mslice\u001b[0m \u001b[1;32mor\u001b[0m \u001b[0mtype\u001b[0m\u001b[1;33m(\u001b[0m\u001b[0mj\u001b[0m\u001b[1;33m)\u001b[0m \u001b[1;32mis\u001b[0m \u001b[0mslice\u001b[0m\u001b[1;33m:\u001b[0m\u001b[1;33m\u001b[0m\u001b[0m\n\u001b[0;32m    266\u001b[0m             \u001b[1;32mif\u001b[0m \u001b[0mis_mat\u001b[0m\u001b[1;33m:\u001b[0m\u001b[1;33m\u001b[0m\u001b[0m\n\u001b[1;32m--> 267\u001b[1;33m                 \u001b[0mself\u001b[0m\u001b[1;33m.\u001b[0m\u001b[0mcopyin_matrix\u001b[0m\u001b[1;33m(\u001b[0m\u001b[0mkey\u001b[0m\u001b[1;33m,\u001b[0m \u001b[0mvalue\u001b[0m\u001b[1;33m)\u001b[0m\u001b[1;33m\u001b[0m\u001b[0m\n\u001b[0m\u001b[0;32m    268\u001b[0m                 \u001b[1;32mreturn\u001b[0m\u001b[1;33m\u001b[0m\u001b[0m\n\u001b[0;32m    269\u001b[0m             \u001b[1;32mif\u001b[0m \u001b[1;32mnot\u001b[0m \u001b[0misinstance\u001b[0m\u001b[1;33m(\u001b[0m\u001b[0mvalue\u001b[0m\u001b[1;33m,\u001b[0m \u001b[0mExpr\u001b[0m\u001b[1;33m)\u001b[0m \u001b[1;32mand\u001b[0m \u001b[0mis_sequence\u001b[0m\u001b[1;33m(\u001b[0m\u001b[0mvalue\u001b[0m\u001b[1;33m)\u001b[0m\u001b[1;33m:\u001b[0m\u001b[1;33m\u001b[0m\u001b[0m\n",
        "\u001b[1;32m/mq/home/m1eph00/anaconda/lib/python2.7/site-packages/sympy/matrices/dense.pyc\u001b[0m in \u001b[0;36mcopyin_matrix\u001b[1;34m(self, key, value)\u001b[0m\n\u001b[0;32m    695\u001b[0m         \u001b[0mdr\u001b[0m\u001b[1;33m,\u001b[0m \u001b[0mdc\u001b[0m \u001b[1;33m=\u001b[0m \u001b[0mrhi\u001b[0m \u001b[1;33m-\u001b[0m \u001b[0mrlo\u001b[0m\u001b[1;33m,\u001b[0m \u001b[0mchi\u001b[0m \u001b[1;33m-\u001b[0m \u001b[0mclo\u001b[0m\u001b[1;33m\u001b[0m\u001b[0m\n\u001b[0;32m    696\u001b[0m         \u001b[1;32mif\u001b[0m \u001b[0mshape\u001b[0m \u001b[1;33m!=\u001b[0m \u001b[1;33m(\u001b[0m\u001b[0mdr\u001b[0m\u001b[1;33m,\u001b[0m \u001b[0mdc\u001b[0m\u001b[1;33m)\u001b[0m\u001b[1;33m:\u001b[0m\u001b[1;33m\u001b[0m\u001b[0m\n\u001b[1;32m--> 697\u001b[1;33m             raise ShapeError(filldedent(\"The Matrix `value` doesn't have the \"\n\u001b[0m\u001b[0;32m    698\u001b[0m                 \u001b[1;34m\"same dimensions \"\u001b[0m\u001b[1;33m\u001b[0m\u001b[0m\n\u001b[0;32m    699\u001b[0m                 \"as the in sub-Matrix given by `key`.\"))\n",
        "\u001b[1;31mShapeError\u001b[0m: \nThe Matrix `value` doesn't have the same dimensions as the in sub-\nMatrix given by `key`."
       ]
      }
     ],
     "prompt_number": 6
    }
   ]
  }
 ]
}
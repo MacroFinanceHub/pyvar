{
 "metadata": {
  "name": ""
 },
 "nbformat": 3,
 "nbformat_minor": 0,
 "worksheets": [
  {
   "cells": [
    {
     "cell_type": "code",
     "collapsed": false,
     "input": [
      "%load_ext autoreload\n",
      "%autoreload 2"
     ],
     "language": "python",
     "outputs": [],
     "prompt_number": 1
    },
    {
     "cell_type": "code",
     "collapsed": false,
     "input": [
      "from __future__ import division\n",
      "\n",
      "from varprior import MinnesotaPrior\n",
      "from pyvar import BayesianVAR\n",
      "\n",
      "import pandas as p \n"
     ],
     "language": "python",
     "outputs": [],
     "prompt_number": 2
    },
    {
     "cell_type": "code",
     "collapsed": false,
     "input": [
      "dat = p.read_csv('/mq/home/m1eph00/projects/var-smc/var_smc_working/lib_var/sz_2008_joe_data.csv', dtype=float, names=['XGAP', 'INF', 'RFF'])\n",
      "h = np.array([2.5, 1.2, 1, 3, 1, 1])\n",
      "presample_moments=np.array([[-0.0141, 0.0127, 0.0298], [0.0076, 0.0110, 0.0090]])\n",
      "minnpr = MinnesotaPrior(dat[1:16], h, p=1, cons=True, presample_moments=presample_moments, lamxx=1)\n",
      "my_var = BayesianVAR(minnpr, dat)\n",
      "my_var.logmdd(dat)\n"
     ],
     "language": "python",
     "outputs": [
      {
       "output_type": "pyout",
       "prompt_number": 3,
       "text": [
        "1790.7249515480303"
       ]
      }
     ],
     "prompt_number": 3
    },
    {
     "cell_type": "code",
     "collapsed": false,
     "input": [
      "y, x = minnpr.get_pseudo_obs()\n",
      "beta, sigma = minnpr.rvs(100)\n",
      "beta = np.mean(beta, axis=0)\n",
      "sigma = np.mean(sigma, axis=0)\n",
      "print minnpr.logpdf(beta, sigma)\n",
      "thet = minnpr.theta(beta, sigma)\n",
      "print minnpr.logpdf(thet)\n",
      "#print my_var.loglik(thet)\n",
      "#print my_var.loglik(beta, sigma)"
     ],
     "language": "python",
     "outputs": [
      {
       "ename": "ValueError",
       "evalue": "too many values to unpack",
       "output_type": "pyerr",
       "traceback": [
        "\u001b[1;31m---------------------------------------------------------------------------\u001b[0m\n\u001b[1;31mValueError\u001b[0m                                Traceback (most recent call last)",
        "\u001b[1;32m<ipython-input-4-cc1956f63cac>\u001b[0m in \u001b[0;36m<module>\u001b[1;34m()\u001b[0m\n\u001b[0;32m      1\u001b[0m \u001b[0my\u001b[0m\u001b[1;33m,\u001b[0m \u001b[0mx\u001b[0m \u001b[1;33m=\u001b[0m \u001b[0mminnpr\u001b[0m\u001b[1;33m.\u001b[0m\u001b[0mget_pseudo_obs\u001b[0m\u001b[1;33m(\u001b[0m\u001b[1;33m)\u001b[0m\u001b[1;33m\u001b[0m\u001b[0m\n\u001b[1;32m----> 2\u001b[1;33m \u001b[0mbeta\u001b[0m\u001b[1;33m,\u001b[0m \u001b[0msigma\u001b[0m \u001b[1;33m=\u001b[0m \u001b[0mminnpr\u001b[0m\u001b[1;33m.\u001b[0m\u001b[0mrvs\u001b[0m\u001b[1;33m(\u001b[0m\u001b[1;36m100\u001b[0m\u001b[1;33m)\u001b[0m\u001b[1;33m\u001b[0m\u001b[0m\n\u001b[0m\u001b[0;32m      3\u001b[0m \u001b[0mbeta\u001b[0m \u001b[1;33m=\u001b[0m \u001b[0mnp\u001b[0m\u001b[1;33m.\u001b[0m\u001b[0mmean\u001b[0m\u001b[1;33m(\u001b[0m\u001b[0mbeta\u001b[0m\u001b[1;33m,\u001b[0m \u001b[0maxis\u001b[0m\u001b[1;33m=\u001b[0m\u001b[1;36m0\u001b[0m\u001b[1;33m)\u001b[0m\u001b[1;33m\u001b[0m\u001b[0m\n\u001b[0;32m      4\u001b[0m \u001b[0msigma\u001b[0m \u001b[1;33m=\u001b[0m \u001b[0mnp\u001b[0m\u001b[1;33m.\u001b[0m\u001b[0mmean\u001b[0m\u001b[1;33m(\u001b[0m\u001b[0msigma\u001b[0m\u001b[1;33m,\u001b[0m \u001b[0maxis\u001b[0m\u001b[1;33m=\u001b[0m\u001b[1;36m0\u001b[0m\u001b[1;33m)\u001b[0m\u001b[1;33m\u001b[0m\u001b[0m\n\u001b[0;32m      5\u001b[0m \u001b[1;32mprint\u001b[0m \u001b[0mminnpr\u001b[0m\u001b[1;33m.\u001b[0m\u001b[0mlogpdf\u001b[0m\u001b[1;33m(\u001b[0m\u001b[0mbeta\u001b[0m\u001b[1;33m,\u001b[0m \u001b[0msigma\u001b[0m\u001b[1;33m)\u001b[0m\u001b[1;33m\u001b[0m\u001b[0m\n",
        "\u001b[1;31mValueError\u001b[0m: too many values to unpack"
       ]
      }
     ],
     "prompt_number": 4
    },
    {
     "cell_type": "code",
     "collapsed": false,
     "input": [
      "minnpr.rvs(1)"
     ],
     "language": "python",
     "outputs": [
      {
       "output_type": "pyout",
       "prompt_number": 5,
       "text": [
        "array([[  1.04243815e+00,   8.88476146e-01,   1.00065170e+00,\n",
        "          3.60456381e-02,  -1.29057229e-01,  -4.11249384e-02,\n",
        "         -5.56427971e-02,  -4.70611741e-02,  -1.06562485e-01,\n",
        "         -8.21685280e-04,  -1.00387862e-03,   6.90394896e-04,\n",
        "          1.07824038e-05,   3.14294375e-06,   5.42524891e-06,\n",
        "          1.62492289e-05,   5.46801069e-06,   1.79955192e-05]])"
       ]
      }
     ],
     "prompt_number": 5
    },
    {
     "cell_type": "code",
     "collapsed": false,
     "input": [
      "x = minnpr.rvs(3, flatten_output=True)\n",
      "\n",
      "print my_var.loglik(beta, sigma)\n",
      "print my_var.loglik(x[0])"
     ],
     "language": "python",
     "outputs": [
      {
       "ename": "NameError",
       "evalue": "name 'sigma' is not defined",
       "output_type": "pyerr",
       "traceback": [
        "\u001b[1;31m---------------------------------------------------------------------------\u001b[0m\n\u001b[1;31mNameError\u001b[0m                                 Traceback (most recent call last)",
        "\u001b[1;32m<ipython-input-6-e736188a6e97>\u001b[0m in \u001b[0;36m<module>\u001b[1;34m()\u001b[0m\n\u001b[0;32m      1\u001b[0m \u001b[0mx\u001b[0m \u001b[1;33m=\u001b[0m \u001b[0mminnpr\u001b[0m\u001b[1;33m.\u001b[0m\u001b[0mrvs\u001b[0m\u001b[1;33m(\u001b[0m\u001b[1;36m3\u001b[0m\u001b[1;33m,\u001b[0m \u001b[0mflatten_output\u001b[0m\u001b[1;33m=\u001b[0m\u001b[0mTrue\u001b[0m\u001b[1;33m)\u001b[0m\u001b[1;33m\u001b[0m\u001b[0m\n\u001b[0;32m      2\u001b[0m \u001b[1;33m\u001b[0m\u001b[0m\n\u001b[1;32m----> 3\u001b[1;33m \u001b[1;32mprint\u001b[0m \u001b[0mmy_var\u001b[0m\u001b[1;33m.\u001b[0m\u001b[0mloglik\u001b[0m\u001b[1;33m(\u001b[0m\u001b[0mbeta\u001b[0m\u001b[1;33m,\u001b[0m \u001b[0msigma\u001b[0m\u001b[1;33m)\u001b[0m\u001b[1;33m\u001b[0m\u001b[0m\n\u001b[0m\u001b[0;32m      4\u001b[0m \u001b[1;32mprint\u001b[0m \u001b[0mmy_var\u001b[0m\u001b[1;33m.\u001b[0m\u001b[0mloglik\u001b[0m\u001b[1;33m(\u001b[0m\u001b[0mx\u001b[0m\u001b[1;33m[\u001b[0m\u001b[1;36m0\u001b[0m\u001b[1;33m]\u001b[0m\u001b[1;33m)\u001b[0m\u001b[1;33m\u001b[0m\u001b[0m\n",
        "\u001b[1;31mNameError\u001b[0m: name 'sigma' is not defined"
       ]
      }
     ],
     "prompt_number": 6
    },
    {
     "cell_type": "code",
     "collapsed": false,
     "input": [
      "from statsmodels.tsa.tsatools import vec, vech\n",
      "print sigma\n",
      "print vech(sigma)"
     ],
     "language": "python",
     "outputs": [
      {
       "ename": "NameError",
       "evalue": "name 'sigma' is not defined",
       "output_type": "pyerr",
       "traceback": [
        "\u001b[1;31m---------------------------------------------------------------------------\u001b[0m\n\u001b[1;31mNameError\u001b[0m                                 Traceback (most recent call last)",
        "\u001b[1;32m<ipython-input-7-d2ce40a164f4>\u001b[0m in \u001b[0;36m<module>\u001b[1;34m()\u001b[0m\n\u001b[0;32m      1\u001b[0m \u001b[1;32mfrom\u001b[0m \u001b[0mstatsmodels\u001b[0m\u001b[1;33m.\u001b[0m\u001b[0mtsa\u001b[0m\u001b[1;33m.\u001b[0m\u001b[0mtsatools\u001b[0m \u001b[1;32mimport\u001b[0m \u001b[0mvec\u001b[0m\u001b[1;33m,\u001b[0m \u001b[0mvech\u001b[0m\u001b[1;33m\u001b[0m\u001b[0m\n\u001b[1;32m----> 2\u001b[1;33m \u001b[1;32mprint\u001b[0m \u001b[0msigma\u001b[0m\u001b[1;33m\u001b[0m\u001b[0m\n\u001b[0m\u001b[0;32m      3\u001b[0m \u001b[1;32mprint\u001b[0m \u001b[0mvech\u001b[0m\u001b[1;33m(\u001b[0m\u001b[0msigma\u001b[0m\u001b[1;33m)\u001b[0m\u001b[1;33m\u001b[0m\u001b[0m\n",
        "\u001b[1;31mNameError\u001b[0m: name 'sigma' is not defined"
       ]
      }
     ],
     "prompt_number": 7
    },
    {
     "cell_type": "code",
     "collapsed": false,
     "input": [
      "minnpr.rvs"
     ],
     "language": "python",
     "outputs": [
      {
       "output_type": "pyout",
       "prompt_number": 8,
       "text": [
        "<bound method MinnesotaPrior.rvs of <varprior.MinnesotaPrior object at 0x20252f10>>"
       ]
      }
     ],
     "prompt_number": 8
    },
    {
     "cell_type": "code",
     "collapsed": false,
     "input": [
      "import sys\n",
      "sys.path.append('/mq/home/m1eph00/code/python')\n",
      "import smc\n",
      "\n",
      "class Object(object):\n",
      "    pass\n",
      "model = Object()\n",
      "model.lik = my_var.loglik\n",
      "model.prior = my_var._prior\n",
      "#model.prior.rvs = lambda *args, **kwargs: my_var._prior.rvs(args, kwargs, flatten_output=True)\n",
      "\n",
      "\n",
      "my_smc = smc.TemperedSMC(model, mh_proposal=smc.BlockRWMHProposal)\n",
      "\n",
      "parasim, wghtsim, liksim, zhat = my_smc.sample(1000)"
     ],
     "language": "python",
     "outputs": [
      {
       "output_type": "stream",
       "stream": "stdout",
       "text": [
        "1 18\n",
        "[[17, 3, 12, 15, 5, 13, 1, 14, 6, 11, 9, 7, 4, 10, 0, 8, 16, 2]]\n",
        "phi = [4.01604812832e-06], avg. acpt = [ 0.99]"
       ]
      },
      {
       "output_type": "stream",
       "stream": "stdout",
       "text": [
        "\n",
        "1 18\n",
        "[[3, 9, 13, 6, 14, 12, 5, 10, 2, 1, 11, 15, 0, 8, 17, 16, 7, 4]]\n",
        "phi = [1.60641925133e-05], avg. acpt = [ 0.98]"
       ]
      },
      {
       "output_type": "stream",
       "stream": "stdout",
       "text": [
        "\n",
        "1 18\n",
        "[[10, 1, 3, 2, 13, 17, 5, 9, 7, 0, 12, 14, 6, 11, 16, 15, 4, 8]]\n",
        "phi = [3.61444331549e-05], avg. acpt = [ 0.96]"
       ]
      },
      {
       "output_type": "stream",
       "stream": "stdout",
       "text": [
        "\n",
        "304.123510563 3\n",
        "1 18\n",
        "[[7, 15, 5, 6, 0, 10, 16, 8, 17, 2, 14, 4, 12, 13, 3, 11, 1, 9]]\n",
        "phi = [6.42567700531e-05], avg. acpt = [ 0.93]"
       ]
      },
      {
       "output_type": "stream",
       "stream": "stdout",
       "text": [
        "\n",
        "1 18\n",
        "[[5, 6, 0, 4, 7, 8, 12, 14, 2, 17, 9, 1, 13, 11, 15, 10, 16, 3]]\n",
        "phi = [0.000100401203208], avg. acpt = [ 0.88]"
       ]
      },
      {
       "output_type": "stream",
       "stream": "stdout",
       "text": [
        "\n",
        "1 18\n",
        "[[0, 14, 6, 11, 15, 13, 2, 9, 5, 10, 7, 17, 1, 3, 12, 16, 8, 4]]\n",
        "phi = [0.00014457773262], avg. acpt = [ 0.85]"
       ]
      },
      {
       "output_type": "stream",
       "stream": "stdout",
       "text": [
        "\n",
        "318.477072767 6\n",
        "1 18\n",
        "[[3, 11, 5, 10, 6, 9, 0, 17, 7, 16, 14, 8, 2, 15, 12, 13, 4, 1]]\n",
        "phi = [0.000196786358288], avg. acpt = [ 0.83]"
       ]
      },
      {
       "output_type": "stream",
       "stream": "stdout",
       "text": [
        "\n",
        "1 18\n",
        "[[11, 10, 0, 6, 17, 12, 9, 2, 13, 14, 1, 16, 15, 4, 3, 7, 5, 8]]\n",
        "phi = [0.000257027080213], avg. acpt = [ 0.80]"
       ]
      },
      {
       "output_type": "stream",
       "stream": "stdout",
       "text": [
        "\n",
        "1 18\n",
        "[[10, 0, 9, 8, 11, 2, 6, 16, 17, 4, 15, 7, 14, 13, 5, 12, 1, 3]]\n",
        "phi = [0.000325299898394], avg. acpt = [ 0.77]"
       ]
      },
      {
       "output_type": "stream",
       "stream": "stdout",
       "text": [
        "\n",
        "371.927925715 9\n",
        "1 18\n",
        "[[16, 17, 10, 3, 5, 8, 13, 0, 9, 6, 1, 12, 11, 4, 15, 7, 14, 2]]\n",
        "phi = [0.000401604812832], avg. acpt = [ 0.78]"
       ]
      },
      {
       "output_type": "stream",
       "stream": "stdout",
       "text": [
        "\n",
        "1 18\n",
        "[[17, 14, 15, 13, 9, 1, 8, 11, 3, 16, 4, 5, 6, 2, 12, 10, 0, 7]]\n",
        "phi = [0.000485941823527], avg. acpt = [ 0.77]"
       ]
      },
      {
       "output_type": "stream",
       "stream": "stdout",
       "text": [
        "\n",
        "1 18\n",
        "[[16, 4, 14, 7, 10, 2, 3, 15, 8, 13, 11, 0, 5, 17, 9, 12, 6, 1]]\n",
        "phi = [0.000578310930478], avg. acpt = [ 0.72]"
       ]
      },
      {
       "output_type": "stream",
       "stream": "stdout",
       "text": [
        "\n",
        "1 18\n",
        "[[15, 10, 1, 3, 6, 2, 12, 9, 8, 14, 13, 5, 4, 0, 11, 16, 17, 7]]\n",
        "phi = [0.000678712133686], avg. acpt = [ 0.71]"
       ]
      },
      {
       "output_type": "stream",
       "stream": "stdout",
       "text": [
        "\n",
        "1 18\n",
        "[[0, 12, 5, 4, 14, 7, 15, 17, 8, 11, 1, 2, 9, 3, 16, 10, 6, 13]]\n",
        "phi = [0.000787145433151], avg. acpt = [ 0.69]"
       ]
      },
      {
       "output_type": "stream",
       "stream": "stdout",
       "text": [
        "\n",
        "1 18\n",
        "[[9, 17, 2, 0, 8, 12, 6, 15, 14, 7, 13, 10, 11, 3, 5, 4, 16, 1]]\n",
        "phi = [0.000903610828872], avg. acpt = [ 0.65]"
       ]
      },
      {
       "output_type": "stream",
       "stream": "stdout",
       "text": [
        "\n",
        "481.532757977 15\n",
        "1 18\n",
        "[[2, 16, 1, 6, 15, 9, 0, 17, 12, 10, 7, 5, 13, 11, 14, 3, 4, 8]]\n",
        "phi = [0.00102810832085], avg. acpt = [ 0.64]"
       ]
      },
      {
       "output_type": "stream",
       "stream": "stdout",
       "text": [
        "\n",
        "1 18\n",
        "[[14, 13, 6, 0, 7, 11, 4, 2, 8, 16, 10, 12, 5, 9, 15, 3, 1, 17]]\n",
        "phi = [0.00116063790908], avg. acpt = [ 0.63]"
       ]
      },
      {
       "output_type": "stream",
       "stream": "stdout",
       "text": [
        "\n",
        "1 18\n",
        "[[7, 2, 17, 8, 15, 14, 12, 3, 16, 9, 6, 11, 0, 1, 4, 5, 13, 10]]\n",
        "phi = [0.00130119959358], avg. acpt = [ 0.59]"
       ]
      },
      {
       "output_type": "stream",
       "stream": "stdout",
       "text": [
        "\n",
        "1 18\n",
        "[[10, 0, 1, 16, 11, 13, 7, 9, 2, 3, 5, 8, 15, 6, 4, 17, 12, 14]]\n",
        "phi = [0.00144979337432], avg. acpt = [ 0.59]"
       ]
      },
      {
       "output_type": "stream",
       "stream": "stdout",
       "text": [
        "\n",
        "1 18\n",
        "[[11, 0, 9, 8, 16, 6, 15, 4, 1, 2, 3, 14, 17, 5, 7, 10, 13, 12]]\n",
        "phi = [0.00160641925133], avg. acpt = [ 0.57]"
       ]
      },
      {
       "output_type": "stream",
       "stream": "stdout",
       "text": [
        "\n",
        "1 18\n",
        "[[0, 5, 10, 9, 6, 4, 2, 16, 7, 17, 8, 12, 3, 15, 13, 1, 14, 11]]\n",
        "phi = [0.00177107722459], avg. acpt = [ 0.55]"
       ]
      },
      {
       "output_type": "stream",
       "stream": "stdout",
       "text": [
        "\n",
        "1 18\n",
        "[[11, 12, 5, 6, 14, 2, 0, 4, 17, 8, 1, 7, 10, 15, 16, 9, 3, 13]]\n",
        "phi = [0.00194376729411], avg. acpt = [ 0.56]"
       ]
      },
      {
       "output_type": "stream",
       "stream": "stdout",
       "text": [
        "\n",
        "1 18\n",
        "[[8, 5, 1, 15, 9, 0, 12, 10, 2, 6, 14, 16, 3, 4, 17, 7, 13, 11]]\n",
        "phi = [0.00212448945988], avg. acpt = [ 0.56]"
       ]
      },
      {
       "output_type": "stream",
       "stream": "stdout",
       "text": [
        "\n",
        "1 18\n",
        "[[16, 10, 11, 3, 7, 17, 2, 4, 0, 9, 5, 14, 6, 1, 15, 13, 12, 8]]\n",
        "phi = [0.00231324372191], avg. acpt = [ 0.52]"
       ]
      },
      {
       "output_type": "stream",
       "stream": "stdout",
       "text": [
        "\n",
        "1 18\n",
        "[[4, 0, 12, 11, 9, 15, 5, 8, 17, 6, 7, 2, 10, 14, 13, 16, 3, 1]]\n",
        "phi = [0.0025100300802], avg. acpt = [ 0.49]"
       ]
      },
      {
       "output_type": "stream",
       "stream": "stdout",
       "text": [
        "\n",
        "1 18\n",
        "[[6, 11, 5, 3, 12, 17, 0, 2, 8, 16, 9, 15, 14, 13, 10, 4, 1, 7]]\n",
        "phi = [0.00271484853474], avg. acpt = [ 0.53]"
       ]
      },
      {
       "output_type": "stream",
       "stream": "stdout",
       "text": [
        "\n",
        "1 18\n",
        "[[14, 17, 6, 7, 12, 15, 4, 1, 2, 5, 9, 3, 11, 0, 8, 10, 13, 16]]\n",
        "phi = [0.00292769908555], avg. acpt = [ 0.49]"
       ]
      },
      {
       "output_type": "stream",
       "stream": "stdout",
       "text": [
        "\n",
        "1 18\n",
        "[[11, 5, 10, 7, 4, 15, 12, 0, 14, 8, 6, 17, 1, 16, 9, 3, 2, 13]]\n",
        "phi = [0.0031485817326], avg. acpt = [ 0.47]"
       ]
      },
      {
       "output_type": "stream",
       "stream": "stdout",
       "text": [
        "\n",
        "1 18\n",
        "[[2, 3, 16, 10, 13, 1, 6, 11, 12, 15, 14, 8, 7, 5, 4, 0, 17, 9]]\n",
        "phi = [0.00337749647592], avg. acpt = [ 0.47]"
       ]
      },
      {
       "output_type": "stream",
       "stream": "stdout",
       "text": [
        "\n",
        "1 18\n",
        "[[7, 6, 1, 10, 0, 12, 4, 3, 9, 15, 13, 14, 5, 11, 2, 16, 17, 8]]\n",
        "phi = [0.00361444331549], avg. acpt = [ 0.46]"
       ]
      },
      {
       "output_type": "stream",
       "stream": "stdout",
       "text": [
        "\n",
        "1 18\n",
        "[[17, 1, 2, 7, 14, 9, 5, 11, 0, 10, 3, 4, 12, 8, 16, 6, 15, 13]]\n",
        "phi = [0.00385942225132], avg. acpt = [ 0.44]"
       ]
      },
      {
       "output_type": "stream",
       "stream": "stdout",
       "text": [
        "\n",
        "483.868207664 31\n",
        "1 18\n",
        "[[17, 10, 12, 2, 16, 5, 11, 9, 15, 0, 1, 13, 8, 4, 14, 7, 6, 3]]\n",
        "phi = [0.0041124332834], avg. acpt = [ 0.46]"
       ]
      },
      {
       "output_type": "stream",
       "stream": "stdout",
       "text": [
        "\n",
        "1 18\n",
        "[[8, 9, 11, 0, 12, 14, 10, 15, 17, 3, 16, 5, 6, 1, 7, 2, 4, 13]]\n",
        "phi = [0.00437347641174], avg. acpt = [ 0.45]"
       ]
      },
      {
       "output_type": "stream",
       "stream": "stdout",
       "text": [
        "\n",
        "1 18\n",
        "[[17, 7, 5, 9, 11, 13, 10, 15, 3, 4, 1, 0, 2, 8, 14, 12, 16, 6]]\n",
        "phi = [0.00464255163634], avg. acpt = [ 0.43]"
       ]
      },
      {
       "output_type": "stream",
       "stream": "stdout",
       "text": [
        "\n",
        "1 18\n",
        "[[6, 0, 12, 14, 16, 3, 8, 13, 11, 1, 10, 7, 17, 5, 15, 4, 9, 2]]\n",
        "phi = [0.00491965895719], avg. acpt = [ 0.45]"
       ]
      },
      {
       "output_type": "stream",
       "stream": "stdout",
       "text": [
        "\n",
        "1 18\n",
        "[[2, 7, 9, 1, 12, 15, 10, 17, 4, 13, 0, 14, 3, 6, 11, 5, 8, 16]]\n",
        "phi = [0.0052047983743], avg. acpt = [ 0.40]"
       ]
      },
      {
       "output_type": "stream",
       "stream": "stdout",
       "text": [
        "\n",
        "1 18\n",
        "[[15, 0, 12, 9, 17, 6, 7, 3, 11, 1, 13, 5, 14, 4, 16, 2, 8, 10]]\n",
        "phi = [0.00549796988767], avg. acpt = [ 0.42]"
       ]
      },
      {
       "output_type": "stream",
       "stream": "stdout",
       "text": [
        "\n",
        "1 18\n",
        "[[4, 12, 5, 13, 14, 2, 0, 7, 16, 10, 1, 11, 15, 8, 17, 9, 6, 3]]\n",
        "phi = [0.0057991734973], avg. acpt = [ 0.40]"
       ]
      },
      {
       "output_type": "stream",
       "stream": "stdout",
       "text": [
        "\n",
        "1 18\n",
        "[[7, 6, 17, 9, 14, 10, 4, 16, 3, 5, 1, 13, 11, 15, 2, 8, 12, 0]]\n",
        "phi = [0.00610840920318], avg. acpt = [ 0.42]"
       ]
      },
      {
       "output_type": "stream",
       "stream": "stdout",
       "text": [
        "\n",
        "1 18\n",
        "[[16, 11, 10, 15, 13, 9, 3, 4, 1, 0, 6, 12, 5, 7, 14, 8, 2, 17]]\n",
        "phi = [0.00642567700531], avg. acpt = [ 0.42]"
       ]
      },
      {
       "output_type": "stream",
       "stream": "stdout",
       "text": [
        "\n",
        "1 18\n",
        "[[4, 16, 0, 5, 17, 7, 3, 15, 2, 12, 10, 6, 14, 8, 13, 9, 1, 11]]\n",
        "phi = [0.00675097690371], avg. acpt = [ 0.42]"
       ]
      },
      {
       "output_type": "stream",
       "stream": "stdout",
       "text": [
        "\n",
        "1 18\n",
        "[[4, 15, 12, 16, 14, 3, 11, 10, 7, 6, 13, 1, 5, 9, 2, 8, 0, 17]]\n",
        "phi = [0.00708430889836], avg. acpt = [ 0.41]"
       ]
      },
      {
       "output_type": "stream",
       "stream": "stdout",
       "text": [
        "\n",
        "1 18\n",
        "[[5, 7, 17, 11, 3, 14, 2, 10, 9, 15, 16, 12, 6, 13, 4, 0, 1, 8]]\n",
        "phi = [0.00742567298927], avg. acpt = [ 0.40]"
       ]
      },
      {
       "output_type": "stream",
       "stream": "stdout",
       "text": [
        "\n",
        "1 18\n",
        "[[9, 16, 15, 5, 3, 10, 11, 12, 2, 13, 14, 8, 0, 4, 7, 6, 17, 1]]\n",
        "phi = [0.00777506917643], avg. acpt = [ 0.35]"
       ]
      },
      {
       "output_type": "stream",
       "stream": "stdout",
       "text": [
        "\n",
        "1 18\n",
        "[[16, 4, 6, 8, 13, 3, 2, 11, 12, 1, 5, 14, 17, 9, 10, 0, 15, 7]]\n",
        "phi = [0.00813249745985], avg. acpt = [ 0.37]"
       ]
      },
      {
       "output_type": "stream",
       "stream": "stdout",
       "text": [
        "\n",
        "1 18\n",
        "[[6, 9, 12, 2, 13, 10, 5, 1, 15, 3, 8, 4, 7, 16, 11, 0, 14, 17]]\n",
        "phi = [0.00849795783953], avg. acpt = [ 0.36]"
       ]
      },
      {
       "output_type": "stream",
       "stream": "stdout",
       "text": [
        "\n",
        "1 18\n",
        "[[17, 15, 13, 1, 16, 0, 6, 8, 10, 12, 4, 3, 11, 14, 2, 9, 5, 7]]\n",
        "phi = [0.00887145031546], avg. acpt = [ 0.36]"
       ]
      },
      {
       "output_type": "stream",
       "stream": "stdout",
       "text": [
        "\n",
        "1 18\n",
        "[[14, 0, 5, 7, 2, 17, 6, 9, 10, 13, 8, 16, 15, 11, 4, 12, 3, 1]]\n",
        "phi = [0.00925297488765], avg. acpt = [ 0.34]"
       ]
      },
      {
       "output_type": "stream",
       "stream": "stdout",
       "text": [
        "\n",
        "1 18\n",
        "[[15, 10, 6, 12, 16, 4, 13, 5, 8, 0, 7, 17, 2, 11, 3, 1, 9, 14]]\n",
        "phi = [0.0096425315561], avg. acpt = [ 0.33]"
       ]
      },
      {
       "output_type": "stream",
       "stream": "stdout",
       "text": [
        "\n",
        "1 18\n",
        "[[9, 14, 10, 16, 13, 5, 17, 12, 0, 8, 11, 15, 7, 2, 3, 4, 6, 1]]\n",
        "phi = [0.0100401203208], avg. acpt = [ 0.35]"
       ]
      },
      {
       "output_type": "stream",
       "stream": "stdout",
       "text": [
        "\n",
        "1 18\n",
        "[[10, 4, 0, 13, 2, 12, 17, 7, 3, 11, 1, 8, 16, 5, 14, 6, 15, 9]]\n",
        "phi = [0.0104457411818], avg. acpt = [ 0.34]"
       ]
      },
      {
       "output_type": "stream",
       "stream": "stdout",
       "text": [
        "\n",
        "1 18\n",
        "[[7, 5, 8, 14, 2, 6, 10, 15, 1, 12, 3, 11, 9, 4, 17, 0, 16, 13]]\n",
        "phi = [0.010859394139], avg. acpt = [ 0.32]"
       ]
      },
      {
       "output_type": "stream",
       "stream": "stdout",
       "text": [
        "\n",
        "1 18\n",
        "[[4, 0, 3, 16, 9, 14, 8, 11, 10, 15, 7, 5, 13, 17, 1, 2, 6, 12]]\n",
        "phi = [0.0112810791925], avg. acpt = [ 0.33]"
       ]
      },
      {
       "output_type": "stream",
       "stream": "stdout",
       "text": [
        "\n",
        "1 18\n",
        "[[7, 15, 0, 9, 1, 8, 17, 16, 11, 13, 12, 14, 2, 3, 5, 10, 6, 4]]\n",
        "phi = [0.0117107963422], avg. acpt = [ 0.30]"
       ]
      },
      {
       "output_type": "stream",
       "stream": "stdout",
       "text": [
        "\n",
        "1 18\n",
        "[[5, 6, 12, 0, 4, 9, 16, 2, 14, 8, 3, 13, 11, 15, 1, 7, 17, 10]]\n",
        "phi = [0.0121485455882], avg. acpt = [ 0.33]"
       ]
      },
      {
       "output_type": "stream",
       "stream": "stdout",
       "text": [
        "\n",
        "1 18\n",
        "[[6, 2, 8, 3, 12, 11, 13, 9, 4, 14, 17, 10, 1, 7, 0, 16, 5, 15]]\n",
        "phi = [0.0125943269304], avg. acpt = [ 0.32]"
       ]
      },
      {
       "output_type": "stream",
       "stream": "stdout",
       "text": [
        "\n",
        "1 18\n",
        "[[2, 7, 1, 12, 11, 4, 14, 3, 5, 0, 17, 16, 13, 10, 6, 9, 8, 15]]\n",
        "phi = [0.0130481403689], avg. acpt = [ 0.30]"
       ]
      },
      {
       "output_type": "stream",
       "stream": "stdout",
       "text": [
        "\n",
        "1 18\n",
        "[[5, 13, 10, 17, 0, 11, 2, 6, 9, 16, 12, 1, 3, 4, 14, 7, 8, 15]]\n",
        "phi = [0.0135099859037], avg. acpt = [ 0.32]"
       ]
      },
      {
       "output_type": "stream",
       "stream": "stdout",
       "text": [
        "\n",
        "1 18\n",
        "[[3, 17, 15, 5, 10, 11, 1, 0, 2, 6, 7, 9, 13, 16, 4, 14, 8, 12]]\n",
        "phi = [0.0139798635347], avg. acpt = [ 0.29]"
       ]
      },
      {
       "output_type": "stream",
       "stream": "stdout",
       "text": [
        "\n",
        "1 18\n",
        "[[4, 2, 7, 6, 8, 17, 0, 15, 12, 10, 5, 11, 13, 1, 3, 14, 9, 16]]\n",
        "phi = [0.014457773262], avg. acpt = [ 0.29]"
       ]
      },
      {
       "output_type": "stream",
       "stream": "stdout",
       "text": [
        "\n",
        "1 18\n",
        "[[11, 8, 1, 16, 10, 15, 13, 14, 7, 12, 3, 6, 0, 4, 9, 2, 5, 17]]\n",
        "phi = [0.0149437150855], avg. acpt = [ 0.32]"
       ]
      },
      {
       "output_type": "stream",
       "stream": "stdout",
       "text": [
        "\n",
        "1 18\n",
        "[[10, 2, 13, 5, 16, 15, 14, 8, 7, 6, 4, 17, 9, 12, 3, 11, 1, 0]]\n",
        "phi = [0.0154376890053], avg. acpt = [ 0.28]"
       ]
      },
      {
       "output_type": "stream",
       "stream": "stdout",
       "text": [
        "\n",
        "1 18\n",
        "[[6, 12, 7, 11, 14, 13, 9, 2, 0, 10, 16, 15, 4, 1, 5, 17, 3, 8]]\n",
        "phi = [0.0159396950213], avg. acpt = [ 0.26]"
       ]
      },
      {
       "output_type": "stream",
       "stream": "stdout",
       "text": [
        "\n",
        "1 18\n",
        "[[4, 2, 16, 5, 6, 1, 7, 11, 12, 0, 13, 15, 8, 9, 3, 10, 14, 17]]\n",
        "phi = [0.0164497331336], avg. acpt = [ 0.25]"
       ]
      },
      {
       "output_type": "stream",
       "stream": "stdout",
       "text": [
        "\n",
        "1 18\n",
        "[[3, 0, 17, 9, 13, 6, 16, 2, 7, 12, 10, 5, 8, 11, 14, 1, 15, 4]]\n",
        "phi = [0.0169678033422], avg. acpt = [ 0.29]"
       ]
      },
      {
       "output_type": "stream",
       "stream": "stdout",
       "text": [
        "\n",
        "1 18\n",
        "[[15, 13, 11, 9, 7, 8, 6, 17, 14, 1, 10, 3, 4, 5, 2, 0, 12, 16]]\n",
        "phi = [0.017493905647], avg. acpt = [ 0.26]"
       ]
      },
      {
       "output_type": "stream",
       "stream": "stdout",
       "text": [
        "\n",
        "1 18\n",
        "[[2, 15, 3, 0, 10, 6, 8, 4, 14, 1, 7, 13, 9, 5, 11, 16, 17, 12]]\n",
        "phi = [0.018028040048], avg. acpt = [ 0.26]"
       ]
      },
      {
       "output_type": "stream",
       "stream": "stdout",
       "text": [
        "\n",
        "1 18\n",
        "[[11, 4, 8, 10, 16, 15, 9, 7, 6, 13, 12, 2, 3, 1, 0, 17, 14, 5]]\n",
        "phi = [0.0185702065454], avg. acpt = [ 0.29]"
       ]
      },
      {
       "output_type": "stream",
       "stream": "stdout",
       "text": [
        "\n",
        "1 18\n",
        "[[15, 12, 16, 0, 17, 1, 8, 3, 9, 6, 13, 10, 14, 7, 4, 11, 5, 2]]\n",
        "phi = [0.0191204051389], avg. acpt = [ 0.27]"
       ]
      },
      {
       "output_type": "stream",
       "stream": "stdout",
       "text": [
        "\n",
        "1 18\n",
        "[[6, 13, 11, 4, 17, 9, 1, 14, 7, 3, 5, 2, 8, 12, 16, 0, 10, 15]]\n",
        "phi = [0.0196786358288], avg. acpt = [ 0.29]"
       ]
      },
      {
       "output_type": "stream",
       "stream": "stdout",
       "text": [
        "\n",
        "1 18\n",
        "[[11, 9, 16, 3, 5, 17, 0, 13, 14, 7, 4, 2, 15, 10, 1, 8, 6, 12]]\n",
        "phi = [0.0202448986149], avg. acpt = [ 0.25]"
       ]
      },
      {
       "output_type": "stream",
       "stream": "stdout",
       "text": [
        "\n",
        "1 18\n",
        "[[10, 2, 7, 11, 4, 1, 8, 0, 5, 3, 17, 12, 6, 13, 15, 14, 16, 9]]\n",
        "phi = [0.0208191934972], avg. acpt = [ 0.27]"
       ]
      },
      {
       "output_type": "stream",
       "stream": "stdout",
       "text": [
        "\n",
        "1 18\n",
        "[[5, 11, 8, 0, 13, 1, 14, 6, 15, 9, 4, 7, 12, 10, 17, 2, 16, 3]]\n",
        "phi = [0.0214015204758], avg. acpt = [ 0.25]"
       ]
      },
      {
       "output_type": "stream",
       "stream": "stdout",
       "text": [
        "\n",
        "1 18\n",
        "[[7, 17, 8, 5, 4, 6, 16, 9, 14, 0, 12, 10, 2, 15, 11, 3, 1, 13]]\n",
        "phi = [0.0219918795507], avg. acpt = [ 0.26]"
       ]
      },
      {
       "output_type": "stream",
       "stream": "stdout",
       "text": [
        "\n",
        "1 18\n",
        "[[12, 1, 3, 9, 7, 5, 16, 4, 15, 14, 8, 10, 13, 6, 11, 17, 0, 2]]\n",
        "phi = [0.0225902707218], avg. acpt = [ 0.24]"
       ]
      },
      {
       "output_type": "stream",
       "stream": "stdout",
       "text": [
        "\n",
        "1 18\n",
        "[[3, 9, 13, 6, 16, 4, 15, 10, 11, 8, 5, 7, 14, 0, 12, 17, 1, 2]]\n",
        "phi = [0.0231966939892], avg. acpt = [ 0.24]"
       ]
      },
      {
       "output_type": "stream",
       "stream": "stdout",
       "text": [
        "\n",
        "1 18\n",
        "[[16, 7, 2, 8, 17, 6, 1, 4, 13, 12, 14, 10, 3, 11, 9, 0, 5, 15]]\n",
        "phi = [0.0238111493528], avg. acpt = [ 0.26]"
       ]
      },
      {
       "output_type": "stream",
       "stream": "stdout",
       "text": [
        "\n",
        "1 18\n",
        "[[14, 2, 0, 4, 5, 17, 10, 9, 8, 1, 15, 13, 16, 6, 7, 3, 12, 11]]\n",
        "phi = [0.0244336368127], avg. acpt = [ 0.21]"
       ]
      },
      {
       "output_type": "stream",
       "stream": "stdout",
       "text": [
        "\n",
        "1 18\n",
        "[[12, 17, 1, 3, 9, 8, 2, 10, 16, 14, 7, 11, 4, 15, 13, 6, 5, 0]]\n",
        "phi = [0.0250641563688], avg. acpt = [ 0.24]"
       ]
      },
      {
       "output_type": "stream",
       "stream": "stdout",
       "text": [
        "\n",
        "1 18\n",
        "[[14, 0, 11, 12, 2, 3, 4, 6, 1, 17, 9, 15, 5, 7, 13, 8, 16, 10]]\n",
        "phi = [0.0257027080213], avg. acpt = [ 0.22]"
       ]
      },
      {
       "output_type": "stream",
       "stream": "stdout",
       "text": [
        "\n",
        "1 18\n",
        "[[7, 13, 2, 10, 12, 6, 16, 0, 11, 4, 14, 3, 17, 5, 9, 1, 8, 15]]\n",
        "phi = [0.0263492917699], avg. acpt = [ 0.21]"
       ]
      },
      {
       "output_type": "stream",
       "stream": "stdout",
       "text": [
        "\n",
        "1 18\n",
        "[[17, 1, 5, 4, 7, 2, 12, 13, 15, 16, 6, 9, 11, 14, 8, 3, 0, 10]]\n",
        "phi = [0.0270039076148], avg. acpt = [ 0.21]"
       ]
      },
      {
       "output_type": "stream",
       "stream": "stdout",
       "text": [
        "\n",
        "1 18\n",
        "[[7, 3, 1, 16, 9, 8, 14, 17, 2, 10, 11, 5, 0, 6, 15, 13, 12, 4]]\n",
        "phi = [0.027666555556], avg. acpt = [ 0.23]"
       ]
      },
      {
       "output_type": "stream",
       "stream": "stdout",
       "text": [
        "\n",
        "1 18\n",
        "[[0, 3, 15, 8, 4, 13, 1, 12, 11, 7, 9, 5, 14, 10, 17, 6, 2, 16]]\n",
        "phi = [0.0283372355934], avg. acpt = [ 0.21]"
       ]
      },
      {
       "output_type": "stream",
       "stream": "stdout",
       "text": [
        "\n",
        "1 18\n",
        "[[15, 16, 0, 7, 9, 2, 13, 14, 3, 10, 17, 5, 8, 11, 4, 12, 6, 1]]\n",
        "phi = [0.0290159477271], avg. acpt = [ 0.23]"
       ]
      },
      {
       "output_type": "stream",
       "stream": "stdout",
       "text": [
        "\n",
        "1 18\n",
        "[[6, 14, 10, 12, 5, 15, 2, 11, 8, 7, 9, 4, 0, 13, 16, 3, 1, 17]]\n",
        "phi = [0.0297026919571], avg. acpt = [ 0.24]"
       ]
      },
      {
       "output_type": "stream",
       "stream": "stdout",
       "text": [
        "\n",
        "1 18\n",
        "[[11, 1, 4, 2, 10, 16, 5, 17, 7, 9, 15, 14, 3, 6, 13, 12, 8, 0]]\n",
        "phi = [0.0303974682833], avg. acpt = [ 0.23]"
       ]
      },
      {
       "output_type": "stream",
       "stream": "stdout",
       "text": [
        "\n",
        "1 18\n",
        "[[10, 15, 3, 17, 1, 13, 2, 0, 5, 8, 16, 9, 7, 6, 14, 12, 4, 11]]\n",
        "phi = [0.0311002767057], avg. acpt = [ 0.20]"
       ]
      },
      {
       "output_type": "stream",
       "stream": "stdout",
       "text": [
        "\n",
        "1 18\n",
        "[[16, 13, 3, 11, 6, 8, 17, 10, 9, 14, 7, 2, 15, 5, 1, 4, 12, 0]]\n",
        "phi = [0.0318111172244], avg. acpt = [ 0.20]"
       ]
      },
      {
       "output_type": "stream",
       "stream": "stdout",
       "text": [
        "\n",
        "1 18\n",
        "[[13, 11, 8, 3, 14, 9, 17, 16, 7, 4, 5, 2, 0, 1, 15, 10, 12, 6]]\n",
        "phi = [0.0325299898394], avg. acpt = [ 0.21]"
       ]
      },
      {
       "output_type": "stream",
       "stream": "stdout",
       "text": [
        "\n",
        "1 18\n",
        "[[12, 6, 8, 1, 13, 4, 14, 2, 3, 15, 17, 0, 5, 9, 10, 16, 7, 11]]\n",
        "phi = [0.0332568945506], avg. acpt = [ 0.21]"
       ]
      },
      {
       "output_type": "stream",
       "stream": "stdout",
       "text": [
        "\n",
        "1 18\n",
        "[[3, 6, 10, 1, 7, 12, 2, 4, 13, 14, 15, 16, 9, 8, 17, 0, 5, 11]]\n",
        "phi = [0.0339918313581], avg. acpt = [ 0.21]"
       ]
      },
      {
       "output_type": "stream",
       "stream": "stdout",
       "text": [
        "\n",
        "1 18\n",
        "[[10, 1, 14, 15, 0, 4, 8, 13, 6, 12, 16, 3, 5, 7, 2, 11, 9, 17]]\n",
        "phi = [0.0347348002618], avg. acpt = [ 0.17]"
       ]
      },
      {
       "output_type": "stream",
       "stream": "stdout",
       "text": [
        "\n",
        "1 18\n",
        "[[11, 15, 13, 8, 0, 3, 12, 16, 4, 7, 14, 6, 5, 10, 1, 2, 17, 9]]\n",
        "phi = [0.0354858012618], avg. acpt = [ 0.19]"
       ]
      },
      {
       "output_type": "stream",
       "stream": "stdout",
       "text": [
        "\n",
        "1 18\n",
        "[[12, 16, 10, 6, 15, 2, 0, 9, 13, 11, 1, 7, 14, 3, 17, 5, 8, 4]]\n",
        "phi = [0.0362448343581], avg. acpt = [ 0.17]"
       ]
      },
      {
       "output_type": "stream",
       "stream": "stdout",
       "text": [
        "\n",
        "1 18\n",
        "[[2, 10, 15, 3, 13, 16, 14, 12, 9, 4, 1, 5, 11, 17, 7, 0, 6, 8]]\n",
        "phi = [0.0370118995506], avg. acpt = [ 0.20]"
       ]
      },
      {
       "output_type": "stream",
       "stream": "stdout",
       "text": [
        "\n",
        "1 18\n",
        "[[14, 7, 13, 2, 11, 9, 1, 0, 10, 17, 16, 15, 12, 5, 6, 8, 3, 4]]\n",
        "phi = [0.0377869968394], avg. acpt = [ 0.18]"
       ]
      },
      {
       "output_type": "stream",
       "stream": "stdout",
       "text": [
        "\n",
        "1 18\n",
        "[[16, 14, 9, 0, 2, 15, 3, 7, 8, 1, 13, 10, 17, 4, 5, 6, 12, 11]]\n",
        "phi = [0.0385701262244], avg. acpt = [ 0.17]"
       ]
      },
      {
       "output_type": "stream",
       "stream": "stdout",
       "text": [
        "\n",
        "1 18\n",
        "[[3, 5, 14, 13, 2, 6, 16, 15, 0, 17, 10, 8, 1, 12, 11, 9, 4, 7]]\n",
        "phi = [0.0393612877057], avg. acpt = [ 0.17]"
       ]
      },
      {
       "output_type": "stream",
       "stream": "stdout",
       "text": [
        "\n",
        "1 18\n",
        "[[14, 17, 5, 9, 7, 3, 0, 15, 11, 4, 1, 12, 13, 6, 2, 16, 10, 8]]\n",
        "phi = [0.0401604812832], avg. acpt = [ 0.19]"
       ]
      },
      {
       "output_type": "stream",
       "stream": "stdout",
       "text": [
        "\n",
        "1 18\n",
        "[[2, 1, 12, 13, 9, 5, 7, 0, 15, 16, 8, 17, 11, 4, 3, 10, 6, 14]]\n",
        "phi = [0.040967706957], avg. acpt = [ 0.18]"
       ]
      },
      {
       "output_type": "stream",
       "stream": "stdout",
       "text": [
        "\n",
        "1 18\n",
        "[[8, 6, 5, 0, 3, 7, 2, 14, 15, 16, 10, 9, 17, 13, 1, 12, 4, 11]]\n",
        "phi = [0.041782964727], avg. acpt = [ 0.18]"
       ]
      },
      {
       "output_type": "stream",
       "stream": "stdout",
       "text": [
        "\n",
        "1 18\n",
        "[[4, 3, 15, 13, 7, 17, 8, 2, 6, 16, 12, 10, 0, 9, 5, 14, 1, 11]]\n",
        "phi = [0.0426062545934], avg. acpt = [ 0.17]"
       ]
      },
      {
       "output_type": "stream",
       "stream": "stdout",
       "text": [
        "\n",
        "1 18\n",
        "[[8, 12, 7, 10, 2, 11, 3, 5, 6, 15, 14, 13, 16, 0, 9, 4, 17, 1]]\n",
        "phi = [0.0434375765559], avg. acpt = [ 0.19]"
       ]
      },
      {
       "output_type": "stream",
       "stream": "stdout",
       "text": [
        "\n",
        "1 18\n",
        "[[0, 17, 14, 2, 16, 12, 7, 5, 13, 11, 4, 15, 10, 6, 3, 8, 1, 9]]\n",
        "phi = [0.0442769306147], avg. acpt = [ 0.18]"
       ]
      },
      {
       "output_type": "stream",
       "stream": "stdout",
       "text": [
        "\n",
        "1 18\n",
        "[[7, 6, 16, 0, 2, 12, 10, 13, 11, 17, 14, 8, 3, 15, 4, 9, 1, 5]]\n",
        "phi = [0.0451243167698], avg. acpt = [ 0.17]"
       ]
      },
      {
       "output_type": "stream",
       "stream": "stdout",
       "text": [
        "\n",
        "1 18\n",
        "[[14, 11, 3, 9, 6, 15, 17, 5, 12, 16, 2, 4, 0, 7, 10, 13, 8, 1]]\n",
        "phi = [0.0459797350211], avg. acpt = [ 0.17]"
       ]
      },
      {
       "output_type": "stream",
       "stream": "stdout",
       "text": [
        "\n",
        "1 18\n",
        "[[12, 0, 14, 8, 7, 9, 15, 10, 11, 13, 5, 16, 4, 3, 17, 2, 6, 1]]\n",
        "phi = [0.0468431853687], avg. acpt = [ 0.18]"
       ]
      },
      {
       "output_type": "stream",
       "stream": "stdout",
       "text": [
        "\n",
        "1 18\n",
        "[[7, 15, 2, 16, 4, 12, 13, 9, 1, 5, 11, 14, 0, 10, 3, 17, 8, 6]]\n",
        "phi = [0.0477146678126], avg. acpt = [ 0.15]"
       ]
      },
      {
       "output_type": "stream",
       "stream": "stdout",
       "text": [
        "\n",
        "1 18\n",
        "[[13, 7, 2, 3, 11, 12, 16, 1, 17, 15, 10, 4, 14, 0, 6, 8, 9, 5]]\n",
        "phi = [0.0485941823527], avg. acpt = [ 0.17]"
       ]
      },
      {
       "output_type": "stream",
       "stream": "stdout",
       "text": [
        "\n",
        "1 18\n",
        "[[10, 12, 13, 11, 15, 2, 7, 4, 14, 16, 6, 17, 1, 0, 9, 3, 5, 8]]\n",
        "phi = [0.049481728989], avg. acpt = [ 0.18]"
       ]
      },
      {
       "output_type": "stream",
       "stream": "stdout",
       "text": [
        "\n",
        "1 18\n",
        "[[4, 16, 15, 1, 6, 5, 14, 8, 13, 12, 10, 9, 17, 2, 7, 11, 3, 0]]\n",
        "phi = [0.0503773077217], avg. acpt = [ 0.18]"
       ]
      },
      {
       "output_type": "stream",
       "stream": "stdout",
       "text": [
        "\n",
        "1 18\n",
        "[[12, 13, 8, 15, 17, 4, 11, 3, 0, 5, 1, 6, 16, 9, 7, 2, 10, 14]]\n",
        "phi = [0.0512809185505], avg. acpt = [ 0.16]"
       ]
      },
      {
       "output_type": "stream",
       "stream": "stdout",
       "text": [
        "\n",
        "1 18\n",
        "[[7, 11, 4, 12, 10, 9, 13, 17, 2, 0, 8, 14, 6, 15, 1, 3, 5, 16]]\n",
        "phi = [0.0521925614757], avg. acpt = [ 0.17]"
       ]
      },
      {
       "output_type": "stream",
       "stream": "stdout",
       "text": [
        "\n",
        "1 18\n",
        "[[4, 1, 12, 2, 7, 9, 3, 0, 10, 11, 16, 14, 13, 17, 15, 5, 8, 6]]\n",
        "phi = [0.053112236497], avg. acpt = [ 0.16]"
       ]
      },
      {
       "output_type": "stream",
       "stream": "stdout",
       "text": [
        "\n",
        "1 18\n",
        "[[3, 4, 2, 0, 10, 1, 14, 9, 17, 12, 15, 7, 13, 11, 16, 6, 5, 8]]\n",
        "phi = [0.0540399436147], avg. acpt = [ 0.17]"
       ]
      },
      {
       "output_type": "stream",
       "stream": "stdout",
       "text": [
        "\n",
        "1 18\n",
        "[[6, 4, 7, 5, 1, 3, 14, 2, 9, 8, 12, 10, 16, 15, 17, 13, 0, 11]]\n",
        "phi = [0.0549756828286], avg. acpt = [ 0.16]"
       ]
      },
      {
       "output_type": "stream",
       "stream": "stdout",
       "text": [
        "\n",
        "1 18\n",
        "[[0, 12, 16, 11, 7, 8, 15, 1, 6, 3, 13, 17, 14, 9, 10, 5, 2, 4]]\n",
        "phi = [0.0559194541387], avg. acpt = [ 0.16]"
       ]
      },
      {
       "output_type": "stream",
       "stream": "stdout",
       "text": [
        "\n",
        "1 18\n",
        "[[14, 11, 13, 15, 4, 3, 0, 6, 2, 5, 17, 8, 10, 1, 7, 16, 12, 9]]\n",
        "phi = [0.0568712575452], avg. acpt = [ 0.17]"
       ]
      },
      {
       "output_type": "stream",
       "stream": "stdout",
       "text": [
        "\n",
        "1 18\n",
        "[[11, 16, 14, 7, 8, 12, 3, 0, 4, 1, 6, 9, 15, 13, 17, 5, 10, 2]]\n",
        "phi = [0.0578310930478], avg. acpt = [ 0.15]"
       ]
      },
      {
       "output_type": "stream",
       "stream": "stdout",
       "text": [
        "\n",
        "1 18\n",
        "[[7, 4, 14, 1, 9, 16, 6, 3, 8, 12, 11, 0, 15, 5, 13, 10, 17, 2]]\n",
        "phi = [0.0587989606467], avg. acpt = [ 0.15]"
       ]
      },
      {
       "output_type": "stream",
       "stream": "stdout",
       "text": [
        "\n",
        "1 18\n",
        "[[11, 4, 8, 14, 7, 17, 0, 6, 15, 10, 1, 3, 9, 2, 16, 13, 5, 12]]\n",
        "phi = [0.0597748603419], avg. acpt = [ 0.17]"
       ]
      },
      {
       "output_type": "stream",
       "stream": "stdout",
       "text": [
        "\n",
        "1 18\n",
        "[[15, 4, 12, 1, 0, 11, 9, 10, 6, 3, 13, 8, 16, 5, 7, 17, 14, 2]]\n",
        "phi = [0.0607587921334], avg. acpt = [ 0.14]"
       ]
      },
      {
       "output_type": "stream",
       "stream": "stdout",
       "text": [
        "\n",
        "1 18\n",
        "[[14, 9, 7, 3, 16, 13, 4, 0, 5, 15, 8, 2, 17, 1, 10, 6, 11, 12]]\n",
        "phi = [0.0617507560211], avg. acpt = [ 0.17]"
       ]
      },
      {
       "output_type": "stream",
       "stream": "stdout",
       "text": [
        "\n",
        "1 18\n",
        "[[10, 1, 15, 4, 9, 6, 14, 16, 2, 13, 5, 8, 0, 12, 3, 17, 7, 11]]\n",
        "phi = [0.062750752005], avg. acpt = [ 0.14]"
       ]
      },
      {
       "output_type": "stream",
       "stream": "stdout",
       "text": [
        "\n",
        "1 18\n",
        "[[13, 16, 17, 10, 0, 15, 6, 2, 9, 4, 3, 14, 5, 11, 8, 7, 12, 1]]\n",
        "phi = [0.0637587800852], avg. acpt = [ 0.16]"
       ]
      },
      {
       "output_type": "stream",
       "stream": "stdout",
       "text": [
        "\n",
        "1 18\n",
        "[[14, 15, 16, 0, 12, 3, 8, 2, 11, 10, 4, 17, 6, 13, 1, 5, 9, 7]]\n",
        "phi = [0.0647748402617], avg. acpt = [ 0.14]"
       ]
      },
      {
       "output_type": "stream",
       "stream": "stdout",
       "text": [
        "\n",
        "1 18\n",
        "[[10, 15, 2, 12, 6, 16, 11, 13, 9, 3, 7, 8, 1, 17, 14, 4, 0, 5]]\n",
        "phi = [0.0657989325344], avg. acpt = [ 0.13]"
       ]
      },
      {
       "output_type": "stream",
       "stream": "stdout",
       "text": [
        "\n",
        "1 18\n",
        "[[3, 7, 6, 1, 2, 9, 15, 10, 12, 5, 14, 17, 8, 11, 4, 0, 16, 13]]\n",
        "phi = [0.0668310569034], avg. acpt = [ 0.14]"
       ]
      },
      {
       "output_type": "stream",
       "stream": "stdout",
       "text": [
        "\n",
        "1 18\n",
        "[[14, 4, 1, 3, 13, 11, 16, 9, 0, 6, 7, 15, 2, 8, 17, 5, 10, 12]]\n",
        "phi = [0.0678712133686], avg. acpt = [ 0.14]"
       ]
      },
      {
       "output_type": "stream",
       "stream": "stdout",
       "text": [
        "\n",
        "1 18\n",
        "[[2, 8, 4, 6, 7, 11, 16, 3, 17, 9, 1, 0, 15, 10, 12, 13, 14, 5]]\n",
        "phi = [0.0689194019301], avg. acpt = [ 0.14]"
       ]
      },
      {
       "output_type": "stream",
       "stream": "stdout",
       "text": [
        "\n",
        "1 18\n",
        "[[14, 11, 12, 17, 8, 9, 2, 5, 16, 3, 7, 6, 10, 0, 4, 13, 1, 15]]\n",
        "phi = [0.0699756225879], avg. acpt = [ 0.15]"
       ]
      },
      {
       "output_type": "stream",
       "stream": "stdout",
       "text": [
        "\n",
        "1 18\n",
        "[[8, 12, 6, 4, 17, 16, 2, 9, 10, 14, 0, 1, 11, 5, 15, 13, 3, 7]]\n",
        "phi = [0.0710398753419], avg. acpt = [ 0.14]"
       ]
      },
      {
       "output_type": "stream",
       "stream": "stdout",
       "text": [
        "\n",
        "1 18\n",
        "[[1, 7, 5, 12, 2, 13, 17, 3, 6, 9, 8, 11, 4, 14, 15, 16, 0, 10]]\n",
        "phi = [0.0721121601921], avg. acpt = [ 0.14]"
       ]
      },
      {
       "output_type": "stream",
       "stream": "stdout",
       "text": [
        "\n",
        "1 18\n",
        "[[15, 2, 6, 16, 9, 7, 4, 5, 1, 8, 11, 12, 0, 3, 17, 13, 10, 14]]\n",
        "phi = [0.0731924771386], avg. acpt = [ 0.16]"
       ]
      },
      {
       "output_type": "stream",
       "stream": "stdout",
       "text": [
        "\n",
        "1 18\n",
        "[[1, 2, 3, 15, 0, 16, 5, 7, 9, 14, 11, 10, 6, 17, 13, 4, 12, 8]]\n",
        "phi = [0.0742808261814], avg. acpt = [ 0.14]"
       ]
      },
      {
       "output_type": "stream",
       "stream": "stdout",
       "text": [
        "\n",
        "1 18\n",
        "[[15, 1, 10, 13, 2, 5, 14, 11, 7, 12, 4, 3, 16, 8, 17, 0, 6, 9]]\n",
        "phi = [0.0753772073205], avg. acpt = [ 0.15]"
       ]
      },
      {
       "output_type": "stream",
       "stream": "stdout",
       "text": [
        "\n",
        "1 18\n",
        "[[2, 15, 13, 7, 6, 8, 12, 3, 11, 10, 1, 17, 4, 0, 14, 16, 9, 5]]\n",
        "phi = [0.0764816205557], avg. acpt = [ 0.13]"
       ]
      },
      {
       "output_type": "stream",
       "stream": "stdout",
       "text": [
        "\n",
        "1 18\n",
        "[[11, 4, 1, 13, 2, 12, 3, 10, 5, 9, 15, 7, 14, 16, 6, 0, 17, 8]]\n",
        "phi = [0.0775940658873], avg. acpt = [ 0.12]"
       ]
      },
      {
       "output_type": "stream",
       "stream": "stdout",
       "text": [
        "\n",
        "1 18\n",
        "[[8, 15, 3, 4, 17, 11, 12, 1, 2, 7, 9, 13, 5, 14, 6, 0, 10, 16]]\n",
        "phi = [0.0787145433151], avg. acpt = [ 0.12]"
       ]
      },
      {
       "output_type": "stream",
       "stream": "stdout",
       "text": [
        "\n",
        "1 18\n",
        "[[8, 3, 7, 2, 15, 6, 14, 11, 4, 17, 9, 1, 10, 16, 12, 5, 13, 0]]\n",
        "phi = [0.0798430528391], avg. acpt = [ 0.13]"
       ]
      },
      {
       "output_type": "stream",
       "stream": "stdout",
       "text": [
        "\n",
        "1 18\n",
        "[[0, 4, 12, 1, 2, 5, 9, 8, 11, 13, 14, 10, 7, 3, 6, 16, 17, 15]]\n",
        "phi = [0.0809795944595], avg. acpt = [ 0.14]"
       ]
      },
      {
       "output_type": "stream",
       "stream": "stdout",
       "text": [
        "\n",
        "1 18\n",
        "[[5, 6, 11, 4, 0, 13, 9, 8, 12, 17, 14, 2, 16, 3, 1, 10, 7, 15]]\n",
        "phi = [0.082124168176], avg. acpt = [ 0.13]"
       ]
      },
      {
       "output_type": "stream",
       "stream": "stdout",
       "text": [
        "\n",
        "1 18\n",
        "[[1, 12, 13, 11, 7, 14, 17, 2, 16, 10, 6, 0, 9, 5, 3, 15, 8, 4]]\n",
        "phi = [0.0832767739889], avg. acpt = [ 0.12]"
       ]
      },
      {
       "output_type": "stream",
       "stream": "stdout",
       "text": [
        "\n",
        "1 18\n",
        "[[14, 12, 9, 1, 16, 6, 13, 8, 4, 7, 2, 15, 17, 11, 10, 0, 5, 3]]\n",
        "phi = [0.0844374118979], avg. acpt = [ 0.12]"
       ]
      },
      {
       "output_type": "stream",
       "stream": "stdout",
       "text": [
        "\n",
        "1 18\n",
        "[[13, 8, 10, 3, 17, 0, 12, 16, 1, 6, 11, 14, 15, 2, 7, 5, 4, 9]]\n",
        "phi = [0.0856060819033], avg. acpt = [ 0.12]"
       ]
      },
      {
       "output_type": "stream",
       "stream": "stdout",
       "text": [
        "\n",
        "1 18\n",
        "[[8, 9, 5, 4, 11, 13, 16, 6, 2, 10, 0, 1, 17, 3, 14, 7, 12, 15]]\n",
        "phi = [0.0867827840049], avg. acpt = [ 0.13]"
       ]
      },
      {
       "output_type": "stream",
       "stream": "stdout",
       "text": [
        "\n",
        "1 18\n",
        "[[9, 2, 5, 6, 15, 17, 1, 10, 7, 11, 14, 0, 13, 4, 3, 16, 12, 8]]\n",
        "phi = [0.0879675182027], avg. acpt = [ 0.14]"
       ]
      },
      {
       "output_type": "stream",
       "stream": "stdout",
       "text": [
        "\n",
        "1 18\n",
        "[[11, 10, 7, 12, 13, 9, 4, 5, 3, 16, 17, 15, 2, 0, 6, 14, 1, 8]]\n",
        "phi = [0.0891602844968], avg. acpt = [ 0.14]"
       ]
      },
      {
       "output_type": "stream",
       "stream": "stdout",
       "text": [
        "\n",
        "1 18\n",
        "[[9, 15, 8, 14, 6, 13, 4, 0, 16, 17, 2, 12, 11, 1, 3, 5, 7, 10]]\n",
        "phi = [0.0903610828872], avg. acpt = [ 0.12]"
       ]
      },
      {
       "output_type": "stream",
       "stream": "stdout",
       "text": [
        "\n",
        "1 18\n",
        "[[11, 16, 5, 6, 13, 8, 4, 1, 12, 14, 17, 3, 15, 10, 9, 2, 0, 7]]\n",
        "phi = [0.0915699133738], avg. acpt = [ 0.14]"
       ]
      },
      {
       "output_type": "stream",
       "stream": "stdout",
       "text": [
        "\n",
        "1 18\n",
        "[[2, 3, 1, 10, 11, 15, 7, 0, 17, 16, 9, 4, 14, 13, 8, 5, 12, 6]]\n",
        "phi = [0.0927867759567], avg. acpt = [ 0.12]"
       ]
      },
      {
       "output_type": "stream",
       "stream": "stdout",
       "text": [
        "\n",
        "1 18\n",
        "[[2, 16, 0, 7, 6, 1, 8, 5, 9, 3, 14, 15, 12, 17, 10, 11, 13, 4]]\n",
        "phi = [0.0940116706359], avg. acpt = [ 0.11]"
       ]
      },
      {
       "output_type": "stream",
       "stream": "stdout",
       "text": [
        "\n",
        "1 18\n",
        "[[14, 13, 12, 11, 0, 5, 1, 8, 10, 4, 7, 2, 6, 15, 9, 17, 3, 16]]\n",
        "phi = [0.0952445974113], avg. acpt = [ 0.12]"
       ]
      },
      {
       "output_type": "stream",
       "stream": "stdout",
       "text": [
        "\n",
        "1 18\n",
        "[[1, 4, 17, 10, 8, 11, 16, 2, 5, 13, 14, 12, 6, 3, 7, 15, 0, 9]]\n",
        "phi = [0.0964855562829], avg. acpt = [ 0.11]"
       ]
      },
      {
       "output_type": "stream",
       "stream": "stdout",
       "text": [
        "\n",
        "1 18\n",
        "[[13, 14, 8, 15, 11, 12, 16, 7, 3, 4, 6, 9, 10, 1, 17, 2, 5, 0]]\n",
        "phi = [0.0977345472508], avg. acpt = [ 0.13]"
       ]
      },
      {
       "output_type": "stream",
       "stream": "stdout",
       "text": [
        "\n",
        "1 18\n",
        "[[3, 4, 11, 16, 13, 0, 15, 14, 9, 2, 10, 8, 1, 12, 5, 17, 6, 7]]\n",
        "phi = [0.098991570315], avg. acpt = [ 0.14]"
       ]
      },
      {
       "output_type": "stream",
       "stream": "stdout",
       "text": [
        "\n",
        "1 18\n",
        "[[8, 2, 5, 13, 3, 6, 7, 10, 0, 12, 1, 11, 16, 4, 17, 15, 9, 14]]\n",
        "phi = [0.100256625475], avg. acpt = [ 0.11]"
       ]
      },
      {
       "output_type": "stream",
       "stream": "stdout",
       "text": [
        "\n",
        "1 18\n",
        "[[16, 9, 14, 13, 1, 8, 2, 15, 12, 10, 4, 0, 17, 7, 5, 3, 11, 6]]\n",
        "phi = [0.101529712732], avg. acpt = [ 0.13]"
       ]
      },
      {
       "output_type": "stream",
       "stream": "stdout",
       "text": [
        "\n",
        "1 18\n",
        "[[15, 9, 4, 10, 7, 13, 0, 6, 1, 12, 5, 2, 17, 8, 11, 16, 14, 3]]\n",
        "phi = [0.102810832085], avg. acpt = [ 0.11]"
       ]
      },
      {
       "output_type": "stream",
       "stream": "stdout",
       "text": [
        "\n",
        "1 18\n",
        "[[0, 17, 13, 1, 8, 4, 14, 11, 15, 2, 9, 5, 12, 16, 3, 7, 10, 6]]\n",
        "phi = [0.104099983534], avg. acpt = [ 0.10]"
       ]
      },
      {
       "output_type": "stream",
       "stream": "stdout",
       "text": [
        "\n",
        "1 18\n",
        "[[16, 14, 9, 7, 6, 13, 11, 8, 15, 3, 17, 2, 1, 12, 10, 0, 5, 4]]\n",
        "phi = [0.10539716708], avg. acpt = [ 0.12]"
       ]
      },
      {
       "output_type": "stream",
       "stream": "stdout",
       "text": [
        "\n",
        "1 18\n",
        "[[1, 14, 7, 9, 15, 12, 13, 16, 4, 8, 10, 17, 0, 3, 5, 2, 11, 6]]\n",
        "phi = [0.106702382721], avg. acpt = [ 0.13]"
       ]
      },
      {
       "output_type": "stream",
       "stream": "stdout",
       "text": [
        "\n",
        "1 18\n",
        "[[6, 14, 15, 3, 8, 0, 10, 13, 11, 16, 7, 9, 12, 1, 2, 5, 17, 4]]\n",
        "phi = [0.108015630459], avg. acpt = [ 0.11]"
       ]
      },
      {
       "output_type": "stream",
       "stream": "stdout",
       "text": [
        "\n",
        "1 18\n",
        "[[10, 15, 12, 16, 14, 13, 7, 5, 8, 17, 4, 3, 11, 2, 6, 0, 9, 1]]\n",
        "phi = [0.109336910294], avg. acpt = [ 0.10]"
       ]
      },
      {
       "output_type": "stream",
       "stream": "stdout",
       "text": [
        "\n",
        "1 18\n",
        "[[17, 0, 6, 7, 5, 12, 11, 8, 4, 13, 14, 15, 2, 10, 3, 1, 16, 9]]\n",
        "phi = [0.110666222224], avg. acpt = [ 0.13]"
       ]
      },
      {
       "output_type": "stream",
       "stream": "stdout",
       "text": [
        "\n",
        "1 18\n",
        "[[0, 6, 1, 9, 5, 16, 7, 12, 8, 13, 14, 3, 15, 4, 10, 17, 2, 11]]\n",
        "phi = [0.112003566251], avg. acpt = [ 0.12]"
       ]
      },
      {
       "output_type": "stream",
       "stream": "stdout",
       "text": [
        "\n",
        "1 18\n",
        "[[10, 17, 15, 1, 8, 12, 16, 7, 11, 13, 6, 2, 0, 3, 4, 14, 9, 5]]\n",
        "phi = [0.113348942374], avg. acpt = [ 0.13]"
       ]
      },
      {
       "output_type": "stream",
       "stream": "stdout",
       "text": [
        "\n",
        "1 18\n",
        "[[1, 0, 4, 11, 13, 6, 10, 17, 7, 8, 3, 9, 14, 2, 12, 5, 16, 15]]\n",
        "phi = [0.114702350593], avg. acpt = [ 0.10]"
       ]
      },
      {
       "output_type": "stream",
       "stream": "stdout",
       "text": [
        "\n",
        "1 18\n",
        "[[10, 7, 6, 14, 12, 13, 1, 4, 15, 11, 8, 2, 16, 17, 5, 0, 3, 9]]\n",
        "phi = [0.116063790908], avg. acpt = [ 0.13]"
       ]
      },
      {
       "output_type": "stream",
       "stream": "stdout",
       "text": [
        "\n",
        "1 18\n",
        "[[12, 3, 9, 11, 14, 10, 2, 17, 5, 4, 15, 13, 6, 16, 1, 0, 7, 8]]\n",
        "phi = [0.11743326332], avg. acpt = [ 0.11]"
       ]
      },
      {
       "output_type": "stream",
       "stream": "stdout",
       "text": [
        "\n",
        "1 18\n",
        "[[14, 4, 0, 9, 17, 5, 6, 16, 1, 8, 10, 15, 3, 13, 11, 2, 7, 12]]\n",
        "phi = [0.118810767828], avg. acpt = [ 0.10]"
       ]
      },
      {
       "output_type": "stream",
       "stream": "stdout",
       "text": [
        "\n",
        "1 18\n",
        "[[1, 7, 14, 13, 17, 11, 10, 5, 6, 8, 9, 2, 16, 12, 4, 0, 15, 3]]\n",
        "phi = [0.120196304433], avg. acpt = [ 0.11]"
       ]
      },
      {
       "output_type": "stream",
       "stream": "stdout",
       "text": [
        "\n",
        "1 18\n",
        "[[17, 12, 11, 14, 5, 3, 4, 16, 2, 10, 8, 13, 7, 1, 0, 6, 15, 9]]\n",
        "phi = [0.121589873133], avg. acpt = [ 0.10]"
       ]
      },
      {
       "output_type": "stream",
       "stream": "stdout",
       "text": [
        "\n",
        "1 18\n",
        "[[12, 11, 16, 10, 6, 4, 0, 2, 13, 7, 17, 5, 15, 9, 14, 8, 1, 3]]\n",
        "phi = [0.12299147393], avg. acpt = [ 0.09]"
       ]
      },
      {
       "output_type": "stream",
       "stream": "stdout",
       "text": [
        "\n",
        "1 18\n",
        "[[7, 13, 17, 1, 16, 14, 15, 2, 3, 12, 10, 6, 8, 9, 5, 0, 4, 11]]\n",
        "phi = [0.124401106823], avg. acpt = [ 0.10]"
       ]
      },
      {
       "output_type": "stream",
       "stream": "stdout",
       "text": [
        "\n",
        "1 18\n",
        "[[15, 7, 11, 6, 9, 12, 14, 1, 8, 10, 5, 17, 2, 0, 3, 4, 16, 13]]\n",
        "phi = [0.125818771812], avg. acpt = [ 0.10]"
       ]
      },
      {
       "output_type": "stream",
       "stream": "stdout",
       "text": [
        "\n",
        "1 18\n",
        "[[9, 17, 11, 0, 15, 4, 12, 2, 14, 3, 5, 10, 13, 7, 1, 16, 8, 6]]\n",
        "phi = [0.127244468898], avg. acpt = [ 0.10]"
       ]
      },
      {
       "output_type": "stream",
       "stream": "stdout",
       "text": [
        "\n",
        "1 18\n",
        "[[10, 6, 0, 5, 9, 14, 12, 13, 11, 2, 8, 17, 4, 1, 7, 16, 3, 15]]\n",
        "phi = [0.12867819808], avg. acpt = [ 0.12]"
       ]
      },
      {
       "output_type": "stream",
       "stream": "stdout",
       "text": [
        "\n",
        "1 18\n",
        "[[5, 9, 14, 15, 7, 16, 2, 1, 8, 11, 10, 6, 4, 17, 0, 3, 12, 13]]\n",
        "phi = [0.130119959358], avg. acpt = [ 0.11]"
       ]
      },
      {
       "output_type": "stream",
       "stream": "stdout",
       "text": [
        "\n",
        "1 18\n",
        "[[16, 17, 3, 8, 1, 2, 6, 13, 4, 11, 12, 15, 14, 7, 9, 10, 5, 0]]\n",
        "phi = [0.131569752732], avg. acpt = [ 0.11]"
       ]
      },
      {
       "output_type": "stream",
       "stream": "stdout",
       "text": [
        "\n",
        "1 18\n",
        "[[12, 9, 4, 7, 17, 16, 8, 5, 3, 0, 2, 6, 13, 10, 14, 15, 11, 1]]\n",
        "phi = [0.133027578202], avg. acpt = [ 0.10]"
       ]
      },
      {
       "output_type": "stream",
       "stream": "stdout",
       "text": [
        "\n",
        "1 18\n",
        "[[17, 12, 6, 15, 2, 5, 9, 4, 7, 16, 3, 13, 11, 14, 1, 0, 10, 8]]\n",
        "phi = [0.134493435769], avg. acpt = [ 0.11]"
       ]
      },
      {
       "output_type": "stream",
       "stream": "stdout",
       "text": [
        "\n",
        "1 18\n",
        "[[0, 16, 6, 1, 8, 2, 17, 11, 7, 13, 5, 4, 14, 9, 10, 3, 12, 15]]\n",
        "phi = [0.135967325432], avg. acpt = [ 0.10]"
       ]
      },
      {
       "output_type": "stream",
       "stream": "stdout",
       "text": [
        "\n",
        "1 18\n",
        "[[14, 3, 6, 17, 15, 16, 5, 0, 9, 1, 13, 2, 8, 7, 11, 4, 10, 12]]\n",
        "phi = [0.137449247192], avg. acpt = [ 0.11]"
       ]
      },
      {
       "output_type": "stream",
       "stream": "stdout",
       "text": [
        "\n",
        "1 18\n",
        "[[4, 11, 1, 12, 2, 16, 0, 10, 14, 13, 17, 5, 8, 3, 15, 9, 7, 6]]\n",
        "phi = [0.138939201047], avg. acpt = [ 0.10]"
       ]
      },
      {
       "output_type": "stream",
       "stream": "stdout",
       "text": [
        "\n",
        "1 18\n",
        "[[17, 14, 11, 8, 5, 1, 9, 7, 10, 4, 0, 13, 12, 3, 16, 6, 2, 15]]\n",
        "phi = [0.140437186999], avg. acpt = [ 0.10]"
       ]
      },
      {
       "output_type": "stream",
       "stream": "stdout",
       "text": [
        "\n",
        "1 18\n",
        "[[10, 2, 9, 6, 15, 7, 16, 5, 1, 13, 12, 0, 3, 4, 17, 11, 8, 14]]\n",
        "phi = [0.141943205047], avg. acpt = [ 0.10]"
       ]
      },
      {
       "output_type": "stream",
       "stream": "stdout",
       "text": [
        "\n",
        "1 18\n",
        "[[16, 5, 7, 0, 2, 11, 9, 14, 17, 1, 10, 12, 4, 6, 8, 13, 15, 3]]\n",
        "phi = [0.143457255192], avg. acpt = [ 0.10]"
       ]
      },
      {
       "output_type": "stream",
       "stream": "stdout",
       "text": [
        "\n",
        "1 18\n",
        "[[9, 8, 16, 10, 4, 14, 0, 11, 5, 7, 13, 17, 1, 3, 15, 2, 6, 12]]\n",
        "phi = [0.144979337432], avg. acpt = [ 0.10]"
       ]
      },
      {
       "output_type": "stream",
       "stream": "stdout",
       "text": [
        "\n",
        "1 18\n",
        "[[13, 6, 11, 16, 14, 1, 0, 12, 15, 3, 5, 10, 7, 4, 17, 2, 8, 9]]\n",
        "phi = [0.146509451769], avg. acpt = [ 0.10]"
       ]
      },
      {
       "output_type": "stream",
       "stream": "stdout",
       "text": [
        "\n",
        "1 18\n",
        "[[3, 6, 5, 2, 14, 10, 9, 0, 4, 15, 8, 12, 11, 13, 17, 7, 1, 16]]\n",
        "phi = [0.148047598202], avg. acpt = [ 0.11]"
       ]
      },
      {
       "output_type": "stream",
       "stream": "stdout",
       "text": [
        "\n",
        "1 18\n",
        "[[9, 3, 13, 5, 1, 16, 8, 17, 4, 6, 2, 0, 11, 12, 14, 15, 7, 10]]\n",
        "phi = [0.149593776732], avg. acpt = [ 0.11]"
       ]
      },
      {
       "output_type": "stream",
       "stream": "stdout",
       "text": [
        "\n",
        "1 18\n",
        "[[10, 3, 7, 16, 2, 4, 1, 17, 0, 12, 11, 5, 6, 9, 14, 13, 8, 15]]\n",
        "phi = [0.151147987357], avg. acpt = [ 0.09]"
       ]
      },
      {
       "output_type": "stream",
       "stream": "stdout",
       "text": [
        "\n",
        "1 18\n",
        "[[3, 15, 1, 10, 12, 2, 6, 17, 14, 13, 5, 16, 9, 8, 11, 0, 7, 4]]\n",
        "phi = [0.152710230079], avg. acpt = [ 0.09]"
       ]
      },
      {
       "output_type": "stream",
       "stream": "stdout",
       "text": [
        "\n",
        "1 18\n",
        "[[14, 5, 15, 11, 0, 16, 4, 6, 1, 12, 3, 7, 8, 2, 10, 13, 9, 17]]\n",
        "phi = [0.154280504898], avg. acpt = [ 0.12]"
       ]
      },
      {
       "output_type": "stream",
       "stream": "stdout",
       "text": [
        "\n",
        "1 18\n",
        "[[5, 2, 17, 16, 7, 8, 1, 12, 3, 6, 4, 15, 9, 0, 11, 13, 14, 10]]\n",
        "phi = [0.155858811812], avg. acpt = [ 0.09]"
       ]
      },
      {
       "output_type": "stream",
       "stream": "stdout",
       "text": [
        "\n",
        "1 18\n",
        "[[6, 16, 0, 12, 1, 9, 11, 15, 4, 17, 7, 5, 3, 13, 8, 14, 10, 2]]\n",
        "phi = [0.157445150823], avg. acpt = [ 0.11]"
       ]
      },
      {
       "output_type": "stream",
       "stream": "stdout",
       "text": [
        "\n",
        "1 18\n",
        "[[17, 0, 9, 12, 14, 1, 2, 13, 7, 15, 6, 16, 5, 4, 10, 3, 11, 8]]\n",
        "phi = [0.15903952193], avg. acpt = [ 0.11]"
       ]
      },
      {
       "output_type": "stream",
       "stream": "stdout",
       "text": [
        "\n",
        "1 18\n",
        "[[11, 10, 14, 8, 7, 4, 13, 15, 2, 17, 6, 16, 9, 1, 5, 3, 12, 0]]\n",
        "phi = [0.160641925133], avg. acpt = [ 0.11]"
       ]
      },
      {
       "output_type": "stream",
       "stream": "stdout",
       "text": [
        "\n",
        "1 18\n",
        "[[0, 2, 8, 6, 5, 4, 9, 15, 17, 1, 14, 13, 3, 16, 11, 12, 7, 10]]\n",
        "phi = [0.162252360432], avg. acpt = [ 0.11]"
       ]
      },
      {
       "output_type": "stream",
       "stream": "stdout",
       "text": [
        "\n",
        "1 18\n",
        "[[1, 9, 8, 16, 12, 15, 17, 11, 7, 3, 4, 5, 14, 13, 2, 10, 0, 6]]\n",
        "phi = [0.163870827828], avg. acpt = [ 0.10]"
       ]
      },
      {
       "output_type": "stream",
       "stream": "stdout",
       "text": [
        "\n",
        "1 18\n",
        "[[12, 10, 6, 16, 3, 15, 9, 13, 5, 1, 17, 4, 2, 0, 8, 14, 7, 11]]\n",
        "phi = [0.16549732732], avg. acpt = [ 0.10]"
       ]
      },
      {
       "output_type": "stream",
       "stream": "stdout",
       "text": [
        "\n",
        "1 18\n",
        "[[8, 14, 5, 9, 4, 1, 12, 16, 3, 17, 11, 6, 0, 2, 13, 7, 15, 10]]\n",
        "phi = [0.167131858908], avg. acpt = [ 0.09]"
       ]
      },
      {
       "output_type": "stream",
       "stream": "stdout",
       "text": [
        "\n",
        "1 18\n",
        "[[10, 15, 9, 1, 3, 6, 2, 8, 12, 0, 14, 7, 13, 5, 4, 16, 17, 11]]\n",
        "phi = [0.168774422593], avg. acpt = [ 0.09]"
       ]
      },
      {
       "output_type": "stream",
       "stream": "stdout",
       "text": [
        "\n",
        "1 18\n",
        "[[7, 4, 16, 1, 8, 2, 17, 12, 10, 5, 9, 11, 13, 3, 6, 14, 15, 0]]\n",
        "phi = [0.170425018373], avg. acpt = [ 0.09]"
       ]
      },
      {
       "output_type": "stream",
       "stream": "stdout",
       "text": [
        "\n",
        "1 18\n",
        "[[11, 9, 14, 13, 10, 6, 2, 12, 8, 16, 1, 17, 3, 7, 5, 4, 15, 0]]\n",
        "phi = [0.17208364625], avg. acpt = [ 0.09]"
       ]
      },
      {
       "output_type": "stream",
       "stream": "stdout",
       "text": [
        "\n",
        "1 18\n",
        "[[3, 14, 11, 16, 2, 1, 13, 5, 12, 10, 6, 0, 4, 15, 7, 17, 9, 8]]\n",
        "phi = [0.173750306224], avg. acpt = [ 0.09]"
       ]
      },
      {
       "output_type": "stream",
       "stream": "stdout",
       "text": [
        "\n",
        "1 18\n",
        "[[15, 12, 5, 4, 7, 8, 1, 14, 16, 9, 6, 17, 0, 10, 2, 3, 11, 13]]\n",
        "phi = [0.175424998293], avg. acpt = [ 0.09]"
       ]
      },
      {
       "output_type": "stream",
       "stream": "stdout",
       "text": [
        "\n",
        "1 18\n",
        "[[1, 10, 8, 14, 15, 9, 0, 16, 17, 12, 6, 5, 11, 3, 4, 7, 2, 13]]\n",
        "phi = [0.177107722459], avg. acpt = [ 0.08]"
       ]
      },
      {
       "output_type": "stream",
       "stream": "stdout",
       "text": [
        "\n",
        "1 18\n",
        "[[11, 8, 5, 15, 13, 4, 14, 2, 1, 7, 9, 3, 12, 6, 10, 0, 17, 16]]\n",
        "phi = [0.178798478721], avg. acpt = [ 0.09]"
       ]
      },
      {
       "output_type": "stream",
       "stream": "stdout",
       "text": [
        "\n",
        "1 18\n",
        "[[0, 1, 8, 13, 17, 2, 6, 16, 11, 7, 4, 15, 5, 10, 3, 12, 9, 14]]\n",
        "phi = [0.180497267079], avg. acpt = [ 0.09]"
       ]
      },
      {
       "output_type": "stream",
       "stream": "stdout",
       "text": [
        "\n",
        "1 18\n",
        "[[10, 11, 9, 6, 0, 7, 3, 17, 15, 16, 5, 1, 12, 13, 8, 14, 2, 4]]\n",
        "phi = [0.182204087534], avg. acpt = [ 0.10]"
       ]
      },
      {
       "output_type": "stream",
       "stream": "stdout",
       "text": [
        "\n",
        "1 18\n",
        "[[2, 12, 17, 0, 14, 3, 10, 13, 7, 6, 1, 5, 8, 4, 9, 16, 11, 15]]\n",
        "phi = [0.183918940085], avg. acpt = [ 0.07]"
       ]
      },
      {
       "output_type": "stream",
       "stream": "stdout",
       "text": [
        "\n",
        "1 18\n",
        "[[11, 8, 1, 10, 12, 16, 3, 6, 7, 2, 4, 9, 5, 17, 14, 0, 13, 15]]\n",
        "phi = [0.185641824732], avg. acpt = [ 0.10]"
       ]
      },
      {
       "output_type": "stream",
       "stream": "stdout",
       "text": [
        "\n",
        "1 18\n",
        "[[3, 11, 10, 14, 15, 4, 6, 1, 7, 16, 13, 9, 8, 2, 12, 5, 17, 0]]\n",
        "phi = [0.187372741475], avg. acpt = [ 0.09]"
       ]
      },
      {
       "output_type": "stream",
       "stream": "stdout",
       "text": [
        "\n",
        "1 18\n",
        "[[15, 16, 17, 12, 4, 9, 6, 13, 11, 2, 7, 3, 10, 1, 14, 0, 5, 8]]\n",
        "phi = [0.189111690314], avg. acpt = [ 0.08]"
       ]
      },
      {
       "output_type": "stream",
       "stream": "stdout",
       "text": [
        "\n",
        "1 18\n",
        "[[3, 17, 16, 8, 6, 12, 14, 10, 4, 0, 7, 1, 9, 15, 5, 13, 11, 2]]\n",
        "phi = [0.19085867125], avg. acpt = [ 0.08]"
       ]
      },
      {
       "output_type": "stream",
       "stream": "stdout",
       "text": [
        "\n",
        "1 18\n",
        "[[13, 5, 3, 6, 9, 11, 15, 1, 7, 0, 17, 14, 8, 4, 10, 12, 2, 16]]\n",
        "phi = [0.192613684282], avg. acpt = [ 0.08]"
       ]
      },
      {
       "output_type": "stream",
       "stream": "stdout",
       "text": [
        "\n",
        "1 18\n",
        "[[5, 9, 8, 15, 0, 4, 10, 6, 3, 1, 11, 16, 17, 2, 13, 14, 7, 12]]\n",
        "phi = [0.194376729411], avg. acpt = [ 0.08]"
       ]
      },
      {
       "output_type": "stream",
       "stream": "stdout",
       "text": [
        "\n",
        "1 18\n",
        "[[10, 11, 15, 6, 3, 4, 14, 2, 17, 7, 8, 5, 12, 0, 16, 1, 13, 9]]\n",
        "phi = [0.196147806635], avg. acpt = [ 0.10]"
       ]
      },
      {
       "output_type": "stream",
       "stream": "stdout",
       "text": [
        "\n",
        "1 18\n",
        "[[1, 10, 11, 17, 0, 9, 5, 6, 2, 14, 12, 4, 3, 16, 7, 15, 8, 13]]\n",
        "phi = [0.197926915956], avg. acpt = [ 0.10]"
       ]
      },
      {
       "output_type": "stream",
       "stream": "stdout",
       "text": [
        "\n",
        "1 18\n",
        "[[2, 16, 9, 0, 3, 13, 1, 11, 5, 6, 15, 17, 8, 4, 10, 14, 7, 12]]\n",
        "phi = [0.199714057373], avg. acpt = [ 0.09]"
       ]
      },
      {
       "output_type": "stream",
       "stream": "stdout",
       "text": [
        "\n",
        "1 18\n",
        "[[2, 11, 13, 5, 17, 14, 10, 3, 15, 4, 9, 8, 12, 6, 0, 1, 7, 16]]\n",
        "phi = [0.201509230887], avg. acpt = [ 0.09]"
       ]
      },
      {
       "output_type": "stream",
       "stream": "stdout",
       "text": [
        "\n",
        "1 18\n",
        "[[12, 7, 8, 17, 16, 11, 6, 2, 13, 5, 4, 15, 14, 1, 9, 3, 10, 0]]\n",
        "phi = [0.203312436496], avg. acpt = [ 0.08]"
       ]
      },
      {
       "output_type": "stream",
       "stream": "stdout",
       "text": [
        "\n",
        "1 18\n",
        "[[9, 13, 6, 2, 14, 1, 16, 17, 15, 11, 3, 8, 5, 12, 0, 4, 7, 10]]\n",
        "phi = [0.205123674202], avg. acpt = [ 0.08]"
       ]
      },
      {
       "output_type": "stream",
       "stream": "stdout",
       "text": [
        "\n",
        "1 18\n",
        "[[17, 4, 2, 3, 13, 10, 16, 14, 0, 7, 11, 5, 6, 12, 9, 15, 1, 8]]\n",
        "phi = [0.206942944004], avg. acpt = [ 0.09]"
       ]
      },
      {
       "output_type": "stream",
       "stream": "stdout",
       "text": [
        "\n",
        "1 18\n",
        "[[2, 0, 13, 10, 16, 8, 14, 6, 7, 11, 1, 3, 9, 12, 4, 5, 17, 15]]\n",
        "phi = [0.208770245903], avg. acpt = [ 0.10]"
       ]
      },
      {
       "output_type": "stream",
       "stream": "stdout",
       "text": [
        "\n",
        "1 18\n",
        "[[2, 11, 10, 4, 16, 12, 6, 7, 9, 3, 17, 14, 15, 13, 5, 0, 8, 1]]\n",
        "phi = [0.210605579897], avg. acpt = [ 0.07]"
       ]
      },
      {
       "output_type": "stream",
       "stream": "stdout",
       "text": [
        "\n",
        "1 18\n",
        "[[17, 9, 5, 3, 6, 11, 0, 10, 4, 2, 14, 16, 15, 13, 1, 12, 8, 7]]\n",
        "phi = [0.212448945988], avg. acpt = [ 0.07]"
       ]
      },
      {
       "output_type": "stream",
       "stream": "stdout",
       "text": [
        "\n",
        "1 18\n",
        "[[5, 2, 13, 3, 8, 6, 9, 11, 1, 15, 0, 17, 12, 4, 14, 16, 10, 7]]\n",
        "phi = [0.214300344175], avg. acpt = [ 0.07]"
       ]
      },
      {
       "output_type": "stream",
       "stream": "stdout",
       "text": [
        "\n",
        "1 18\n",
        "[[6, 17, 14, 1, 11, 0, 4, 8, 3, 13, 7, 5, 16, 9, 12, 15, 2, 10]]\n",
        "phi = [0.216159774459], avg. acpt = [ 0.09]"
       ]
      },
      {
       "output_type": "stream",
       "stream": "stdout",
       "text": [
        "\n",
        "1 18\n",
        "[[8, 7, 0, 12, 11, 14, 3, 6, 15, 1, 16, 9, 4, 2, 10, 13, 5, 17]]\n",
        "phi = [0.218027236838], avg. acpt = [ 0.08]"
       ]
      },
      {
       "output_type": "stream",
       "stream": "stdout",
       "text": [
        "\n",
        "1 18\n",
        "[[0, 16, 2, 9, 14, 11, 4, 12, 1, 7, 13, 17, 3, 8, 5, 6, 15, 10]]\n",
        "phi = [0.219902731314], avg. acpt = [ 0.07]"
       ]
      },
      {
       "output_type": "stream",
       "stream": "stdout",
       "text": [
        "\n",
        "1 18\n",
        "[[15, 16, 12, 14, 13, 8, 2, 7, 11, 5, 0, 4, 1, 3, 9, 17, 10, 6]]\n",
        "phi = [0.221786257887], avg. acpt = [ 0.09]"
       ]
      },
      {
       "output_type": "stream",
       "stream": "stdout",
       "text": [
        "\n",
        "1 18\n",
        "[[7, 17, 6, 5, 0, 13, 4, 1, 11, 2, 3, 9, 16, 14, 8, 15, 10, 12]]\n",
        "phi = [0.223677816555], avg. acpt = [ 0.09]"
       ]
      },
      {
       "output_type": "stream",
       "stream": "stdout",
       "text": [
        "\n",
        "1 18\n",
        "[[15, 7, 3, 4, 14, 8, 9, 2, 6, 0, 16, 5, 12, 13, 10, 1, 17, 11]]\n",
        "phi = [0.22557740732], avg. acpt = [ 0.08]"
       ]
      },
      {
       "output_type": "stream",
       "stream": "stdout",
       "text": [
        "\n",
        "1 18\n",
        "[[4, 12, 5, 10, 15, 16, 0, 3, 8, 11, 1, 17, 7, 6, 9, 2, 13, 14]]\n",
        "phi = [0.227485030181], avg. acpt = [ 0.07]"
       ]
      },
      {
       "output_type": "stream",
       "stream": "stdout",
       "text": [
        "\n",
        "1 18\n",
        "[[15, 7, 9, 13, 0, 3, 10, 17, 1, 12, 8, 6, 5, 11, 14, 4, 16, 2]]\n",
        "phi = [0.229400685138], avg. acpt = [ 0.06]"
       ]
      },
      {
       "output_type": "stream",
       "stream": "stdout",
       "text": [
        "\n",
        "1 18\n",
        "[[1, 8, 16, 11, 17, 9, 10, 3, 12, 6, 4, 15, 7, 13, 5, 14, 2, 0]]\n",
        "phi = [0.231324372191], avg. acpt = [ 0.09]"
       ]
      },
      {
       "output_type": "stream",
       "stream": "stdout",
       "text": [
        "\n",
        "1 18\n",
        "[[12, 5, 1, 4, 11, 13, 3, 6, 2, 0, 7, 15, 8, 14, 10, 17, 16, 9]]\n",
        "phi = [0.233256091341], avg. acpt = [ 0.08]"
       ]
      },
      {
       "output_type": "stream",
       "stream": "stdout",
       "text": [
        "\n",
        "1 18\n",
        "[[8, 7, 13, 17, 11, 1, 9, 6, 16, 3, 2, 15, 0, 14, 4, 10, 5, 12]]\n",
        "phi = [0.235195842587], avg. acpt = [ 0.08]"
       ]
      },
      {
       "output_type": "stream",
       "stream": "stdout",
       "text": [
        "\n",
        "1 18\n",
        "[[3, 7, 10, 8, 17, 16, 15, 9, 1, 14, 5, 2, 11, 12, 13, 0, 6, 4]]\n",
        "phi = [0.237143625929], avg. acpt = [ 0.09]"
       ]
      },
      {
       "output_type": "stream",
       "stream": "stdout",
       "text": [
        "\n",
        "1 18\n",
        "[[11, 3, 17, 0, 12, 16, 6, 1, 14, 7, 5, 4, 10, 2, 13, 9, 8, 15]]\n",
        "phi = [0.239099441368], avg. acpt = [ 0.09]"
       ]
      },
      {
       "output_type": "stream",
       "stream": "stdout",
       "text": [
        "\n",
        "1 18\n",
        "[[8, 14, 16, 2, 10, 0, 11, 3, 17, 15, 13, 6, 9, 1, 5, 12, 4, 7]]\n",
        "phi = [0.241063288902], avg. acpt = [ 0.09]"
       ]
      },
      {
       "output_type": "stream",
       "stream": "stdout",
       "text": [
        "\n",
        "1 18\n",
        "[[2, 10, 16, 14, 3, 7, 9, 0, 1, 15, 11, 6, 12, 4, 5, 8, 17, 13]]\n",
        "phi = [0.243035168533], avg. acpt = [ 0.08]"
       ]
      },
      {
       "output_type": "stream",
       "stream": "stdout",
       "text": [
        "\n",
        "1 18\n",
        "[[8, 0, 9, 16, 2, 15, 1, 14, 7, 5, 12, 4, 11, 3, 13, 6, 10, 17]]\n",
        "phi = [0.245015080261], avg. acpt = [ 0.08]"
       ]
      },
      {
       "output_type": "stream",
       "stream": "stdout",
       "text": [
        "\n",
        "1 18\n",
        "[[2, 8, 15, 5, 6, 3, 4, 11, 7, 1, 12, 10, 17, 14, 9, 0, 13, 16]]\n",
        "phi = [0.247003024084], avg. acpt = [ 0.08]"
       ]
      },
      {
       "output_type": "stream",
       "stream": "stdout",
       "text": [
        "\n",
        "1 18\n",
        "[[7, 13, 11, 15, 10, 6, 8, 0, 2, 17, 5, 12, 1, 9, 14, 16, 3, 4]]\n",
        "phi = [0.248999000004], avg. acpt = [ 0.08]"
       ]
      },
      {
       "output_type": "stream",
       "stream": "stdout",
       "text": [
        "\n",
        "1 18\n",
        "[[10, 4, 5, 1, 15, 2, 3, 14, 6, 9, 7, 8, 13, 16, 0, 11, 12, 17]]\n",
        "phi = [0.25100300802], avg. acpt = [ 0.07]"
       ]
      },
      {
       "output_type": "stream",
       "stream": "stdout",
       "text": [
        "\n",
        "1 18\n",
        "[[17, 6, 10, 5, 14, 9, 4, 15, 8, 12, 3, 2, 1, 0, 7, 11, 16, 13]]\n",
        "phi = [0.253015048132], avg. acpt = [ 0.08]"
       ]
      },
      {
       "output_type": "stream",
       "stream": "stdout",
       "text": [
        "\n",
        "1 18\n",
        "[[5, 6, 4, 12, 7, 15, 2, 9, 17, 0, 10, 11, 16, 1, 14, 8, 13, 3]]\n",
        "phi = [0.255035120341], avg. acpt = [ 0.07]"
       ]
      },
      {
       "output_type": "stream",
       "stream": "stdout",
       "text": [
        "\n",
        "1 18\n",
        "[[11, 0, 16, 8, 5, 17, 14, 3, 10, 1, 7, 13, 15, 9, 6, 2, 12, 4]]\n",
        "phi = [0.257063224646], avg. acpt = [ 0.08]"
       ]
      },
      {
       "output_type": "stream",
       "stream": "stdout",
       "text": [
        "\n",
        "1 18\n",
        "[[5, 4, 6, 15, 2, 3, 14, 11, 13, 0, 1, 16, 7, 10, 17, 9, 12, 8]]\n",
        "phi = [0.259099361047], avg. acpt = [ 0.09]"
       ]
      },
      {
       "output_type": "stream",
       "stream": "stdout",
       "text": [
        "\n",
        "1 18\n",
        "[[3, 6, 12, 4, 0, 16, 8, 1, 9, 13, 7, 14, 2, 17, 15, 10, 11, 5]]\n",
        "phi = [0.261143529544], avg. acpt = [ 0.07]"
       ]
      },
      {
       "output_type": "stream",
       "stream": "stdout",
       "text": [
        "\n",
        "1 18\n",
        "[[15, 8, 0, 17, 12, 6, 7, 9, 5, 4, 1, 2, 3, 10, 13, 14, 11, 16]]\n",
        "phi = [0.263195730138], avg. acpt = [ 0.09]"
       ]
      },
      {
       "output_type": "stream",
       "stream": "stdout",
       "text": [
        "\n",
        "1 18\n",
        "[[0, 10, 3, 9, 11, 5, 12, 2, 15, 6, 1, 7, 8, 13, 14, 4, 17, 16]]\n",
        "phi = [0.265255962827], avg. acpt = [ 0.08]"
       ]
      },
      {
       "output_type": "stream",
       "stream": "stdout",
       "text": [
        "\n",
        "1 18\n",
        "[[14, 17, 2, 5, 1, 6, 0, 7, 15, 13, 3, 16, 9, 11, 8, 10, 4, 12]]\n",
        "phi = [0.267324227614], avg. acpt = [ 0.06]"
       ]
      },
      {
       "output_type": "stream",
       "stream": "stdout",
       "text": [
        "\n",
        "1 18\n",
        "[[11, 17, 15, 1, 13, 10, 7, 16, 2, 5, 3, 8, 6, 9, 0, 4, 12, 14]]\n",
        "phi = [0.269400524496], avg. acpt = [ 0.08]"
       ]
      },
      {
       "output_type": "stream",
       "stream": "stdout",
       "text": [
        "\n",
        "1 18\n",
        "[[11, 0, 2, 1, 3, 5, 8, 6, 7, 14, 10, 17, 16, 15, 13, 12, 4, 9]]\n",
        "phi = [0.271484853474], avg. acpt = [ 0.08]"
       ]
      },
      {
       "output_type": "stream",
       "stream": "stdout",
       "text": [
        "\n",
        "1 18\n",
        "[[8, 7, 12, 13, 9, 15, 11, 6, 2, 17, 3, 14, 5, 0, 16, 10, 4, 1]]\n",
        "phi = [0.273577214549], avg. acpt = [ 0.08]"
       ]
      },
      {
       "output_type": "stream",
       "stream": "stdout",
       "text": [
        "\n",
        "1 18\n",
        "[[0, 16, 9, 5, 1, 6, 12, 10, 15, 11, 14, 13, 17, 3, 8, 2, 7, 4]]\n",
        "phi = [0.27567760772], avg. acpt = [ 0.07]"
       ]
      },
      {
       "output_type": "stream",
       "stream": "stdout",
       "text": [
        "\n",
        "1 18\n",
        "[[9, 7, 17, 16, 1, 15, 11, 10, 8, 3, 6, 0, 2, 13, 5, 14, 12, 4]]\n",
        "phi = [0.277786032988], avg. acpt = [ 0.07]"
       ]
      },
      {
       "output_type": "stream",
       "stream": "stdout",
       "text": [
        "\n",
        "1 18\n",
        "[[0, 1, 7, 17, 16, 15, 5, 14, 9, 11, 12, 6, 10, 2, 4, 3, 13, 8]]\n",
        "phi = [0.279902490351], avg. acpt = [ 0.09]"
       ]
      },
      {
       "output_type": "stream",
       "stream": "stdout",
       "text": [
        "\n",
        "1 18\n",
        "[[2, 13, 6, 8, 10, 12, 0, 5, 9, 3, 1, 17, 7, 16, 4, 14, 15, 11]]\n",
        "phi = [0.282026979811], avg. acpt = [ 0.07]"
       ]
      },
      {
       "output_type": "stream",
       "stream": "stdout",
       "text": [
        "\n",
        "1 18\n",
        "[[12, 5, 0, 9, 7, 1, 16, 3, 2, 11, 17, 10, 6, 14, 8, 15, 13, 4]]\n",
        "phi = [0.284159501367], avg. acpt = [ 0.07]"
       ]
      },
      {
       "output_type": "stream",
       "stream": "stdout",
       "text": [
        "\n",
        "1 18\n",
        "[[15, 14, 1, 9, 8, 3, 4, 13, 5, 0, 16, 2, 17, 7, 10, 12, 11, 6]]\n",
        "phi = [0.28630005502], avg. acpt = [ 0.07]"
       ]
      },
      {
       "output_type": "stream",
       "stream": "stdout",
       "text": [
        "\n",
        "1 18\n",
        "[[8, 4, 5, 17, 14, 15, 9, 11, 12, 1, 3, 13, 7, 0, 2, 6, 16, 10]]\n",
        "phi = [0.288448640769], avg. acpt = [ 0.06]"
       ]
      },
      {
       "output_type": "stream",
       "stream": "stdout",
       "text": [
        "\n",
        "1 18\n",
        "[[9, 15, 5, 17, 6, 10, 7, 1, 8, 14, 0, 12, 13, 3, 16, 11, 2, 4]]\n",
        "phi = [0.290605258613], avg. acpt = [ 0.06]"
       ]
      },
      {
       "output_type": "stream",
       "stream": "stdout",
       "text": [
        "\n",
        "1 18\n",
        "[[14, 6, 5, 0, 16, 13, 7, 1, 3, 17, 9, 8, 15, 2, 11, 4, 12, 10]]\n",
        "phi = [0.292769908555], avg. acpt = [ 0.06]"
       ]
      },
      {
       "output_type": "stream",
       "stream": "stdout",
       "text": [
        "\n",
        "1 18\n",
        "[[17, 14, 3, 5, 8, 0, 16, 12, 2, 7, 1, 13, 15, 6, 10, 9, 4, 11]]\n",
        "phi = [0.294942590592], avg. acpt = [ 0.07]"
       ]
      },
      {
       "output_type": "stream",
       "stream": "stdout",
       "text": [
        "\n",
        "1 18\n",
        "[[10, 1, 3, 15, 16, 6, 5, 8, 12, 11, 14, 7, 0, 4, 9, 17, 2, 13]]\n",
        "phi = [0.297123304726], avg. acpt = [ 0.08]"
       ]
      },
      {
       "output_type": "stream",
       "stream": "stdout",
       "text": [
        "\n",
        "1 18\n",
        "[[4, 13, 11, 9, 6, 1, 7, 2, 12, 10, 8, 5, 3, 14, 0, 15, 16, 17]]\n",
        "phi = [0.299312050956], avg. acpt = [ 0.07]"
       ]
      },
      {
       "output_type": "stream",
       "stream": "stdout",
       "text": [
        "\n",
        "1 18\n",
        "[[15, 4, 12, 8, 10, 17, 11, 5, 9, 7, 1, 3, 14, 0, 13, 2, 6, 16]]\n",
        "phi = [0.301508829282], avg. acpt = [ 0.07]"
       ]
      },
      {
       "output_type": "stream",
       "stream": "stdout",
       "text": [
        "\n",
        "1 18\n",
        "[[5, 17, 8, 10, 3, 4, 14, 1, 9, 16, 12, 15, 7, 11, 6, 2, 13, 0]]\n",
        "phi = [0.303713639704], avg. acpt = [ 0.08]"
       ]
      },
      {
       "output_type": "stream",
       "stream": "stdout",
       "text": [
        "\n",
        "1 18\n",
        "[[5, 13, 3, 12, 7, 4, 8, 15, 0, 9, 1, 16, 14, 10, 2, 17, 6, 11]]\n",
        "phi = [0.305926482223], avg. acpt = [ 0.07]"
       ]
      },
      {
       "output_type": "stream",
       "stream": "stdout",
       "text": [
        "\n",
        "1 18\n",
        "[[9, 0, 7, 16, 15, 6, 8, 17, 3, 4, 10, 11, 12, 13, 2, 5, 14, 1]]\n",
        "phi = [0.308147356838], avg. acpt = [ 0.07]"
       ]
      },
      {
       "output_type": "stream",
       "stream": "stdout",
       "text": [
        "\n",
        "1 18\n",
        "[[11, 16, 9, 10, 12, 0, 15, 2, 4, 14, 8, 6, 5, 13, 1, 17, 7, 3]]\n",
        "phi = [0.310376263549], avg. acpt = [ 0.07]"
       ]
      },
      {
       "output_type": "stream",
       "stream": "stdout",
       "text": [
        "\n",
        "1 18\n",
        "[[14, 5, 15, 17, 3, 8, 2, 7, 10, 12, 0, 1, 16, 6, 4, 11, 9, 13]]\n",
        "phi = [0.312613202357], avg. acpt = [ 0.07]"
       ]
      },
      {
       "output_type": "stream",
       "stream": "stdout",
       "text": [
        "\n",
        "1 18\n",
        "[[15, 1, 0, 14, 13, 5, 2, 6, 3, 7, 8, 16, 9, 17, 10, 4, 12, 11]]\n",
        "phi = [0.31485817326], avg. acpt = [ 0.07]"
       ]
      },
      {
       "output_type": "stream",
       "stream": "stdout",
       "text": [
        "\n",
        "1 18\n",
        "[[4, 0, 16, 11, 14, 3, 6, 5, 15, 8, 10, 12, 13, 2, 7, 17, 1, 9]]\n",
        "phi = [0.31711117626], avg. acpt = [ 0.08]"
       ]
      },
      {
       "output_type": "stream",
       "stream": "stdout",
       "text": [
        "\n",
        "1 18\n",
        "[[8, 11, 12, 5, 14, 13, 9, 7, 4, 2, 3, 15, 10, 17, 1, 0, 6, 16]]\n",
        "phi = [0.319372211357], avg. acpt = [ 0.07]"
       ]
      },
      {
       "output_type": "stream",
       "stream": "stdout",
       "text": [
        "\n",
        "1 18\n",
        "[[16, 0, 13, 14, 1, 5, 8, 10, 3, 17, 4, 6, 7, 2, 11, 9, 15, 12]]\n",
        "phi = [0.321641278549], avg. acpt = [ 0.07]"
       ]
      },
      {
       "output_type": "stream",
       "stream": "stdout",
       "text": [
        "\n",
        "1 18\n",
        "[[17, 5, 11, 10, 2, 4, 13, 12, 7, 15, 6, 9, 14, 1, 8, 0, 3, 16]]\n",
        "phi = [0.323918377838], avg. acpt = [ 0.07]"
       ]
      },
      {
       "output_type": "stream",
       "stream": "stdout",
       "text": [
        "\n",
        "1 18\n",
        "[[0, 9, 7, 15, 8, 10, 11, 6, 12, 13, 16, 4, 2, 17, 14, 5, 3, 1]]\n",
        "phi = [0.326203509223], avg. acpt = [ 0.07]"
       ]
      },
      {
       "output_type": "stream",
       "stream": "stdout",
       "text": [
        "\n",
        "1 18\n",
        "[[7, 0, 11, 5, 6, 17, 10, 12, 14, 15, 16, 13, 4, 1, 2, 3, 8, 9]]\n",
        "phi = [0.328496672704], avg. acpt = [ 0.07]"
       ]
      },
      {
       "output_type": "stream",
       "stream": "stdout",
       "text": [
        "\n",
        "1 18\n",
        "[[6, 15, 4, 12, 10, 1, 17, 8, 3, 16, 7, 14, 13, 5, 0, 2, 9, 11]]\n",
        "phi = [0.330797868282], avg. acpt = [ 0.07]"
       ]
      },
      {
       "output_type": "stream",
       "stream": "stdout",
       "text": [
        "\n",
        "1 18\n",
        "[[0, 13, 4, 1, 2, 6, 5, 16, 10, 14, 11, 12, 15, 8, 7, 17, 9, 3]]\n",
        "phi = [0.333107095955], avg. acpt = [ 0.06]"
       ]
      },
      {
       "output_type": "stream",
       "stream": "stdout",
       "text": [
        "\n",
        "1 18\n",
        "[[15, 2, 14, 8, 1, 6, 3, 16, 10, 9, 4, 12, 11, 5, 17, 0, 7, 13]]\n",
        "phi = [0.335424355725], avg. acpt = [ 0.07]"
       ]
      },
      {
       "output_type": "stream",
       "stream": "stdout",
       "text": [
        "\n",
        "1 18\n",
        "[[8, 17, 9, 7, 15, 13, 12, 10, 2, 14, 5, 0, 4, 6, 16, 11, 3, 1]]\n",
        "phi = [0.337749647592], avg. acpt = [ 0.04]"
       ]
      },
      {
       "output_type": "stream",
       "stream": "stdout",
       "text": [
        "\n",
        "1 18\n",
        "[[13, 15, 2, 10, 14, 0, 12, 17, 16, 6, 5, 7, 1, 4, 9, 8, 11, 3]]\n",
        "phi = [0.340082971554], avg. acpt = [ 0.06]"
       ]
      },
      {
       "output_type": "stream",
       "stream": "stdout",
       "text": [
        "\n",
        "1 18\n",
        "[[0, 11, 13, 15, 12, 7, 10, 5, 16, 3, 4, 6, 2, 17, 8, 9, 1, 14]]\n",
        "phi = [0.342424327613], avg. acpt = [ 0.07]"
       ]
      },
      {
       "output_type": "stream",
       "stream": "stdout",
       "text": [
        "\n",
        "1 18\n",
        "[[1, 7, 17, 6, 2, 3, 11, 4, 14, 13, 0, 15, 5, 10, 9, 16, 12, 8]]\n",
        "phi = [0.344773715768], avg. acpt = [ 0.06]"
       ]
      },
      {
       "output_type": "stream",
       "stream": "stdout",
       "text": [
        "\n",
        "1 18\n",
        "[[0, 15, 14, 17, 6, 9, 4, 11, 12, 3, 16, 8, 2, 10, 1, 7, 13, 5]]\n",
        "phi = [0.34713113602], avg. acpt = [ 0.06]"
       ]
      },
      {
       "output_type": "stream",
       "stream": "stdout",
       "text": [
        "\n",
        "1 18\n",
        "[[13, 9, 10, 2, 7, 14, 1, 6, 8, 12, 15, 3, 0, 17, 4, 11, 5, 16]]\n",
        "phi = [0.349496588367], avg. acpt = [ 0.05]"
       ]
      },
      {
       "output_type": "stream",
       "stream": "stdout",
       "text": [
        "\n",
        "1 18\n",
        "[[3, 17, 10, 7, 11, 16, 12, 14, 13, 0, 9, 5, 15, 6, 2, 4, 8, 1]]\n",
        "phi = [0.351870072811], avg. acpt = [ 0.07]"
       ]
      },
      {
       "output_type": "stream",
       "stream": "stdout",
       "text": [
        "\n",
        "1 18\n",
        "[[11, 5, 13, 2, 0, 14, 16, 4, 1, 12, 10, 7, 9, 6, 8, 17, 15, 3]]\n",
        "phi = [0.354251589351], avg. acpt = [ 0.07]"
       ]
      },
      {
       "output_type": "stream",
       "stream": "stdout",
       "text": [
        "\n",
        "1 18\n",
        "[[11, 3, 10, 7, 13, 1, 15, 17, 2, 14, 12, 5, 8, 9, 0, 6, 4, 16]]\n",
        "phi = [0.356641137987], avg. acpt = [ 0.06]"
       ]
      },
      {
       "output_type": "stream",
       "stream": "stdout",
       "text": [
        "\n",
        "1 18\n",
        "[[9, 7, 14, 17, 13, 16, 5, 4, 1, 10, 3, 12, 6, 11, 2, 0, 8, 15]]\n",
        "phi = [0.35903871872], avg. acpt = [ 0.07]"
       ]
      },
      {
       "output_type": "stream",
       "stream": "stdout",
       "text": [
        "\n",
        "1 18\n",
        "[[13, 16, 0, 10, 17, 15, 4, 2, 3, 12, 8, 5, 7, 9, 6, 1, 11, 14]]\n",
        "phi = [0.361444331549], avg. acpt = [ 0.05]"
       ]
      },
      {
       "output_type": "stream",
       "stream": "stdout",
       "text": [
        "\n",
        "1 18\n",
        "[[6, 16, 12, 1, 8, 14, 17, 7, 3, 11, 13, 5, 4, 15, 2, 9, 0, 10]]\n",
        "phi = [0.363857976474], avg. acpt = [ 0.05]"
       ]
      },
      {
       "output_type": "stream",
       "stream": "stdout",
       "text": [
        "\n",
        "1 18\n",
        "[[5, 4, 14, 13, 8, 15, 17, 16, 2, 7, 3, 6, 10, 11, 1, 12, 9, 0]]\n",
        "phi = [0.366279653495], avg. acpt = [ 0.06]"
       ]
      },
      {
       "output_type": "stream",
       "stream": "stdout",
       "text": [
        "\n",
        "1 18\n",
        "[[9, 13, 12, 1, 16, 4, 6, 17, 2, 0, 10, 15, 8, 14, 11, 5, 7, 3]]\n",
        "phi = [0.368709362613], avg. acpt = [ 0.06]"
       ]
      },
      {
       "output_type": "stream",
       "stream": "stdout",
       "text": [
        "\n",
        "1 18\n",
        "[[12, 17, 5, 14, 1, 9, 10, 13, 11, 4, 0, 15, 8, 3, 7, 6, 2, 16]]\n",
        "phi = [0.371147103827], avg. acpt = [ 0.06]"
       ]
      },
      {
       "output_type": "stream",
       "stream": "stdout",
       "text": [
        "\n",
        "1 18\n",
        "[[9, 1, 13, 11, 3, 5, 17, 14, 16, 4, 2, 10, 8, 7, 12, 6, 0, 15]]\n",
        "phi = [0.373592877137], avg. acpt = [ 0.07]"
       ]
      },
      {
       "output_type": "stream",
       "stream": "stdout",
       "text": [
        "\n",
        "1 18\n",
        "[[9, 5, 2, 17, 11, 14, 4, 10, 15, 0, 13, 12, 8, 7, 6, 1, 3, 16]]\n",
        "phi = [0.376046682543], avg. acpt = [ 0.06]"
       ]
      },
      {
       "output_type": "stream",
       "stream": "stdout",
       "text": [
        "\n",
        "1 18\n",
        "[[10, 7, 11, 1, 13, 15, 0, 9, 12, 17, 4, 3, 8, 5, 14, 16, 6, 2]]\n",
        "phi = [0.378508520046], avg. acpt = [ 0.07]"
       ]
      },
      {
       "output_type": "stream",
       "stream": "stdout",
       "text": [
        "\n",
        "1 18\n",
        "[[6, 10, 0, 2, 14, 15, 8, 16, 11, 13, 4, 9, 3, 12, 17, 1, 5, 7]]\n",
        "phi = [0.380978389645], avg. acpt = [ 0.06]"
       ]
      },
      {
       "output_type": "stream",
       "stream": "stdout",
       "text": [
        "\n",
        "1 18\n",
        "[[5, 6, 16, 8, 11, 13, 12, 14, 15, 2, 0, 7, 4, 10, 17, 9, 3, 1]]\n",
        "phi = [0.38345629134], avg. acpt = [ 0.07]"
       ]
      },
      {
       "output_type": "stream",
       "stream": "stdout",
       "text": [
        "\n",
        "1 18\n",
        "[[3, 11, 1, 12, 6, 16, 7, 9, 15, 5, 14, 8, 0, 4, 10, 2, 13, 17]]\n",
        "phi = [0.385942225132], avg. acpt = [ 0.06]"
       ]
      },
      {
       "output_type": "stream",
       "stream": "stdout",
       "text": [
        "\n",
        "1 18\n",
        "[[6, 2, 1, 12, 0, 4, 16, 15, 7, 9, 10, 3, 14, 5, 17, 13, 11, 8]]\n",
        "phi = [0.388436191019], avg. acpt = [ 0.05]"
       ]
      },
      {
       "output_type": "stream",
       "stream": "stdout",
       "text": [
        "\n",
        "1 18\n",
        "[[1, 7, 4, 12, 2, 0, 17, 6, 5, 10, 8, 15, 14, 11, 3, 13, 9, 16]]\n",
        "phi = [0.390938189003], avg. acpt = [ 0.06]"
       ]
      },
      {
       "output_type": "stream",
       "stream": "stdout",
       "text": [
        "\n",
        "1 18\n",
        "[[13, 1, 7, 2, 12, 10, 8, 15, 9, 14, 11, 16, 17, 3, 4, 5, 6, 0]]\n",
        "phi = [0.393448219083], avg. acpt = [ 0.07]"
       ]
      },
      {
       "output_type": "stream",
       "stream": "stdout",
       "text": [
        "\n",
        "1 18\n",
        "[[9, 6, 16, 10, 12, 17, 7, 2, 8, 11, 4, 0, 1, 13, 14, 5, 3, 15]]\n",
        "phi = [0.39596628126], avg. acpt = [ 0.05]"
       ]
      },
      {
       "output_type": "stream",
       "stream": "stdout",
       "text": [
        "\n",
        "1 18\n",
        "[[12, 4, 15, 14, 1, 2, 7, 10, 6, 17, 3, 8, 5, 16, 13, 11, 0, 9]]\n",
        "phi = [0.398492375533], avg. acpt = [ 0.05]"
       ]
      },
      {
       "output_type": "stream",
       "stream": "stdout",
       "text": [
        "\n",
        "1 18\n",
        "[[3, 0, 11, 14, 9, 15, 16, 8, 4, 13, 7, 17, 2, 12, 6, 1, 5, 10]]\n",
        "phi = [0.401026501902], avg. acpt = [ 0.05]"
       ]
      },
      {
       "output_type": "stream",
       "stream": "stdout",
       "text": [
        "\n",
        "1 18\n",
        "[[17, 4, 3, 15, 5, 13, 16, 14, 6, 12, 1, 2, 7, 11, 9, 8, 0, 10]]\n",
        "phi = [0.403568660367], avg. acpt = [ 0.06]"
       ]
      },
      {
       "output_type": "stream",
       "stream": "stdout",
       "text": [
        "\n",
        "1 18\n",
        "[[17, 16, 11, 15, 2, 14, 0, 13, 7, 9, 4, 1, 12, 10, 8, 3, 5, 6]]\n",
        "phi = [0.406118850928], avg. acpt = [ 0.05]"
       ]
      },
      {
       "output_type": "stream",
       "stream": "stdout",
       "text": [
        "\n",
        "1 18\n",
        "[[9, 0, 14, 13, 10, 11, 15, 16, 8, 4, 7, 2, 1, 5, 12, 3, 6, 17]]\n",
        "phi = [0.408677073586], avg. acpt = [ 0.05]"
       ]
      },
      {
       "output_type": "stream",
       "stream": "stdout",
       "text": [
        "\n",
        "1 18\n",
        "[[15, 6, 10, 3, 8, 2, 7, 0, 17, 11, 4, 9, 12, 13, 5, 14, 1, 16]]\n",
        "phi = [0.41124332834], avg. acpt = [ 0.05]"
       ]
      },
      {
       "output_type": "stream",
       "stream": "stdout",
       "text": [
        "\n",
        "1 18\n",
        "[[6, 16, 15, 10, 12, 4, 14, 9, 13, 3, 2, 0, 1, 8, 17, 7, 11, 5]]\n",
        "phi = [0.41381761519], avg. acpt = [ 0.06]"
       ]
      },
      {
       "output_type": "stream",
       "stream": "stdout",
       "text": [
        "\n",
        "1 18\n",
        "[[16, 7, 15, 13, 14, 11, 3, 4, 12, 0, 6, 8, 2, 10, 9, 17, 5, 1]]\n",
        "phi = [0.416399934137], avg. acpt = [ 0.06]"
       ]
      },
      {
       "output_type": "stream",
       "stream": "stdout",
       "text": [
        "\n",
        "1 18\n",
        "[[0, 1, 4, 12, 14, 2, 11, 16, 3, 17, 10, 9, 5, 13, 8, 7, 15, 6]]\n",
        "phi = [0.41899028518], avg. acpt = [ 0.06]"
       ]
      },
      {
       "output_type": "stream",
       "stream": "stdout",
       "text": [
        "\n",
        "1 18\n",
        "[[11, 12, 4, 7, 10, 1, 13, 5, 8, 6, 3, 9, 16, 0, 14, 17, 15, 2]]\n",
        "phi = [0.421588668319], avg. acpt = [ 0.05]"
       ]
      },
      {
       "output_type": "stream",
       "stream": "stdout",
       "text": [
        "\n",
        "1 18\n",
        "[[11, 7, 14, 10, 0, 16, 5, 17, 4, 8, 12, 1, 2, 15, 9, 3, 6, 13]]\n",
        "phi = [0.424195083554], avg. acpt = [ 0.06]"
       ]
      },
      {
       "output_type": "stream",
       "stream": "stdout",
       "text": [
        "\n",
        "1 18\n",
        "[[6, 14, 1, 0, 9, 12, 10, 11, 8, 17, 16, 5, 4, 15, 7, 13, 2, 3]]\n",
        "phi = [0.426809530885], avg. acpt = [ 0.07]"
       ]
      },
      {
       "output_type": "stream",
       "stream": "stdout",
       "text": [
        "\n",
        "1 18\n",
        "[[0, 4, 11, 8, 16, 7, 2, 10, 5, 9, 6, 13, 12, 15, 14, 17, 1, 3]]\n",
        "phi = [0.429432010313], avg. acpt = [ 0.07]"
       ]
      },
      {
       "output_type": "stream",
       "stream": "stdout",
       "text": [
        "\n",
        "1 18\n",
        "[[16, 1, 4, 0, 5, 6, 13, 9, 15, 17, 8, 2, 3, 14, 7, 12, 10, 11]]\n",
        "phi = [0.432062521837], avg. acpt = [ 0.06]"
       ]
      },
      {
       "output_type": "stream",
       "stream": "stdout",
       "text": [
        "\n",
        "1 18\n",
        "[[17, 9, 6, 0, 8, 14, 10, 7, 4, 12, 2, 15, 3, 16, 11, 13, 1, 5]]\n",
        "phi = [0.434701065458], avg. acpt = [ 0.05]"
       ]
      },
      {
       "output_type": "stream",
       "stream": "stdout",
       "text": [
        "\n",
        "1 18\n",
        "[[3, 8, 0, 11, 14, 10, 6, 15, 4, 1, 2, 12, 13, 7, 17, 5, 9, 16]]\n",
        "phi = [0.437347641174], avg. acpt = [ 0.06]"
       ]
      },
      {
       "output_type": "stream",
       "stream": "stdout",
       "text": [
        "\n",
        "1 18\n",
        "[[0, 12, 11, 4, 5, 7, 16, 14, 6, 17, 1, 10, 9, 8, 15, 13, 2, 3]]\n",
        "phi = [0.440002248987], avg. acpt = [ 0.06]"
       ]
      },
      {
       "output_type": "stream",
       "stream": "stdout",
       "text": [
        "\n",
        "1 18\n",
        "[[5, 6, 14, 15, 8, 10, 13, 0, 4, 3, 1, 12, 16, 2, 9, 11, 7, 17]]\n",
        "phi = [0.442664888896], avg. acpt = [ 0.05]"
       ]
      },
      {
       "output_type": "stream",
       "stream": "stdout",
       "text": [
        "\n",
        "1 18\n",
        "[[0, 14, 6, 7, 13, 4, 1, 12, 2, 9, 15, 16, 3, 10, 17, 8, 5, 11]]\n",
        "phi = [0.445335560901], avg. acpt = [ 0.07]"
       ]
      },
      {
       "output_type": "stream",
       "stream": "stdout",
       "text": [
        "\n",
        "1 18\n",
        "[[14, 6, 1, 17, 3, 0, 16, 11, 15, 13, 2, 4, 12, 7, 5, 9, 10, 8]]\n",
        "phi = [0.448014265003], avg. acpt = [ 0.06]"
       ]
      },
      {
       "output_type": "stream",
       "stream": "stdout",
       "text": [
        "\n",
        "1 18\n",
        "[[9, 7, 13, 0, 16, 3, 5, 14, 12, 17, 6, 2, 10, 11, 8, 4, 15, 1]]\n",
        "phi = [0.450701001201], avg. acpt = [ 0.06]"
       ]
      },
      {
       "output_type": "stream",
       "stream": "stdout",
       "text": [
        "\n",
        "1 18\n",
        "[[1, 10, 14, 0, 17, 3, 8, 11, 13, 2, 7, 15, 12, 9, 4, 5, 6, 16]]\n",
        "phi = [0.453395769495], avg. acpt = [ 0.06]"
       ]
      },
      {
       "output_type": "stream",
       "stream": "stdout",
       "text": [
        "\n",
        "1 18\n",
        "[[17, 10, 6, 7, 0, 8, 9, 13, 14, 1, 11, 16, 3, 12, 15, 4, 2, 5]]\n",
        "phi = [0.456098569885], avg. acpt = [ 0.07]"
       ]
      },
      {
       "output_type": "stream",
       "stream": "stdout",
       "text": [
        "\n",
        "1 18\n",
        "[[16, 11, 4, 8, 1, 5, 13, 2, 14, 15, 12, 0, 10, 6, 9, 3, 17, 7]]\n",
        "phi = [0.458809402372], avg. acpt = [ 0.05]"
       ]
      },
      {
       "output_type": "stream",
       "stream": "stdout",
       "text": [
        "\n",
        "1 18\n",
        "[[6, 17, 15, 13, 11, 2, 10, 3, 12, 9, 4, 16, 1, 5, 8, 14, 7, 0]]\n",
        "phi = [0.461528266955], avg. acpt = [ 0.05]"
       ]
      },
      {
       "output_type": "stream",
       "stream": "stdout",
       "text": [
        "\n",
        "1 18\n",
        "[[11, 5, 3, 15, 13, 6, 2, 4, 17, 16, 9, 7, 14, 12, 10, 0, 8, 1]]\n",
        "phi = [0.464255163634], avg. acpt = [ 0.06]"
       ]
      },
      {
       "output_type": "stream",
       "stream": "stdout",
       "text": [
        "\n",
        "1 18\n",
        "[[13, 10, 0, 7, 5, 11, 4, 17, 6, 12, 8, 2, 9, 1, 15, 14, 16, 3]]\n",
        "phi = [0.466990092409], avg. acpt = [ 0.07]"
       ]
      },
      {
       "output_type": "stream",
       "stream": "stdout",
       "text": [
        "\n",
        "1 18\n",
        "[[14, 5, 13, 4, 9, 8, 0, 10, 12, 15, 17, 6, 2, 11, 7, 1, 3, 16]]\n",
        "phi = [0.469733053281], avg. acpt = [ 0.05]"
       ]
      },
      {
       "output_type": "stream",
       "stream": "stdout",
       "text": [
        "\n",
        "1 18\n",
        "[[14, 5, 11, 15, 12, 9, 7, 6, 16, 4, 10, 8, 13, 1, 3, 17, 2, 0]]\n",
        "phi = [0.472484046249], avg. acpt = [ 0.04]"
       ]
      },
      {
       "output_type": "stream",
       "stream": "stdout",
       "text": [
        "\n",
        "1 18\n",
        "[[11, 6, 10, 9, 2, 1, 12, 8, 7, 14, 3, 16, 4, 15, 13, 17, 0, 5]]\n",
        "phi = [0.475243071313], avg. acpt = [ 0.05]"
       ]
      },
      {
       "output_type": "stream",
       "stream": "stdout",
       "text": [
        "\n",
        "1 18\n",
        "[[15, 6, 7, 13, 8, 5, 3, 2, 10, 11, 17, 0, 12, 9, 14, 4, 16, 1]]\n",
        "phi = [0.478010128473], avg. acpt = [ 0.06]"
       ]
      },
      {
       "output_type": "stream",
       "stream": "stdout",
       "text": [
        "\n",
        "1 18\n",
        "[[5, 10, 7, 11, 15, 12, 6, 4, 9, 17, 2, 13, 3, 8, 1, 14, 16, 0]]\n",
        "phi = [0.48078521773], avg. acpt = [ 0.06]"
       ]
      },
      {
       "output_type": "stream",
       "stream": "stdout",
       "text": [
        "\n",
        "1 18\n",
        "[[11, 0, 8, 9, 17, 7, 3, 5, 1, 10, 12, 14, 2, 16, 4, 13, 6, 15]]\n",
        "phi = [0.483568339083], avg. acpt = [ 0.05]"
       ]
      },
      {
       "output_type": "stream",
       "stream": "stdout",
       "text": [
        "\n",
        "1 18\n",
        "[[6, 7, 13, 4, 15, 17, 12, 11, 5, 14, 2, 1, 9, 8, 10, 0, 16, 3]]\n",
        "phi = [0.486359492532], avg. acpt = [ 0.05]"
       ]
      },
      {
       "output_type": "stream",
       "stream": "stdout",
       "text": [
        "\n",
        "1 18\n",
        "[[14, 3, 13, 12, 15, 9, 1, 5, 0, 2, 8, 11, 17, 4, 16, 6, 7, 10]]\n",
        "phi = [0.489158678078], avg. acpt = [ 0.05]"
       ]
      },
      {
       "output_type": "stream",
       "stream": "stdout",
       "text": [
        "\n",
        "1 18\n",
        "[[16, 17, 2, 14, 4, 8, 1, 12, 3, 5, 7, 9, 13, 10, 0, 15, 6, 11]]\n",
        "phi = [0.491965895719], avg. acpt = [ 0.04]"
       ]
      },
      {
       "output_type": "stream",
       "stream": "stdout",
       "text": [
        "\n",
        "1 18\n",
        "[[7, 1, 8, 3, 12, 4, 13, 11, 14, 9, 2, 0, 17, 15, 6, 5, 16, 10]]\n",
        "phi = [0.494781145457], avg. acpt = [ 0.06]"
       ]
      },
      {
       "output_type": "stream",
       "stream": "stdout",
       "text": [
        "\n",
        "1 18\n",
        "[[9, 11, 17, 6, 16, 10, 7, 3, 5, 13, 14, 12, 0, 8, 15, 1, 2, 4]]\n",
        "phi = [0.497604427291], avg. acpt = [ 0.04]"
       ]
      },
      {
       "output_type": "stream",
       "stream": "stdout",
       "text": [
        "\n",
        "1 18\n",
        "[[8, 1, 17, 3, 15, 5, 4, 6, 7, 14, 9, 11, 2, 12, 16, 0, 13, 10]]\n",
        "phi = [0.500435741222], avg. acpt = [ 0.05]"
       ]
      },
      {
       "output_type": "stream",
       "stream": "stdout",
       "text": [
        "\n",
        "1 18\n",
        "[[1, 14, 6, 8, 9, 15, 5, 16, 2, 12, 3, 7, 10, 17, 0, 13, 11, 4]]\n",
        "phi = [0.503275087249], avg. acpt = [ 0.06]"
       ]
      },
      {
       "output_type": "stream",
       "stream": "stdout",
       "text": [
        "\n",
        "1 18\n",
        "[[1, 15, 6, 17, 3, 13, 4, 2, 16, 7, 8, 9, 10, 11, 0, 5, 14, 12]]\n",
        "phi = [0.506122465372], avg. acpt = [ 0.04]"
       ]
      },
      {
       "output_type": "stream",
       "stream": "stdout",
       "text": [
        "\n",
        "1 18\n",
        "[[4, 3, 17, 13, 1, 10, 14, 6, 5, 15, 12, 7, 8, 0, 16, 2, 9, 11]]\n",
        "phi = [0.508977875591], avg. acpt = [ 0.06]"
       ]
      },
      {
       "output_type": "stream",
       "stream": "stdout",
       "text": [
        "\n",
        "1 18\n",
        "[[0, 8, 12, 7, 2, 3, 1, 9, 13, 14, 16, 15, 17, 6, 10, 5, 11, 4]]\n",
        "phi = [0.511841317906], avg. acpt = [ 0.05]"
       ]
      },
      {
       "output_type": "stream",
       "stream": "stdout",
       "text": [
        "\n",
        "1 18\n",
        "[[7, 10, 9, 6, 4, 3, 8, 16, 12, 11, 13, 2, 1, 0, 17, 5, 14, 15]]\n",
        "phi = [0.514712792318], avg. acpt = [ 0.06]"
       ]
      },
      {
       "output_type": "stream",
       "stream": "stdout",
       "text": [
        "\n",
        "1 18\n",
        "[[12, 0, 16, 13, 5, 1, 8, 11, 2, 14, 10, 15, 4, 17, 3, 7, 6, 9]]\n",
        "phi = [0.517592298826], avg. acpt = [ 0.07]"
       ]
      },
      {
       "output_type": "stream",
       "stream": "stdout",
       "text": [
        "\n",
        "1 18\n",
        "[[3, 16, 13, 10, 9, 17, 7, 15, 14, 0, 12, 8, 5, 4, 2, 1, 11, 6]]\n",
        "phi = [0.52047983743], avg. acpt = [ 0.05]"
       ]
      },
      {
       "output_type": "stream",
       "stream": "stdout",
       "text": [
        "\n",
        "1 18\n",
        "[[0, 17, 3, 11, 7, 9, 5, 8, 4, 14, 1, 15, 12, 10, 6, 13, 16, 2]]\n",
        "phi = [0.523375408131], avg. acpt = [ 0.06]"
       ]
      },
      {
       "output_type": "stream",
       "stream": "stdout",
       "text": [
        "\n",
        "1 18\n",
        "[[7, 1, 4, 12, 6, 13, 17, 3, 14, 8, 16, 15, 10, 0, 2, 5, 9, 11]]\n",
        "phi = [0.526279010928], avg. acpt = [ 0.05]"
       ]
      },
      {
       "output_type": "stream",
       "stream": "stdout",
       "text": [
        "\n",
        "1 18\n",
        "[[3, 7, 11, 9, 17, 0, 5, 10, 15, 1, 16, 13, 4, 14, 6, 8, 2, 12]]\n",
        "phi = [0.529190645821], avg. acpt = [ 0.05]"
       ]
      },
      {
       "output_type": "stream",
       "stream": "stdout",
       "text": [
        "\n",
        "1 18\n",
        "[[13, 9, 8, 17, 6, 14, 5, 1, 15, 2, 4, 16, 12, 7, 3, 11, 0, 10]]\n",
        "phi = [0.53211031281], avg. acpt = [ 0.04]"
       ]
      },
      {
       "output_type": "stream",
       "stream": "stdout",
       "text": [
        "\n",
        "1 18\n",
        "[[8, 2, 7, 5, 17, 6, 10, 9, 3, 12, 0, 11, 16, 13, 14, 1, 4, 15]]\n",
        "phi = [0.535038011896], avg. acpt = [ 0.04]"
       ]
      },
      {
       "output_type": "stream",
       "stream": "stdout",
       "text": [
        "\n",
        "1 18\n",
        "[[6, 12, 3, 9, 7, 13, 14, 11, 5, 17, 10, 4, 16, 15, 8, 2, 1, 0]]\n",
        "phi = [0.537973743077], avg. acpt = [ 0.04]"
       ]
      },
      {
       "output_type": "stream",
       "stream": "stdout",
       "text": [
        "\n",
        "1 18\n",
        "[[12, 16, 0, 10, 7, 15, 9, 8, 2, 11, 4, 1, 17, 5, 13, 6, 14, 3]]\n",
        "phi = [0.540917506355], avg. acpt = [ 0.06]"
       ]
      },
      {
       "output_type": "stream",
       "stream": "stdout",
       "text": [
        "\n",
        "1 18\n",
        "[[6, 16, 7, 14, 10, 13, 17, 0, 2, 8, 1, 5, 9, 3, 4, 15, 12, 11]]\n",
        "phi = [0.54386930173], avg. acpt = [ 0.06]"
       ]
      },
      {
       "output_type": "stream",
       "stream": "stdout",
       "text": [
        "\n",
        "1 18\n",
        "[[9, 14, 1, 11, 10, 4, 5, 16, 7, 6, 2, 15, 0, 3, 13, 12, 8, 17]]\n",
        "phi = [0.5468291292], avg. acpt = [ 0.04]"
       ]
      },
      {
       "output_type": "stream",
       "stream": "stdout",
       "text": [
        "\n",
        "1 18\n",
        "[[8, 1, 2, 15, 9, 12, 10, 13, 11, 16, 7, 17, 0, 6, 14, 4, 3, 5]]\n",
        "phi = [0.549796988767], avg. acpt = [ 0.05]"
       ]
      },
      {
       "output_type": "stream",
       "stream": "stdout",
       "text": [
        "\n",
        "1 18\n",
        "[[1, 16, 10, 0, 2, 5, 12, 6, 9, 7, 13, 3, 14, 11, 17, 8, 4, 15]]\n",
        "phi = [0.55277288043], avg. acpt = [ 0.04]"
       ]
      },
      {
       "output_type": "stream",
       "stream": "stdout",
       "text": [
        "\n",
        "1 18\n",
        "[[2, 9, 16, 12, 4, 8, 15, 7, 1, 5, 3, 10, 13, 14, 6, 11, 17, 0]]\n",
        "phi = [0.55575680419], avg. acpt = [ 0.04]"
       ]
      },
      {
       "output_type": "stream",
       "stream": "stdout",
       "text": [
        "\n",
        "1 18\n",
        "[[6, 17, 8, 12, 3, 16, 2, 0, 1, 15, 10, 9, 4, 14, 5, 13, 7, 11]]\n",
        "phi = [0.558748760045], avg. acpt = [ 0.05]"
       ]
      },
      {
       "output_type": "stream",
       "stream": "stdout",
       "text": [
        "\n",
        "1 18\n",
        "[[10, 6, 7, 17, 0, 4, 9, 11, 15, 2, 14, 12, 5, 16, 8, 13, 1, 3]]\n",
        "phi = [0.561748747997], avg. acpt = [ 0.06]"
       ]
      },
      {
       "output_type": "stream",
       "stream": "stdout",
       "text": [
        "\n",
        "1 18\n",
        "[[10, 15, 5, 12, 13, 16, 7, 8, 1, 4, 9, 17, 2, 6, 11, 3, 0, 14]]\n",
        "phi = [0.564756768045], avg. acpt = [ 0.07]"
       ]
      },
      {
       "output_type": "stream",
       "stream": "stdout",
       "text": [
        "\n",
        "1 18\n",
        "[[6, 17, 8, 7, 9, 0, 1, 11, 12, 14, 10, 13, 16, 15, 5, 4, 3, 2]]\n",
        "phi = [0.567772820189], avg. acpt = [ 0.05]"
       ]
      },
      {
       "output_type": "stream",
       "stream": "stdout",
       "text": [
        "\n",
        "1 18\n",
        "[[10, 13, 7, 8, 11, 12, 3, 5, 1, 6, 15, 2, 4, 9, 16, 0, 17, 14]]\n",
        "phi = [0.57079690443], avg. acpt = [ 0.05]"
       ]
      },
      {
       "output_type": "stream",
       "stream": "stdout",
       "text": [
        "\n",
        "1 18\n",
        "[[9, 8, 13, 15, 7, 11, 10, 5, 0, 6, 3, 4, 1, 2, 16, 14, 17, 12]]\n",
        "phi = [0.573829020767], avg. acpt = [ 0.04]"
       ]
      },
      {
       "output_type": "stream",
       "stream": "stdout",
       "text": [
        "\n",
        "1 18\n",
        "[[13, 14, 12, 10, 4, 8, 17, 2, 6, 11, 9, 7, 5, 15, 0, 3, 1, 16]]\n",
        "phi = [0.5768691692], avg. acpt = [ 0.05]"
       ]
      },
      {
       "output_type": "stream",
       "stream": "stdout",
       "text": [
        "\n",
        "1 18\n",
        "[[13, 11, 14, 5, 3, 8, 7, 10, 1, 6, 16, 15, 2, 17, 12, 0, 4, 9]]\n",
        "phi = [0.57991734973], avg. acpt = [ 0.05]"
       ]
      },
      {
       "output_type": "stream",
       "stream": "stdout",
       "text": [
        "\n",
        "1 18\n",
        "[[0, 3, 7, 9, 12, 1, 4, 14, 11, 8, 16, 10, 13, 5, 15, 2, 17, 6]]\n",
        "phi = [0.582973562355], avg. acpt = [ 0.06]"
       ]
      },
      {
       "output_type": "stream",
       "stream": "stdout",
       "text": [
        "\n",
        "1 18\n",
        "[[7, 8, 5, 3, 15, 6, 13, 4, 12, 11, 17, 9, 0, 16, 1, 2, 14, 10]]\n",
        "phi = [0.586037807077], avg. acpt = [ 0.05]"
       ]
      },
      {
       "output_type": "stream",
       "stream": "stdout",
       "text": [
        "\n",
        "1 18\n",
        "[[8, 13, 6, 1, 0, 7, 9, 12, 15, 2, 4, 17, 16, 5, 3, 10, 14, 11]]\n",
        "phi = [0.589110083895], avg. acpt = [ 0.05]"
       ]
      },
      {
       "output_type": "stream",
       "stream": "stdout",
       "text": [
        "\n",
        "1 18\n",
        "[[2, 14, 9, 8, 3, 15, 12, 13, 4, 16, 10, 6, 17, 0, 1, 11, 5, 7]]\n",
        "phi = [0.59219039281], avg. acpt = [ 0.06]"
       ]
      },
      {
       "output_type": "stream",
       "stream": "stdout",
       "text": [
        "\n",
        "1 18\n",
        "[[17, 11, 15, 13, 1, 14, 4, 3, 8, 0, 7, 2, 10, 16, 9, 5, 12, 6]]\n",
        "phi = [0.59527873382], avg. acpt = [ 0.06]"
       ]
      },
      {
       "output_type": "stream",
       "stream": "stdout",
       "text": [
        "\n",
        "1 18\n",
        "[[8, 5, 2, 14, 13, 3, 10, 7, 15, 9, 6, 0, 11, 1, 17, 16, 4, 12]]\n",
        "phi = [0.598375106927], avg. acpt = [ 0.06]"
       ]
      },
      {
       "output_type": "stream",
       "stream": "stdout",
       "text": [
        "\n",
        "1 18\n",
        "[[1, 16, 8, 0, 13, 12, 4, 15, 10, 6, 3, 2, 9, 14, 17, 7, 5, 11]]\n",
        "phi = [0.60147951213], avg. acpt = [ 0.04]"
       ]
      },
      {
       "output_type": "stream",
       "stream": "stdout",
       "text": [
        "\n",
        "1 18\n",
        "[[13, 7, 8, 17, 0, 2, 14, 4, 16, 3, 6, 1, 5, 9, 11, 12, 10, 15]]\n",
        "phi = [0.60459194943], avg. acpt = [ 0.05]"
       ]
      },
      {
       "output_type": "stream",
       "stream": "stdout",
       "text": [
        "\n",
        "1 18\n",
        "[[7, 1, 14, 6, 13, 11, 10, 8, 12, 2, 15, 4, 3, 16, 5, 0, 17, 9]]\n",
        "phi = [0.607712418826], avg. acpt = [ 0.05]"
       ]
      },
      {
       "output_type": "stream",
       "stream": "stdout",
       "text": [
        "\n",
        "1 18\n",
        "[[7, 2, 12, 10, 6, 0, 3, 16, 1, 15, 11, 4, 9, 13, 8, 5, 14, 17]]\n",
        "phi = [0.610840920318], avg. acpt = [ 0.05]"
       ]
      },
      {
       "output_type": "stream",
       "stream": "stdout",
       "text": [
        "\n",
        "1 18\n",
        "[[1, 5, 9, 15, 3, 4, 8, 13, 0, 2, 7, 11, 12, 6, 10, 14, 17, 16]]\n",
        "phi = [0.613977453906], avg. acpt = [ 0.05]"
       ]
      },
      {
       "output_type": "stream",
       "stream": "stdout",
       "text": [
        "\n",
        "1 18\n",
        "[[0, 8, 6, 12, 3, 14, 15, 7, 10, 1, 17, 13, 4, 11, 16, 2, 5, 9]]\n",
        "phi = [0.61712201959], avg. acpt = [ 0.05]"
       ]
      },
      {
       "output_type": "stream",
       "stream": "stdout",
       "text": [
        "\n",
        "1 18\n",
        "[[9, 12, 10, 13, 1, 8, 16, 6, 11, 2, 3, 7, 4, 0, 14, 17, 5, 15]]\n",
        "phi = [0.620274617371], avg. acpt = [ 0.05]"
       ]
      },
      {
       "output_type": "stream",
       "stream": "stdout",
       "text": [
        "\n",
        "1 18\n",
        "[[13, 7, 4, 8, 2, 6, 9, 11, 17, 10, 16, 1, 14, 3, 0, 12, 5, 15]]\n",
        "phi = [0.623435247248], avg. acpt = [ 0.06]"
       ]
      },
      {
       "output_type": "stream",
       "stream": "stdout",
       "text": [
        "\n",
        "1 18\n",
        "[[17, 14, 6, 16, 3, 4, 10, 7, 15, 0, 1, 12, 9, 13, 2, 11, 8, 5]]\n",
        "phi = [0.626603909221], avg. acpt = [ 0.05]"
       ]
      },
      {
       "output_type": "stream",
       "stream": "stdout",
       "text": [
        "\n",
        "1 18\n",
        "[[14, 7, 0, 3, 11, 15, 13, 16, 1, 4, 10, 6, 9, 8, 2, 17, 12, 5]]\n",
        "phi = [0.629780603291], avg. acpt = [ 0.05]"
       ]
      },
      {
       "output_type": "stream",
       "stream": "stdout",
       "text": [
        "\n",
        "1 18\n",
        "[[7, 10, 2, 1, 13, 17, 16, 5, 8, 4, 11, 6, 0, 12, 3, 15, 14, 9]]\n",
        "phi = [0.632965329457], avg. acpt = [ 0.05]"
       ]
      },
      {
       "output_type": "stream",
       "stream": "stdout",
       "text": [
        "\n",
        "1 18\n",
        "[[8, 6, 2, 4, 11, 3, 16, 5, 7, 17, 0, 14, 15, 9, 12, 10, 1, 13]]\n",
        "phi = [0.636158087719], avg. acpt = [ 0.06]"
       ]
      },
      {
       "output_type": "stream",
       "stream": "stdout",
       "text": [
        "\n",
        "1 18\n",
        "[[15, 8, 16, 0, 2, 5, 1, 6, 10, 14, 17, 7, 9, 3, 12, 13, 11, 4]]\n",
        "phi = [0.639358878077], avg. acpt = [ 0.06]"
       ]
      },
      {
       "output_type": "stream",
       "stream": "stdout",
       "text": [
        "\n",
        "1 18\n",
        "[[9, 6, 8, 0, 1, 5, 3, 17, 15, 10, 11, 13, 12, 7, 2, 4, 14, 16]]\n",
        "phi = [0.642567700531], avg. acpt = [ 0.05]"
       ]
      },
      {
       "output_type": "stream",
       "stream": "stdout",
       "text": [
        "\n",
        "1 18\n",
        "[[16, 7, 9, 14, 2, 8, 5, 15, 12, 3, 13, 6, 11, 1, 17, 10, 4, 0]]\n",
        "phi = [0.645784555082], avg. acpt = [ 0.04]"
       ]
      },
      {
       "output_type": "stream",
       "stream": "stdout",
       "text": [
        "\n",
        "1 18\n",
        "[[4, 16, 9, 12, 7, 6, 10, 1, 13, 8, 14, 17, 11, 0, 5, 15, 3, 2]]\n",
        "phi = [0.649009441729], avg. acpt = [ 0.04]"
       ]
      },
      {
       "output_type": "stream",
       "stream": "stdout",
       "text": [
        "\n",
        "1 18\n",
        "[[1, 6, 11, 9, 17, 4, 10, 3, 16, 7, 8, 2, 13, 14, 12, 0, 15, 5]]\n",
        "phi = [0.652242360472], avg. acpt = [ 0.05]"
       ]
      },
      {
       "output_type": "stream",
       "stream": "stdout",
       "text": [
        "\n",
        "1 18\n",
        "[[13, 1, 8, 5, 16, 11, 12, 17, 15, 10, 3, 2, 4, 0, 6, 14, 9, 7]]\n",
        "phi = [0.655483311312], avg. acpt = [ 0.04]"
       ]
      },
      {
       "output_type": "stream",
       "stream": "stdout",
       "text": [
        "\n",
        "1 18\n",
        "[[5, 15, 12, 17, 7, 2, 16, 8, 9, 10, 1, 3, 4, 14, 0, 13, 11, 6]]\n",
        "phi = [0.658732294248], avg. acpt = [ 0.04]"
       ]
      },
      {
       "output_type": "stream",
       "stream": "stdout",
       "text": [
        "\n",
        "1 18\n",
        "[[5, 12, 1, 11, 9, 13, 4, 0, 10, 6, 17, 14, 3, 15, 7, 8, 2, 16]]\n",
        "phi = [0.66198930928], avg. acpt = [ 0.05]"
       ]
      },
      {
       "output_type": "stream",
       "stream": "stdout",
       "text": [
        "\n",
        "1 18\n",
        "[[3, 14, 11, 17, 13, 15, 7, 2, 6, 1, 9, 16, 0, 5, 12, 8, 10, 4]]\n",
        "phi = [0.665254356408], avg. acpt = [ 0.05]"
       ]
      },
      {
       "output_type": "stream",
       "stream": "stdout",
       "text": [
        "\n",
        "1 18\n",
        "[[3, 4, 15, 13, 0, 7, 2, 6, 9, 8, 11, 12, 14, 10, 16, 5, 17, 1]]\n",
        "phi = [0.668527435633], avg. acpt = [ 0.04]"
       ]
      },
      {
       "output_type": "stream",
       "stream": "stdout",
       "text": [
        "\n",
        "1 18\n",
        "[[12, 11, 14, 10, 6, 1, 9, 16, 7, 15, 2, 8, 3, 5, 4, 0, 17, 13]]\n",
        "phi = [0.671808546954], avg. acpt = [ 0.04]"
       ]
      },
      {
       "output_type": "stream",
       "stream": "stdout",
       "text": [
        "\n",
        "1 18\n",
        "[[11, 17, 12, 14, 6, 10, 0, 15, 9, 2, 7, 1, 8, 13, 16, 5, 3, 4]]\n",
        "phi = [0.675097690371], avg. acpt = [ 0.04]"
       ]
      },
      {
       "output_type": "stream",
       "stream": "stdout",
       "text": [
        "\n",
        "1 18\n",
        "[[2, 11, 13, 15, 12, 4, 14, 0, 1, 3, 5, 10, 9, 17, 7, 16, 6, 8]]\n",
        "phi = [0.678394865884], avg. acpt = [ 0.04]"
       ]
      },
      {
       "output_type": "stream",
       "stream": "stdout",
       "text": [
        "\n",
        "1 18\n",
        "[[1, 9, 12, 8, 5, 2, 11, 16, 3, 14, 10, 13, 0, 15, 6, 7, 4, 17]]\n",
        "phi = [0.681700073494], avg. acpt = [ 0.04]"
       ]
      },
      {
       "output_type": "stream",
       "stream": "stdout",
       "text": [
        "\n",
        "1 18\n",
        "[[10, 1, 9, 11, 0, 13, 8, 4, 7, 12, 2, 5, 17, 14, 6, 3, 15, 16]]\n",
        "phi = [0.6850133132], avg. acpt = [ 0.06]"
       ]
      },
      {
       "output_type": "stream",
       "stream": "stdout",
       "text": [
        "\n",
        "499.977267668 413\n",
        "1 18\n",
        "[[1, 3, 12, 7, 0, 16, 4, 14, 2, 17, 8, 11, 5, 9, 6, 15, 10, 13]]\n",
        "phi = [0.688334585002], avg. acpt = [ 0.06]"
       ]
      },
      {
       "output_type": "stream",
       "stream": "stdout",
       "text": [
        "\n",
        "1 18\n",
        "[[0, 5, 7, 11, 3, 16, 6, 13, 1, 12, 2, 8, 10, 14, 9, 15, 4, 17]]\n",
        "phi = [0.6916638889], avg. acpt = [ 0.05]"
       ]
      },
      {
       "output_type": "stream",
       "stream": "stdout",
       "text": [
        "\n",
        "1 18\n",
        "[[10, 17, 14, 15, 7, 9, 4, 16, 13, 1, 5, 6, 3, 11, 2, 12, 0, 8]]\n",
        "phi = [0.695001224895], avg. acpt = [ 0.05]"
       ]
      },
      {
       "output_type": "stream",
       "stream": "stdout",
       "text": [
        "\n",
        "1 18\n",
        "[[16, 15, 9, 12, 0, 7, 10, 14, 6, 5, 11, 2, 8, 1, 13, 3, 4, 17]]\n",
        "phi = [0.698346592986], avg. acpt = [ 0.05]"
       ]
      },
      {
       "output_type": "stream",
       "stream": "stdout",
       "text": [
        "\n",
        "1 18\n",
        "[[11, 7, 1, 8, 15, 13, 3, 10, 9, 2, 14, 0, 4, 17, 16, 12, 5, 6]]\n",
        "phi = [0.701699993173], avg. acpt = [ 0.04]"
       ]
      },
      {
       "output_type": "stream",
       "stream": "stdout",
       "text": [
        "\n",
        "1 18\n",
        "[[10, 7, 6, 3, 17, 12, 2, 8, 9, 4, 5, 13, 16, 14, 0, 15, 11, 1]]\n",
        "phi = [0.705061425456], avg. acpt = [ 0.04]"
       ]
      },
      {
       "output_type": "stream",
       "stream": "stdout",
       "text": [
        "\n",
        "1 18\n",
        "[[10, 16, 12, 5, 17, 7, 3, 4, 14, 15, 8, 6, 2, 0, 1, 11, 9, 13]]\n",
        "phi = [0.708430889836], avg. acpt = [ 0.04]"
       ]
      },
      {
       "output_type": "stream",
       "stream": "stdout",
       "text": [
        "\n",
        "1 18\n",
        "[[8, 2, 4, 11, 15, 1, 13, 0, 3, 14, 7, 5, 16, 17, 12, 10, 6, 9]]\n",
        "phi = [0.711808386312], avg. acpt = [ 0.04]"
       ]
      },
      {
       "output_type": "stream",
       "stream": "stdout",
       "text": [
        "\n",
        "1 18\n",
        "[[4, 9, 0, 17, 14, 8, 16, 2, 12, 6, 1, 13, 3, 5, 7, 11, 15, 10]]\n",
        "phi = [0.715193914884], avg. acpt = [ 0.04]"
       ]
      },
      {
       "output_type": "stream",
       "stream": "stdout",
       "text": [
        "\n",
        "1 18\n",
        "[[3, 2, 7, 11, 16, 13, 10, 6, 15, 12, 8, 5, 14, 4, 17, 0, 1, 9]]\n",
        "phi = [0.718587475552], avg. acpt = [ 0.05]"
       ]
      },
      {
       "output_type": "stream",
       "stream": "stdout",
       "text": [
        "\n",
        "1 18\n",
        "[[12, 0, 4, 13, 1, 15, 16, 10, 8, 14, 2, 5, 7, 11, 6, 17, 3, 9]]\n",
        "phi = [0.721989068317], avg. acpt = [ 0.04]"
       ]
      },
      {
       "output_type": "stream",
       "stream": "stdout",
       "text": [
        "\n",
        "1 18\n",
        "[[13, 7, 12, 9, 16, 17, 4, 5, 8, 11, 2, 10, 1, 15, 0, 6, 3, 14]]\n",
        "phi = [0.725398693178], avg. acpt = [ 0.04]"
       ]
      },
      {
       "output_type": "stream",
       "stream": "stdout",
       "text": [
        "\n",
        "1 18\n",
        "[[15, 3, 0, 1, 8, 12, 17, 4, 7, 14, 9, 16, 10, 13, 6, 11, 2, 5]]\n",
        "phi = [0.728816350135], avg. acpt = [ 0.05]"
       ]
      },
      {
       "output_type": "stream",
       "stream": "stdout",
       "text": [
        "\n",
        "1 18\n",
        "[[3, 11, 1, 15, 8, 10, 17, 13, 7, 5, 6, 0, 14, 12, 2, 4, 16, 9]]\n",
        "phi = [0.732242039189], avg. acpt = [ 0.04]"
       ]
      },
      {
       "output_type": "stream",
       "stream": "stdout",
       "text": [
        "\n",
        "1 18\n",
        "[[7, 1, 16, 9, 8, 13, 12, 15, 14, 0, 3, 10, 4, 6, 2, 11, 17, 5]]\n",
        "phi = [0.735675760338], avg. acpt = [ 0.06]"
       ]
      },
      {
       "output_type": "stream",
       "stream": "stdout",
       "text": [
        "\n",
        "1 18\n",
        "[[4, 2, 0, 6, 14, 11, 12, 16, 10, 1, 5, 15, 13, 17, 9, 3, 7, 8]]\n",
        "phi = [0.739117513584], avg. acpt = [ 0.07]"
       ]
      },
      {
       "output_type": "stream",
       "stream": "stdout",
       "text": [
        "\n",
        "1 18\n",
        "[[10, 1, 7, 15, 12, 17, 2, 9, 4, 0, 8, 13, 16, 11, 3, 6, 14, 5]]\n",
        "phi = [0.742567298927], avg. acpt = [ 0.04]"
       ]
      },
      {
       "output_type": "stream",
       "stream": "stdout",
       "text": [
        "\n",
        "1 18\n",
        "[[8, 3, 1, 13, 0, 2, 5, 6, 10, 9, 15, 12, 16, 7, 17, 4, 11, 14]]\n",
        "phi = [0.746025116365], avg. acpt = [ 0.04]"
       ]
      },
      {
       "output_type": "stream",
       "stream": "stdout",
       "text": [
        "\n",
        "1 18\n",
        "[[0, 4, 2, 16, 10, 12, 1, 17, 5, 15, 9, 14, 13, 8, 3, 7, 11, 6]]\n",
        "phi = [0.7494909659], avg. acpt = [ 0.05]"
       ]
      },
      {
       "output_type": "stream",
       "stream": "stdout",
       "text": [
        "\n",
        "1 18\n",
        "[[0, 14, 9, 4, 16, 15, 8, 7, 10, 13, 3, 11, 2, 1, 5, 12, 17, 6]]\n",
        "phi = [0.752964847531], avg. acpt = [ 0.04]"
       ]
      },
      {
       "output_type": "stream",
       "stream": "stdout",
       "text": [
        "\n",
        "1 18\n",
        "[[5, 14, 0, 4, 1, 17, 9, 13, 10, 12, 11, 2, 3, 7, 16, 15, 6, 8]]\n",
        "phi = [0.756446761258], avg. acpt = [ 0.04]"
       ]
      },
      {
       "output_type": "stream",
       "stream": "stdout",
       "text": [
        "\n",
        "1 18\n",
        "[[5, 2, 14, 16, 8, 7, 13, 10, 4, 0, 12, 1, 9, 15, 17, 3, 6, 11]]\n",
        "phi = [0.759936707081], avg. acpt = [ 0.05]"
       ]
      },
      {
       "output_type": "stream",
       "stream": "stdout",
       "text": [
        "\n",
        "1 18\n",
        "[[0, 17, 13, 4, 11, 2, 16, 12, 1, 6, 15, 3, 5, 14, 7, 8, 10, 9]]\n",
        "phi = [0.763434685001], avg. acpt = [ 0.05]"
       ]
      },
      {
       "output_type": "stream",
       "stream": "stdout",
       "text": [
        "\n",
        "1 18\n",
        "[[5, 13, 10, 15, 0, 9, 12, 8, 7, 17, 6, 3, 11, 14, 4, 1, 16, 2]]\n",
        "phi = [0.766940695017], avg. acpt = [ 0.04]"
       ]
      },
      {
       "output_type": "stream",
       "stream": "stdout",
       "text": [
        "\n",
        "1 18\n",
        "[[3, 14, 0, 2, 9, 12, 11, 1, 5, 8, 6, 4, 10, 16, 17, 13, 7, 15]]\n",
        "phi = [0.77045473713], avg. acpt = [ 0.05]"
       ]
      },
      {
       "output_type": "stream",
       "stream": "stdout",
       "text": [
        "\n",
        "1 18\n",
        "[[0, 9, 2, 16, 8, 15, 6, 7, 14, 13, 11, 1, 4, 12, 5, 17, 10, 3]]\n",
        "phi = [0.773976811338], avg. acpt = [ 0.05]"
       ]
      },
      {
       "output_type": "stream",
       "stream": "stdout",
       "text": [
        "\n",
        "1 18\n",
        "[[7, 14, 6, 8, 5, 1, 4, 12, 11, 15, 16, 17, 2, 10, 13, 0, 9, 3]]\n",
        "phi = [0.777506917643], avg. acpt = [ 0.06]"
       ]
      },
      {
       "output_type": "stream",
       "stream": "stdout",
       "text": [
        "\n",
        "1 18\n",
        "[[16, 13, 5, 17, 7, 4, 6, 9, 12, 3, 8, 1, 15, 2, 11, 14, 0, 10]]\n",
        "phi = [0.781045056044], avg. acpt = [ 0.05]"
       ]
      },
      {
       "output_type": "stream",
       "stream": "stdout",
       "text": [
        "\n",
        "1 18\n",
        "[[16, 15, 12, 1, 9, 17, 3, 14, 5, 4, 0, 7, 13, 10, 8, 11, 2, 6]]\n",
        "phi = [0.784591226541], avg. acpt = [ 0.06]"
       ]
      },
      {
       "output_type": "stream",
       "stream": "stdout",
       "text": [
        "\n",
        "1 18\n",
        "[[5, 16, 3, 4, 8, 6, 10, 0, 15, 12, 7, 9, 14, 2, 11, 1, 13, 17]]\n",
        "phi = [0.788145429135], avg. acpt = [ 0.06]"
       ]
      },
      {
       "output_type": "stream",
       "stream": "stdout",
       "text": [
        "\n",
        "1 18\n",
        "[[10, 9, 13, 1, 5, 7, 3, 12, 4, 0, 17, 11, 16, 2, 6, 15, 14, 8]]\n",
        "phi = [0.791707663825], avg. acpt = [ 0.04]"
       ]
      },
      {
       "output_type": "stream",
       "stream": "stdout",
       "text": [
        "\n",
        "1 18\n",
        "[[2, 3, 17, 6, 10, 14, 4, 1, 12, 8, 13, 9, 15, 16, 5, 7, 11, 0]]\n",
        "phi = [0.795277930611], avg. acpt = [ 0.05]"
       ]
      },
      {
       "output_type": "stream",
       "stream": "stdout",
       "text": [
        "\n",
        "1 18\n",
        "[[4, 10, 8, 14, 15, 1, 11, 2, 13, 7, 0, 9, 16, 6, 17, 5, 12, 3]]\n",
        "phi = [0.798856229493], avg. acpt = [ 0.05]"
       ]
      },
      {
       "output_type": "stream",
       "stream": "stdout",
       "text": [
        "\n",
        "1 18\n",
        "[[12, 9, 15, 10, 17, 6, 11, 0, 13, 7, 5, 8, 3, 4, 14, 2, 16, 1]]\n",
        "phi = [0.802442560472], avg. acpt = [ 0.05]"
       ]
      },
      {
       "output_type": "stream",
       "stream": "stdout",
       "text": [
        "\n",
        "1 18\n",
        "[[4, 1, 17, 13, 3, 6, 15, 11, 2, 12, 16, 5, 7, 0, 9, 14, 8, 10]]\n",
        "phi = [0.806036923546], avg. acpt = [ 0.06]"
       ]
      },
      {
       "output_type": "stream",
       "stream": "stdout",
       "text": [
        "\n",
        "1 18\n",
        "[[16, 8, 9, 13, 10, 11, 4, 14, 0, 7, 3, 17, 5, 12, 6, 1, 2, 15]]\n",
        "phi = [0.809639318718], avg. acpt = [ 0.04]"
       ]
      },
      {
       "output_type": "stream",
       "stream": "stdout",
       "text": [
        "\n",
        "1 18\n",
        "[[14, 4, 3, 1, 10, 12, 15, 0, 11, 2, 8, 16, 17, 5, 9, 6, 7, 13]]\n",
        "phi = [0.813249745985], avg. acpt = [ 0.04]"
       ]
      },
      {
       "output_type": "stream",
       "stream": "stdout",
       "text": [
        "\n",
        "1 18\n",
        "[[16, 1, 0, 9, 17, 11, 15, 14, 12, 7, 3, 2, 5, 4, 10, 13, 6, 8]]\n",
        "phi = [0.816868205349], avg. acpt = [ 0.05]"
       ]
      },
      {
       "output_type": "stream",
       "stream": "stdout",
       "text": [
        "\n",
        "1 18\n",
        "[[1, 6, 14, 16, 13, 8, 9, 12, 7, 5, 17, 2, 3, 11, 10, 4, 0, 15]]\n",
        "phi = [0.820494696808], avg. acpt = [ 0.04]"
       ]
      },
      {
       "output_type": "stream",
       "stream": "stdout",
       "text": [
        "\n",
        "1 18\n",
        "[[10, 13, 4, 17, 9, 6, 14, 3, 2, 16, 1, 5, 8, 12, 15, 0, 7, 11]]\n",
        "phi = [0.824129220365], avg. acpt = [ 0.05]"
       ]
      },
      {
       "output_type": "stream",
       "stream": "stdout",
       "text": [
        "\n",
        "1 18\n",
        "[[15, 3, 14, 8, 5, 6, 11, 9, 17, 16, 10, 12, 4, 13, 0, 2, 7, 1]]\n",
        "phi = [0.827771776017], avg. acpt = [ 0.06]"
       ]
      },
      {
       "output_type": "stream",
       "stream": "stdout",
       "text": [
        "\n",
        "1 18\n",
        "[[6, 13, 9, 17, 2, 15, 10, 8, 16, 12, 3, 5, 0, 11, 14, 1, 4, 7]]\n",
        "phi = [0.831422363766], avg. acpt = [ 0.04]"
       ]
      },
      {
       "output_type": "stream",
       "stream": "stdout",
       "text": [
        "\n",
        "1 18\n",
        "[[12, 17, 2, 11, 6, 9, 15, 0, 10, 13, 4, 7, 16, 5, 14, 8, 3, 1]]\n",
        "phi = [0.835080983611], avg. acpt = [ 0.04]"
       ]
      },
      {
       "output_type": "stream",
       "stream": "stdout",
       "text": [
        "\n",
        "1 18\n",
        "[[2, 15, 8, 1, 4, 11, 14, 17, 3, 10, 7, 12, 13, 9, 0, 16, 5, 6]]\n",
        "phi = [0.838747635552], avg. acpt = [ 0.03]"
       ]
      },
      {
       "output_type": "stream",
       "stream": "stdout",
       "text": [
        "\n",
        "1 18\n",
        "[[9, 16, 11, 13, 4, 14, 6, 17, 1, 0, 15, 3, 12, 2, 5, 7, 8, 10]]\n",
        "phi = [0.842422319589], avg. acpt = [ 0.06]"
       ]
      },
      {
       "output_type": "stream",
       "stream": "stdout",
       "text": [
        "\n",
        "1 18\n",
        "[[15, 9, 12, 1, 10, 3, 6, 17, 5, 14, 4, 11, 13, 8, 0, 7, 16, 2]]\n",
        "phi = [0.846105035723], avg. acpt = [ 0.05]"
       ]
      },
      {
       "output_type": "stream",
       "stream": "stdout",
       "text": [
        "\n",
        "1 18\n",
        "[[0, 17, 16, 4, 2, 5, 6, 9, 13, 7, 15, 12, 10, 3, 1, 11, 8, 14]]\n",
        "phi = [0.849795783953], avg. acpt = [ 0.05]"
       ]
      },
      {
       "output_type": "stream",
       "stream": "stdout",
       "text": [
        "\n",
        "1 18\n",
        "[[6, 8, 3, 9, 14, 17, 11, 0, 16, 5, 1, 7, 10, 4, 12, 15, 13, 2]]\n",
        "phi = [0.853494564279], avg. acpt = [ 0.04]"
       ]
      },
      {
       "output_type": "stream",
       "stream": "stdout",
       "text": [
        "\n",
        "1 18\n",
        "[[12, 4, 17, 3, 15, 13, 16, 11, 7, 8, 1, 5, 10, 9, 6, 14, 2, 0]]\n",
        "phi = [0.857201376701], avg. acpt = [ 0.04]"
       ]
      },
      {
       "output_type": "stream",
       "stream": "stdout",
       "text": [
        "\n",
        "1 18\n",
        "[[8, 6, 16, 15, 12, 7, 13, 17, 11, 5, 4, 10, 2, 9, 14, 0, 3, 1]]\n",
        "phi = [0.86091622122], avg. acpt = [ 0.05]"
       ]
      },
      {
       "output_type": "stream",
       "stream": "stdout",
       "text": [
        "\n",
        "1 18\n",
        "[[1, 16, 6, 7, 5, 12, 3, 17, 8, 4, 0, 9, 11, 10, 14, 2, 15, 13]]\n",
        "phi = [0.864639097835], avg. acpt = [ 0.04]"
       ]
      },
      {
       "output_type": "stream",
       "stream": "stdout",
       "text": [
        "\n",
        "1 18\n",
        "[[14, 8, 16, 6, 13, 1, 17, 0, 15, 11, 12, 10, 7, 3, 9, 4, 5, 2]]\n",
        "phi = [0.868370006546], avg. acpt = [ 0.05]"
       ]
      },
      {
       "output_type": "stream",
       "stream": "stdout",
       "text": [
        "\n",
        "1 18\n",
        "[[1, 9, 8, 3, 17, 10, 12, 7, 11, 6, 4, 2, 16, 15, 13, 5, 14, 0]]\n",
        "phi = [0.872108947354], avg. acpt = [ 0.04]"
       ]
      },
      {
       "output_type": "stream",
       "stream": "stdout",
       "text": [
        "\n",
        "1 18\n",
        "[[12, 16, 6, 8, 7, 17, 9, 0, 1, 3, 4, 14, 15, 11, 13, 10, 5, 2]]\n",
        "phi = [0.875855920257], avg. acpt = [ 0.04]"
       ]
      },
      {
       "output_type": "stream",
       "stream": "stdout",
       "text": [
        "\n",
        "1 18\n",
        "[[3, 9, 12, 6, 8, 7, 1, 16, 10, 17, 0, 15, 11, 4, 13, 14, 2, 5]]\n",
        "phi = [0.879610925257], avg. acpt = [ 0.04]"
       ]
      },
      {
       "output_type": "stream",
       "stream": "stdout",
       "text": [
        "\n",
        "1 18\n",
        "[[0, 2, 6, 11, 4, 14, 3, 17, 9, 16, 8, 1, 12, 7, 10, 5, 15, 13]]\n",
        "phi = [0.883373962354], avg. acpt = [ 0.04]"
       ]
      },
      {
       "output_type": "stream",
       "stream": "stdout",
       "text": [
        "\n",
        "1 18\n",
        "[[7, 17, 15, 3, 5, 11, 6, 16, 13, 8, 9, 0, 4, 1, 12, 10, 2, 14]]\n",
        "phi = [0.887145031546], avg. acpt = [ 0.04]"
       ]
      },
      {
       "output_type": "stream",
       "stream": "stdout",
       "text": [
        "\n",
        "1 18\n",
        "[[4, 9, 6, 10, 15, 0, 13, 17, 12, 8, 7, 2, 14, 3, 1, 5, 16, 11]]\n",
        "phi = [0.890924132835], avg. acpt = [ 0.06]"
       ]
      },
      {
       "output_type": "stream",
       "stream": "stdout",
       "text": [
        "\n",
        "1 18\n",
        "[[7, 0, 14, 17, 9, 15, 2, 8, 5, 12, 4, 10, 1, 3, 13, 16, 6, 11]]\n",
        "phi = [0.89471126622], avg. acpt = [ 0.05]"
       ]
      },
      {
       "output_type": "stream",
       "stream": "stdout",
       "text": [
        "\n",
        "1 18\n",
        "[[17, 11, 0, 3, 1, 8, 15, 16, 14, 6, 5, 9, 7, 2, 12, 4, 13, 10]]\n",
        "phi = [0.898506431701], avg. acpt = [ 0.05]"
       ]
      },
      {
       "output_type": "stream",
       "stream": "stdout",
       "text": [
        "\n",
        "1 18\n",
        "[[0, 16, 3, 13, 6, 12, 17, 8, 2, 4, 1, 14, 5, 9, 15, 11, 7, 10]]\n",
        "phi = [0.902309629279], avg. acpt = [ 0.04]"
       ]
      },
      {
       "output_type": "stream",
       "stream": "stdout",
       "text": [
        "\n",
        "1 18\n",
        "[[15, 2, 16, 0, 3, 10, 11, 1, 7, 8, 14, 5, 13, 6, 4, 12, 17, 9]]\n",
        "phi = [0.906120858952], avg. acpt = [ 0.05]"
       ]
      },
      {
       "output_type": "stream",
       "stream": "stdout",
       "text": [
        "\n",
        "1 18\n",
        "[[17, 5, 10, 14, 8, 7, 15, 12, 4, 13, 2, 9, 1, 0, 16, 3, 6, 11]]\n",
        "phi = [0.909940120722], avg. acpt = [ 0.03]"
       ]
      },
      {
       "output_type": "stream",
       "stream": "stdout",
       "text": [
        "\n",
        "1 18\n",
        "[[7, 4, 0, 6, 1, 9, 17, 8, 10, 12, 15, 5, 16, 14, 13, 11, 3, 2]]\n",
        "phi = [0.913767414589], avg. acpt = [ 0.04]"
       ]
      },
      {
       "output_type": "stream",
       "stream": "stdout",
       "text": [
        "\n",
        "1 18\n",
        "[[16, 8, 6, 9, 11, 14, 7, 3, 17, 13, 15, 2, 10, 12, 4, 1, 0, 5]]\n",
        "phi = [0.917602740551], avg. acpt = [ 0.06]"
       ]
      },
      {
       "output_type": "stream",
       "stream": "stdout",
       "text": [
        "\n",
        "1 18\n",
        "[[16, 3, 6, 4, 12, 2, 0, 8, 17, 9, 15, 1, 5, 14, 10, 13, 11, 7]]\n",
        "phi = [0.92144609861], avg. acpt = [ 0.03]"
       ]
      },
      {
       "output_type": "stream",
       "stream": "stdout",
       "text": [
        "\n",
        "1 18\n",
        "[[1, 14, 0, 13, 9, 17, 16, 2, 12, 6, 11, 10, 5, 8, 3, 7, 15, 4]]\n",
        "phi = [0.925297488765], avg. acpt = [ 0.03]"
       ]
      },
      {
       "output_type": "stream",
       "stream": "stdout",
       "text": [
        "\n",
        "1 18\n",
        "[[7, 13, 12, 9, 4, 14, 6, 16, 3, 1, 17, 0, 11, 2, 5, 8, 10, 15]]\n",
        "phi = [0.929156911016], avg. acpt = [ 0.04]"
       ]
      },
      {
       "output_type": "stream",
       "stream": "stdout",
       "text": [
        "\n",
        "1 18\n",
        "[[0, 11, 1, 8, 4, 7, 17, 3, 12, 5, 10, 6, 2, 9, 16, 14, 13, 15]]\n",
        "phi = [0.933024365364], avg. acpt = [ 0.04]"
       ]
      },
      {
       "output_type": "stream",
       "stream": "stdout",
       "text": [
        "\n",
        "1 18\n",
        "[[0, 8, 5, 16, 7, 2, 10, 12, 14, 11, 4, 3, 15, 17, 9, 1, 13, 6]]\n",
        "phi = [0.936899851808], avg. acpt = [ 0.04]"
       ]
      },
      {
       "output_type": "stream",
       "stream": "stdout",
       "text": [
        "\n",
        "1 18\n",
        "[[9, 4, 10, 7, 15, 17, 3, 2, 5, 11, 16, 8, 0, 6, 1, 14, 12, 13]]\n",
        "phi = [0.940783370348], avg. acpt = [ 0.05]"
       ]
      },
      {
       "output_type": "stream",
       "stream": "stdout",
       "text": [
        "\n",
        "1 18\n",
        "[[16, 11, 17, 1, 6, 2, 4, 12, 14, 9, 0, 15, 3, 5, 13, 7, 8, 10]]\n",
        "phi = [0.944674920984], avg. acpt = [ 0.03]"
       ]
      },
      {
       "output_type": "stream",
       "stream": "stdout",
       "text": [
        "\n",
        "1 18\n",
        "[[5, 6, 8, 0, 2, 17, 10, 4, 15, 7, 1, 3, 12, 9, 16, 13, 11, 14]]\n",
        "phi = [0.948574503717], avg. acpt = [ 0.04]"
       ]
      },
      {
       "output_type": "stream",
       "stream": "stdout",
       "text": [
        "\n",
        "1 18\n",
        "[[5, 12, 15, 0, 17, 10, 8, 16, 1, 3, 13, 9, 11, 14, 6, 2, 4, 7]]\n",
        "phi = [0.952482118546], avg. acpt = [ 0.04]"
       ]
      },
      {
       "output_type": "stream",
       "stream": "stdout",
       "text": [
        "\n",
        "1 18\n",
        "[[12, 9, 11, 10, 13, 5, 0, 6, 14, 15, 1, 3, 7, 16, 4, 17, 8, 2]]\n",
        "phi = [0.956397765471], avg. acpt = [ 0.05]"
       ]
      },
      {
       "output_type": "stream",
       "stream": "stdout",
       "text": [
        "\n",
        "1 18\n",
        "[[1, 8, 17, 10, 3, 15, 14, 0, 9, 16, 4, 2, 5, 7, 13, 6, 12, 11]]\n",
        "phi = [0.960321444492], avg. acpt = [ 0.03]"
       ]
      },
      {
       "output_type": "stream",
       "stream": "stdout",
       "text": [
        "\n",
        "1 18\n",
        "[[11, 17, 2, 3, 4, 7, 6, 16, 9, 8, 5, 14, 0, 15, 12, 13, 1, 10]]\n",
        "phi = [0.96425315561], avg. acpt = [ 0.04]"
       ]
      },
      {
       "output_type": "stream",
       "stream": "stdout",
       "text": [
        "\n",
        "1 18\n",
        "[[0, 15, 8, 7, 17, 12, 9, 14, 10, 16, 3, 13, 11, 5, 1, 4, 6, 2]]\n",
        "phi = [0.968192898824], avg. acpt = [ 0.04]"
       ]
      },
      {
       "output_type": "stream",
       "stream": "stdout",
       "text": [
        "\n",
        "1 18\n",
        "[[0, 10, 17, 9, 7, 16, 2, 1, 11, 14, 4, 13, 15, 3, 6, 5, 8, 12]]\n",
        "phi = [0.972140674134], avg. acpt = [ 0.05]"
       ]
      },
      {
       "output_type": "stream",
       "stream": "stdout",
       "text": [
        "\n",
        "1 18\n",
        "[[7, 9, 17, 15, 1, 2, 5, 14, 8, 10, 13, 4, 12, 6, 3, 16, 0, 11]]\n",
        "phi = [0.97609648154], avg. acpt = [ 0.04]"
       ]
      },
      {
       "output_type": "stream",
       "stream": "stdout",
       "text": [
        "\n",
        "1 18\n",
        "[[16, 4, 1, 14, 8, 10, 17, 13, 3, 2, 6, 9, 11, 12, 15, 5, 7, 0]]\n",
        "phi = [0.980060321043], avg. acpt = [ 0.05]"
       ]
      },
      {
       "output_type": "stream",
       "stream": "stdout",
       "text": [
        "\n",
        "1 18\n",
        "[[15, 0, 9, 5, 4, 10, 16, 11, 12, 3, 7, 6, 1, 8, 13, 17, 14, 2]]\n",
        "phi = [0.984032192642], avg. acpt = [ 0.04]"
       ]
      },
      {
       "output_type": "stream",
       "stream": "stdout",
       "text": [
        "\n",
        "1 18\n",
        "[[12, 10, 14, 5, 2, 17, 4, 1, 15, 9, 16, 8, 6, 7, 11, 13, 3, 0]]\n",
        "phi = [0.988012096337], avg. acpt = [ 0.05]"
       ]
      },
      {
       "output_type": "stream",
       "stream": "stdout",
       "text": [
        "\n",
        "1 18\n",
        "[[15, 4, 13, 5, 7, 9, 6, 17, 8, 2, 10, 11, 16, 0, 1, 3, 12, 14]]\n",
        "phi = [0.992000032128], avg. acpt = [ 0.05]"
       ]
      },
      {
       "output_type": "stream",
       "stream": "stdout",
       "text": [
        "\n",
        "1 18\n",
        "[[5, 15, 6, 8, 16, 9, 11, 7, 1, 10, 12, 17, 4, 2, 14, 0, 13, 3]]\n",
        "phi = [0.995996000016], avg. acpt = [ 0.04]"
       ]
      },
      {
       "output_type": "stream",
       "stream": "stdout",
       "text": [
        "\n",
        "1 18\n",
        "[[17, 3, 2, 14, 5, 16, 12, 7, 9, 15, 11, 8, 6, 4, 10, 13, 1, 0]]\n",
        "phi = [1.0], avg. acpt = [ 0.03]"
       ]
      },
      {
       "output_type": "stream",
       "stream": "stdout",
       "text": [
        "\n"
       ]
      }
     ],
     "prompt_number": 12
    },
    {
     "cell_type": "code",
     "collapsed": false,
     "input": [
      "model.prior.rvs(3)\n",
      "\n"
     ],
     "language": "python",
     "outputs": [
      {
       "output_type": "pyout",
       "prompt_number": 27,
       "text": [
        "[array([  5.64554408e-01,   5.28467686e-01,   2.19351389e-01,\n",
        "         2.41237986e-01,  -3.04399585e-01,  -2.74966571e-01,\n",
        "        -3.42048231e-03,  -2.08195540e-01,   1.31467415e-01,\n",
        "        -4.17745449e-02,  -7.74626547e-02,  -1.30188975e-01,\n",
        "         9.73783043e-01,   1.96113747e-02,   7.53742474e-02,\n",
        "         1.80086825e-01,  -4.90284994e-02,  -7.56742225e-02,\n",
        "         4.98879378e-01,  -4.29583156e-01,  -7.03378970e-02,\n",
        "        -2.99983159e-01,   2.65728100e-01,   2.53064882e-01,\n",
        "         9.25997552e-01,   1.62512828e-01,  -3.80417022e-03,\n",
        "         2.62403500e-04,  -1.58333676e-03,   8.08335668e-04,\n",
        "         2.04504351e-05,  -6.46292274e-06,  -4.08477748e-06,\n",
        "         2.53126909e-05,   4.27226665e-06,   1.34161565e-05]),\n",
        " array([  1.08071406e+00,  -1.07440990e-01,  -4.61403724e-01,\n",
        "         7.39544934e-02,   4.02423745e-01,  -3.57212200e-01,\n",
        "         6.36208387e-02,  -3.43090768e-01,   3.23552896e-01,\n",
        "        -4.73012441e-03,  -9.78935340e-02,  -1.30460364e-01,\n",
        "         9.94735765e-01,  -2.35829165e-01,   1.12071579e-01,\n",
        "         2.83964542e-02,  -1.96259443e-01,   1.48672403e-01,\n",
        "         1.50989477e-02,   1.06750865e-01,   6.31201796e-01,\n",
        "        -7.85104874e-02,  -3.24729470e-01,   4.40083132e-01,\n",
        "         9.29712409e-01,   6.04934094e-01,  -5.41495528e-01,\n",
        "        -3.57372802e-04,  -2.66311084e-03,   2.60958971e-03,\n",
        "         4.71551522e-06,   1.73956654e-06,   1.62924775e-06,\n",
        "         5.47517402e-05,  -2.77211365e-05,   3.35706369e-05]),\n",
        " array([  8.66264668e-01,   6.53013621e-02,   4.19287802e-02,\n",
        "        -7.17299550e-02,  -1.84515458e-01,   4.68867601e-02,\n",
        "         5.85472061e-02,  -1.68638981e-01,  -6.37210646e-02,\n",
        "        -9.20228352e-02,   4.57914085e-02,  -9.57572629e-02,\n",
        "         9.54542848e-01,   1.65173176e-02,  -5.58170049e-02,\n",
        "        -3.26207288e-02,  -3.40331698e-02,   1.32123944e-01,\n",
        "         3.00602081e-01,  -7.41036789e-02,   7.13282540e-02,\n",
        "         1.13574616e-01,   2.21986094e-01,  -6.84645407e-02,\n",
        "         1.06131971e+00,   2.41015056e-01,  -3.79790784e-02,\n",
        "        -7.29409020e-04,  -1.38233501e-03,   2.62407582e-03,\n",
        "         9.71540361e-06,  -7.57924506e-07,   3.95458074e-06,\n",
        "         6.16277044e-06,  -3.62399091e-06,   2.74257466e-05])]"
       ]
      }
     ],
     "prompt_number": 27
    },
    {
     "cell_type": "code",
     "collapsed": false,
     "input": [
      "model.prior.rvs"
     ],
     "language": "python",
     "outputs": [
      {
       "output_type": "pyout",
       "prompt_number": 11,
       "text": [
        "<bound method MinnesotaPrior.rvs of <varprior.MinnesotaPrior object at 0x15acef50>>"
       ]
      }
     ],
     "prompt_number": 11
    },
    {
     "cell_type": "code",
     "collapsed": false,
     "input": [
      "x = StructuralPrior()"
     ],
     "language": "python",
     "outputs": [
      {
       "ename": "NameError",
       "evalue": "name 'StructuralPrior' is not defined",
       "output_type": "pyerr",
       "traceback": [
        "\u001b[1;31m---------------------------------------------------------------------------\u001b[0m\n\u001b[1;31mNameError\u001b[0m                                 Traceback (most recent call last)",
        "\u001b[1;32m<ipython-input-8-23cbb0c1ccfc>\u001b[0m in \u001b[0;36m<module>\u001b[1;34m()\u001b[0m\n\u001b[1;32m----> 1\u001b[1;33m \u001b[0mx\u001b[0m \u001b[1;33m=\u001b[0m \u001b[0mStructuralPrior\u001b[0m\u001b[1;33m(\u001b[0m\u001b[1;33m)\u001b[0m\u001b[1;33m\u001b[0m\u001b[0m\n\u001b[0m",
        "\u001b[1;31mNameError\u001b[0m: name 'StructuralPrior' is not defined"
       ]
      }
     ],
     "prompt_number": 8
    },
    {
     "cell_type": "code",
     "collapsed": false,
     "input": [
      "display(Latex(x._repr_latex()))"
     ],
     "language": "python",
     "outputs": [
      {
       "ename": "NameError",
       "evalue": "name 'Latex' is not defined",
       "output_type": "pyerr",
       "traceback": [
        "\u001b[1;31m---------------------------------------------------------------------------\u001b[0m\n\u001b[1;31mNameError\u001b[0m                                 Traceback (most recent call last)",
        "\u001b[1;32m<ipython-input-9-e8d7d526b4df>\u001b[0m in \u001b[0;36m<module>\u001b[1;34m()\u001b[0m\n\u001b[1;32m----> 1\u001b[1;33m \u001b[0mdisplay\u001b[0m\u001b[1;33m(\u001b[0m\u001b[0mLatex\u001b[0m\u001b[1;33m(\u001b[0m\u001b[0mx\u001b[0m\u001b[1;33m.\u001b[0m\u001b[0m_repr_latex\u001b[0m\u001b[1;33m(\u001b[0m\u001b[1;33m)\u001b[0m\u001b[1;33m)\u001b[0m\u001b[1;33m)\u001b[0m\u001b[1;33m\u001b[0m\u001b[0m\n\u001b[0m",
        "\u001b[1;31mNameError\u001b[0m: name 'Latex' is not defined"
       ]
      }
     ],
     "prompt_number": 9
    },
    {
     "cell_type": "code",
     "collapsed": false,
     "input": [
      "c_[np.eye(3), np.eye(3)]"
     ],
     "language": "python",
     "outputs": [
      {
       "output_type": "pyout",
       "prompt_number": 10,
       "text": [
        "array([[ 1.,  0.,  0.,  1.,  0.,  0.],\n",
        "       [ 0.,  1.,  0.,  0.,  1.,  0.],\n",
        "       [ 0.,  0.,  1.,  0.,  0.,  1.]])"
       ]
      }
     ],
     "prompt_number": 10
    },
    {
     "cell_type": "code",
     "collapsed": false,
     "input": [
      "iws.shape"
     ],
     "language": "python",
     "outputs": [
      {
       "ename": "NameError",
       "evalue": "name 'iws' is not defined",
       "output_type": "pyerr",
       "traceback": [
        "\u001b[1;31m---------------------------------------------------------------------------\u001b[0m\n\u001b[1;31mNameError\u001b[0m                                 Traceback (most recent call last)",
        "\u001b[1;32m<ipython-input-11-4503dfaf1840>\u001b[0m in \u001b[0;36m<module>\u001b[1;34m()\u001b[0m\n\u001b[1;32m----> 1\u001b[1;33m \u001b[0miws\u001b[0m\u001b[1;33m.\u001b[0m\u001b[0mshape\u001b[0m\u001b[1;33m\u001b[0m\u001b[0m\n\u001b[0m",
        "\u001b[1;31mNameError\u001b[0m: name 'iws' is not defined"
       ]
      }
     ],
     "prompt_number": 11
    },
    {
     "cell_type": "code",
     "collapsed": false,
     "input": [
      "np.sum(np.log(zhat))"
     ],
     "language": "python",
     "outputs": [
      {
       "output_type": "pyout",
       "prompt_number": 13,
       "text": [
        "-2059.6918493340204"
       ]
      }
     ],
     "prompt_number": 13
    },
    {
     "cell_type": "code",
     "collapsed": false,
     "input": [
      "delta = \n",
      "mixnorm = MixtureNorm([0, 0+delta], [1.0])\n",
      "x = np.linspace(-5, 15, 1000)\n",
      "f = mixnorm.logpdf(x)\n",
      "plot(x, exp(f))\n",
      "\n",
      "x = mixnorm.rvs(1000)\n",
      "f = mixnorm.logpdf(x)\n",
      "print univariate_mhdd(x, f)\n"
     ],
     "language": "python",
     "outputs": [
      {
       "output_type": "stream",
       "stream": "stdout",
       "text": [
        "[-0.042000901895909548, 0.054128442310485747, -0.0015186235950455096, 0.0098225337957480452, -0.024791488311741938, -0.015022141891659846, 0.001358654831237871, -0.006578656002391714, -0.019023864324627882]\n"
       ]
      },
      {
       "output_type": "display_data",
       "png": "[encoded data removed]",
       "text": [
        "<matplotlib.figure.Figure at 0x2ab77cadae50>"
       ]
      }
     ],
     "prompt_number": 180
    }
   ]
  }
 ]
}